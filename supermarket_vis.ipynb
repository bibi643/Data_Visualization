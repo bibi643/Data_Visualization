{
 "cells": [
  {
   "cell_type": "code",
   "execution_count": 7,
   "metadata": {
    "metadata": {}
   },
   "outputs": [],
   "source": [
    "# Libraries\n",
    "import pandas as pd\n",
    "import seaborn as sns\n",
    "import numpy as np\n",
    "# import plotly as plt\n"
   ]
  },
  {
   "cell_type": "markdown",
   "metadata": {},
   "source": [
    "# Import Dataset"
   ]
  },
  {
   "cell_type": "code",
   "execution_count": 8,
   "metadata": {},
   "outputs": [
    {
     "data": {
      "text/html": [
       "<div>\n",
       "<style scoped>\n",
       "    .dataframe tbody tr th:only-of-type {\n",
       "        vertical-align: middle;\n",
       "    }\n",
       "\n",
       "    .dataframe tbody tr th {\n",
       "        vertical-align: top;\n",
       "    }\n",
       "\n",
       "    .dataframe thead th {\n",
       "        text-align: right;\n",
       "    }\n",
       "</style>\n",
       "<table border=\"1\" class=\"dataframe\">\n",
       "  <thead>\n",
       "    <tr style=\"text-align: right;\">\n",
       "      <th></th>\n",
       "      <th>Invoice ID</th>\n",
       "      <th>Branch</th>\n",
       "      <th>City</th>\n",
       "      <th>Customer type</th>\n",
       "      <th>Gender</th>\n",
       "      <th>Product line</th>\n",
       "      <th>Unit price</th>\n",
       "      <th>Quantity</th>\n",
       "      <th>Tax 5%</th>\n",
       "      <th>Total</th>\n",
       "      <th>Date</th>\n",
       "      <th>Time</th>\n",
       "      <th>Payment</th>\n",
       "      <th>cogs</th>\n",
       "      <th>gross margin percentage</th>\n",
       "      <th>gross income</th>\n",
       "      <th>Rating</th>\n",
       "    </tr>\n",
       "  </thead>\n",
       "  <tbody>\n",
       "    <tr>\n",
       "      <th>0</th>\n",
       "      <td>750-67-8428</td>\n",
       "      <td>A</td>\n",
       "      <td>Yangon</td>\n",
       "      <td>Member</td>\n",
       "      <td>Female</td>\n",
       "      <td>Health and beauty</td>\n",
       "      <td>74.69</td>\n",
       "      <td>7</td>\n",
       "      <td>26.1415</td>\n",
       "      <td>548.9715</td>\n",
       "      <td>1/5/2019</td>\n",
       "      <td>13:08</td>\n",
       "      <td>Ewallet</td>\n",
       "      <td>522.83</td>\n",
       "      <td>4.761905</td>\n",
       "      <td>26.1415</td>\n",
       "      <td>9.1</td>\n",
       "    </tr>\n",
       "    <tr>\n",
       "      <th>1</th>\n",
       "      <td>226-31-3081</td>\n",
       "      <td>C</td>\n",
       "      <td>Naypyitaw</td>\n",
       "      <td>Normal</td>\n",
       "      <td>Female</td>\n",
       "      <td>Electronic accessories</td>\n",
       "      <td>15.28</td>\n",
       "      <td>5</td>\n",
       "      <td>3.8200</td>\n",
       "      <td>80.2200</td>\n",
       "      <td>3/8/2019</td>\n",
       "      <td>10:29</td>\n",
       "      <td>Cash</td>\n",
       "      <td>76.40</td>\n",
       "      <td>4.761905</td>\n",
       "      <td>3.8200</td>\n",
       "      <td>9.6</td>\n",
       "    </tr>\n",
       "    <tr>\n",
       "      <th>2</th>\n",
       "      <td>631-41-3108</td>\n",
       "      <td>A</td>\n",
       "      <td>Yangon</td>\n",
       "      <td>Normal</td>\n",
       "      <td>Male</td>\n",
       "      <td>Home and lifestyle</td>\n",
       "      <td>46.33</td>\n",
       "      <td>7</td>\n",
       "      <td>16.2155</td>\n",
       "      <td>340.5255</td>\n",
       "      <td>3/3/2019</td>\n",
       "      <td>13:23</td>\n",
       "      <td>Credit card</td>\n",
       "      <td>324.31</td>\n",
       "      <td>4.761905</td>\n",
       "      <td>16.2155</td>\n",
       "      <td>7.4</td>\n",
       "    </tr>\n",
       "    <tr>\n",
       "      <th>3</th>\n",
       "      <td>123-19-1176</td>\n",
       "      <td>A</td>\n",
       "      <td>Yangon</td>\n",
       "      <td>Member</td>\n",
       "      <td>Male</td>\n",
       "      <td>Health and beauty</td>\n",
       "      <td>58.22</td>\n",
       "      <td>8</td>\n",
       "      <td>23.2880</td>\n",
       "      <td>489.0480</td>\n",
       "      <td>1/27/2019</td>\n",
       "      <td>20:33</td>\n",
       "      <td>Ewallet</td>\n",
       "      <td>465.76</td>\n",
       "      <td>4.761905</td>\n",
       "      <td>23.2880</td>\n",
       "      <td>8.4</td>\n",
       "    </tr>\n",
       "    <tr>\n",
       "      <th>4</th>\n",
       "      <td>373-73-7910</td>\n",
       "      <td>A</td>\n",
       "      <td>Yangon</td>\n",
       "      <td>Normal</td>\n",
       "      <td>Male</td>\n",
       "      <td>Sports and travel</td>\n",
       "      <td>86.31</td>\n",
       "      <td>7</td>\n",
       "      <td>30.2085</td>\n",
       "      <td>634.3785</td>\n",
       "      <td>2/8/2019</td>\n",
       "      <td>10:37</td>\n",
       "      <td>Ewallet</td>\n",
       "      <td>604.17</td>\n",
       "      <td>4.761905</td>\n",
       "      <td>30.2085</td>\n",
       "      <td>5.3</td>\n",
       "    </tr>\n",
       "  </tbody>\n",
       "</table>\n",
       "</div>"
      ],
      "text/plain": [
       "    Invoice ID Branch       City Customer type  Gender  \\\n",
       "0  750-67-8428      A     Yangon        Member  Female   \n",
       "1  226-31-3081      C  Naypyitaw        Normal  Female   \n",
       "2  631-41-3108      A     Yangon        Normal    Male   \n",
       "3  123-19-1176      A     Yangon        Member    Male   \n",
       "4  373-73-7910      A     Yangon        Normal    Male   \n",
       "\n",
       "             Product line  Unit price  Quantity   Tax 5%     Total       Date  \\\n",
       "0       Health and beauty       74.69         7  26.1415  548.9715   1/5/2019   \n",
       "1  Electronic accessories       15.28         5   3.8200   80.2200   3/8/2019   \n",
       "2      Home and lifestyle       46.33         7  16.2155  340.5255   3/3/2019   \n",
       "3       Health and beauty       58.22         8  23.2880  489.0480  1/27/2019   \n",
       "4       Sports and travel       86.31         7  30.2085  634.3785   2/8/2019   \n",
       "\n",
       "    Time      Payment    cogs  gross margin percentage  gross income  Rating  \n",
       "0  13:08      Ewallet  522.83                 4.761905       26.1415     9.1  \n",
       "1  10:29         Cash   76.40                 4.761905        3.8200     9.6  \n",
       "2  13:23  Credit card  324.31                 4.761905       16.2155     7.4  \n",
       "3  20:33      Ewallet  465.76                 4.761905       23.2880     8.4  \n",
       "4  10:37      Ewallet  604.17                 4.761905       30.2085     5.3  "
      ]
     },
     "execution_count": 8,
     "metadata": {},
     "output_type": "execute_result"
    }
   ],
   "source": [
    "df=pd.read_csv('supermarket_sales.csv')\n",
    "df.head()"
   ]
  },
  {
   "cell_type": "markdown",
   "metadata": {},
   "source": [
    "# Big Picture"
   ]
  },
  {
   "cell_type": "code",
   "execution_count": 9,
   "metadata": {},
   "outputs": [
    {
     "data": {
      "text/plain": [
       "Index(['Invoice ID', 'Branch', 'City', 'Customer type', 'Gender',\n",
       "       'Product line', 'Unit price', 'Quantity', 'Tax 5%', 'Total', 'Date',\n",
       "       'Time', 'Payment', 'cogs', 'gross margin percentage', 'gross income',\n",
       "       'Rating'],\n",
       "      dtype='object')"
      ]
     },
     "execution_count": 9,
     "metadata": {},
     "output_type": "execute_result"
    }
   ],
   "source": [
    "df.columns"
   ]
  },
  {
   "cell_type": "code",
   "execution_count": 10,
   "metadata": {},
   "outputs": [
    {
     "name": "stdout",
     "output_type": "stream",
     "text": [
      "Product line transactions: Fashion accessories       178\n",
      "Food and beverages        174\n",
      "Electronic accessories    170\n",
      "Sports and travel         166\n",
      "Home and lifestyle        160\n",
      "Health and beauty         152\n",
      "Name: Product line, dtype: int64\n",
      "Payment transactions: Ewallet        345\n",
      "Cash           344\n",
      "Credit card    311\n",
      "Name: Payment, dtype: int64\n",
      "Gender transactions: Female    501\n",
      "Male      499\n",
      "Name: Gender, dtype: int64\n",
      "City transactions: Yangon       340\n",
      "Mandalay     332\n",
      "Naypyitaw    328\n",
      "Name: City, dtype: int64\n",
      "Branch transactions: A    340\n",
      "B    332\n",
      "C    328\n",
      "Name: Branch, dtype: int64\n"
     ]
    }
   ],
   "source": [
    "df.nunique()\n",
    "print('Product line transactions:',df['Product line'].value_counts())\n",
    "\n",
    "print('Payment transactions:' , df['Payment'].value_counts())\n",
    "\n",
    "print('Gender transactions:' , df['Gender'].value_counts())\n",
    "\n",
    "print('City transactions:', df['City'].value_counts())\n",
    "\n",
    "print('Branch transactions:', df['Branch'].value_counts())"
   ]
  },
  {
   "cell_type": "markdown",
   "metadata": {},
   "source": [
    "The categories Product line, Payment, Gender, Branch, and cities seems to be balanced."
   ]
  },
  {
   "cell_type": "code",
   "execution_count": 11,
   "metadata": {},
   "outputs": [
    {
     "name": "stdout",
     "output_type": "stream",
     "text": [
      "<class 'pandas.core.frame.DataFrame'>\n",
      "RangeIndex: 1000 entries, 0 to 999\n",
      "Data columns (total 17 columns):\n",
      " #   Column                   Non-Null Count  Dtype  \n",
      "---  ------                   --------------  -----  \n",
      " 0   Invoice ID               1000 non-null   object \n",
      " 1   Branch                   1000 non-null   object \n",
      " 2   City                     1000 non-null   object \n",
      " 3   Customer type            1000 non-null   object \n",
      " 4   Gender                   1000 non-null   object \n",
      " 5   Product line             1000 non-null   object \n",
      " 6   Unit price               1000 non-null   float64\n",
      " 7   Quantity                 1000 non-null   int64  \n",
      " 8   Tax 5%                   1000 non-null   float64\n",
      " 9   Total                    1000 non-null   float64\n",
      " 10  Date                     1000 non-null   object \n",
      " 11  Time                     1000 non-null   object \n",
      " 12  Payment                  1000 non-null   object \n",
      " 13  cogs                     1000 non-null   float64\n",
      " 14  gross margin percentage  1000 non-null   float64\n",
      " 15  gross income             1000 non-null   float64\n",
      " 16  Rating                   1000 non-null   float64\n",
      "dtypes: float64(7), int64(1), object(9)\n",
      "memory usage: 132.9+ KB\n"
     ]
    }
   ],
   "source": [
    "df.info()\n",
    "# No missing datas apparently\n"
   ]
  },
  {
   "cell_type": "code",
   "execution_count": 12,
   "metadata": {},
   "outputs": [
    {
     "data": {
      "text/html": [
       "<div>\n",
       "<style scoped>\n",
       "    .dataframe tbody tr th:only-of-type {\n",
       "        vertical-align: middle;\n",
       "    }\n",
       "\n",
       "    .dataframe tbody tr th {\n",
       "        vertical-align: top;\n",
       "    }\n",
       "\n",
       "    .dataframe thead th {\n",
       "        text-align: right;\n",
       "    }\n",
       "</style>\n",
       "<table border=\"1\" class=\"dataframe\">\n",
       "  <thead>\n",
       "    <tr style=\"text-align: right;\">\n",
       "      <th></th>\n",
       "      <th>Unit price</th>\n",
       "      <th>Quantity</th>\n",
       "      <th>Tax 5%</th>\n",
       "      <th>Total</th>\n",
       "      <th>cogs</th>\n",
       "      <th>gross margin percentage</th>\n",
       "      <th>gross income</th>\n",
       "      <th>Rating</th>\n",
       "    </tr>\n",
       "  </thead>\n",
       "  <tbody>\n",
       "    <tr>\n",
       "      <th>count</th>\n",
       "      <td>1000.000000</td>\n",
       "      <td>1000.000000</td>\n",
       "      <td>1000.000000</td>\n",
       "      <td>1000.000000</td>\n",
       "      <td>1000.00000</td>\n",
       "      <td>1.000000e+03</td>\n",
       "      <td>1000.000000</td>\n",
       "      <td>1000.00000</td>\n",
       "    </tr>\n",
       "    <tr>\n",
       "      <th>mean</th>\n",
       "      <td>55.672130</td>\n",
       "      <td>5.510000</td>\n",
       "      <td>15.379369</td>\n",
       "      <td>322.966749</td>\n",
       "      <td>307.58738</td>\n",
       "      <td>4.761905e+00</td>\n",
       "      <td>15.379369</td>\n",
       "      <td>6.97270</td>\n",
       "    </tr>\n",
       "    <tr>\n",
       "      <th>std</th>\n",
       "      <td>26.494628</td>\n",
       "      <td>2.923431</td>\n",
       "      <td>11.708825</td>\n",
       "      <td>245.885335</td>\n",
       "      <td>234.17651</td>\n",
       "      <td>6.131498e-14</td>\n",
       "      <td>11.708825</td>\n",
       "      <td>1.71858</td>\n",
       "    </tr>\n",
       "    <tr>\n",
       "      <th>min</th>\n",
       "      <td>10.080000</td>\n",
       "      <td>1.000000</td>\n",
       "      <td>0.508500</td>\n",
       "      <td>10.678500</td>\n",
       "      <td>10.17000</td>\n",
       "      <td>4.761905e+00</td>\n",
       "      <td>0.508500</td>\n",
       "      <td>4.00000</td>\n",
       "    </tr>\n",
       "    <tr>\n",
       "      <th>25%</th>\n",
       "      <td>32.875000</td>\n",
       "      <td>3.000000</td>\n",
       "      <td>5.924875</td>\n",
       "      <td>124.422375</td>\n",
       "      <td>118.49750</td>\n",
       "      <td>4.761905e+00</td>\n",
       "      <td>5.924875</td>\n",
       "      <td>5.50000</td>\n",
       "    </tr>\n",
       "    <tr>\n",
       "      <th>50%</th>\n",
       "      <td>55.230000</td>\n",
       "      <td>5.000000</td>\n",
       "      <td>12.088000</td>\n",
       "      <td>253.848000</td>\n",
       "      <td>241.76000</td>\n",
       "      <td>4.761905e+00</td>\n",
       "      <td>12.088000</td>\n",
       "      <td>7.00000</td>\n",
       "    </tr>\n",
       "    <tr>\n",
       "      <th>75%</th>\n",
       "      <td>77.935000</td>\n",
       "      <td>8.000000</td>\n",
       "      <td>22.445250</td>\n",
       "      <td>471.350250</td>\n",
       "      <td>448.90500</td>\n",
       "      <td>4.761905e+00</td>\n",
       "      <td>22.445250</td>\n",
       "      <td>8.50000</td>\n",
       "    </tr>\n",
       "    <tr>\n",
       "      <th>max</th>\n",
       "      <td>99.960000</td>\n",
       "      <td>10.000000</td>\n",
       "      <td>49.650000</td>\n",
       "      <td>1042.650000</td>\n",
       "      <td>993.00000</td>\n",
       "      <td>4.761905e+00</td>\n",
       "      <td>49.650000</td>\n",
       "      <td>10.00000</td>\n",
       "    </tr>\n",
       "  </tbody>\n",
       "</table>\n",
       "</div>"
      ],
      "text/plain": [
       "        Unit price     Quantity       Tax 5%        Total        cogs  \\\n",
       "count  1000.000000  1000.000000  1000.000000  1000.000000  1000.00000   \n",
       "mean     55.672130     5.510000    15.379369   322.966749   307.58738   \n",
       "std      26.494628     2.923431    11.708825   245.885335   234.17651   \n",
       "min      10.080000     1.000000     0.508500    10.678500    10.17000   \n",
       "25%      32.875000     3.000000     5.924875   124.422375   118.49750   \n",
       "50%      55.230000     5.000000    12.088000   253.848000   241.76000   \n",
       "75%      77.935000     8.000000    22.445250   471.350250   448.90500   \n",
       "max      99.960000    10.000000    49.650000  1042.650000   993.00000   \n",
       "\n",
       "       gross margin percentage  gross income      Rating  \n",
       "count             1.000000e+03   1000.000000  1000.00000  \n",
       "mean              4.761905e+00     15.379369     6.97270  \n",
       "std               6.131498e-14     11.708825     1.71858  \n",
       "min               4.761905e+00      0.508500     4.00000  \n",
       "25%               4.761905e+00      5.924875     5.50000  \n",
       "50%               4.761905e+00     12.088000     7.00000  \n",
       "75%               4.761905e+00     22.445250     8.50000  \n",
       "max               4.761905e+00     49.650000    10.00000  "
      ]
     },
     "execution_count": 12,
     "metadata": {},
     "output_type": "execute_result"
    }
   ],
   "source": [
    "df.describe()"
   ]
  },
  {
   "cell_type": "markdown",
   "metadata": {},
   "source": [
    "## Change Date Format -> datetime"
   ]
  },
  {
   "cell_type": "code",
   "execution_count": 13,
   "metadata": {},
   "outputs": [],
   "source": [
    "import datetime"
   ]
  },
  {
   "cell_type": "code",
   "execution_count": 14,
   "metadata": {},
   "outputs": [],
   "source": [
    "df['Date']=pd.to_datetime(df['Date'])\n"
   ]
  },
  {
   "cell_type": "code",
   "execution_count": null,
   "metadata": {},
   "outputs": [],
   "source": []
  },
  {
   "cell_type": "markdown",
   "metadata": {},
   "source": [
    "# Seaborn"
   ]
  },
  {
   "cell_type": "code",
   "execution_count": 15,
   "metadata": {},
   "outputs": [
    {
     "data": {
      "text/html": [
       "<div>\n",
       "<style scoped>\n",
       "    .dataframe tbody tr th:only-of-type {\n",
       "        vertical-align: middle;\n",
       "    }\n",
       "\n",
       "    .dataframe tbody tr th {\n",
       "        vertical-align: top;\n",
       "    }\n",
       "\n",
       "    .dataframe thead th {\n",
       "        text-align: right;\n",
       "    }\n",
       "</style>\n",
       "<table border=\"1\" class=\"dataframe\">\n",
       "  <thead>\n",
       "    <tr style=\"text-align: right;\">\n",
       "      <th></th>\n",
       "      <th></th>\n",
       "      <th>median</th>\n",
       "      <th>sum</th>\n",
       "    </tr>\n",
       "    <tr>\n",
       "      <th>Branch</th>\n",
       "      <th>Product line</th>\n",
       "      <th></th>\n",
       "      <th></th>\n",
       "    </tr>\n",
       "  </thead>\n",
       "  <tbody>\n",
       "    <tr>\n",
       "      <th rowspan=\"6\" valign=\"top\">A</th>\n",
       "      <th>Electronic accessories</th>\n",
       "      <td>207.0705</td>\n",
       "      <td>18317.1135</td>\n",
       "    </tr>\n",
       "    <tr>\n",
       "      <th>Fashion accessories</th>\n",
       "      <td>277.6725</td>\n",
       "      <td>16332.5085</td>\n",
       "    </tr>\n",
       "    <tr>\n",
       "      <th>Food and beverages</th>\n",
       "      <td>249.0705</td>\n",
       "      <td>17163.1005</td>\n",
       "    </tr>\n",
       "    <tr>\n",
       "      <th>Health and beauty</th>\n",
       "      <td>217.1820</td>\n",
       "      <td>12597.7530</td>\n",
       "    </tr>\n",
       "    <tr>\n",
       "      <th>Home and lifestyle</th>\n",
       "      <td>263.1300</td>\n",
       "      <td>22417.1955</td>\n",
       "    </tr>\n",
       "    <tr>\n",
       "      <th>Sports and travel</th>\n",
       "      <td>271.2780</td>\n",
       "      <td>19372.6995</td>\n",
       "    </tr>\n",
       "    <tr>\n",
       "      <th rowspan=\"6\" valign=\"top\">B</th>\n",
       "      <th>Electronic accessories</th>\n",
       "      <td>225.0150</td>\n",
       "      <td>17051.4435</td>\n",
       "    </tr>\n",
       "    <tr>\n",
       "      <th>Fashion accessories</th>\n",
       "      <td>185.7555</td>\n",
       "      <td>16413.3165</td>\n",
       "    </tr>\n",
       "    <tr>\n",
       "      <th>Food and beverages</th>\n",
       "      <td>234.8010</td>\n",
       "      <td>15214.8885</td>\n",
       "    </tr>\n",
       "    <tr>\n",
       "      <th>Health and beauty</th>\n",
       "      <td>350.0700</td>\n",
       "      <td>19980.6600</td>\n",
       "    </tr>\n",
       "    <tr>\n",
       "      <th>Home and lifestyle</th>\n",
       "      <td>262.5840</td>\n",
       "      <td>17549.1645</td>\n",
       "    </tr>\n",
       "    <tr>\n",
       "      <th>Sports and travel</th>\n",
       "      <td>275.3100</td>\n",
       "      <td>19988.1990</td>\n",
       "    </tr>\n",
       "    <tr>\n",
       "      <th rowspan=\"6\" valign=\"top\">C</th>\n",
       "      <th>Electronic accessories</th>\n",
       "      <td>272.5800</td>\n",
       "      <td>18968.9745</td>\n",
       "    </tr>\n",
       "    <tr>\n",
       "      <th>Fashion accessories</th>\n",
       "      <td>267.3405</td>\n",
       "      <td>21560.0700</td>\n",
       "    </tr>\n",
       "    <tr>\n",
       "      <th>Food and beverages</th>\n",
       "      <td>292.5405</td>\n",
       "      <td>23766.8550</td>\n",
       "    </tr>\n",
       "    <tr>\n",
       "      <th>Health and beauty</th>\n",
       "      <td>275.6040</td>\n",
       "      <td>16615.3260</td>\n",
       "    </tr>\n",
       "    <tr>\n",
       "      <th>Home and lifestyle</th>\n",
       "      <td>206.7975</td>\n",
       "      <td>13895.5530</td>\n",
       "    </tr>\n",
       "    <tr>\n",
       "      <th>Sports and travel</th>\n",
       "      <td>266.0280</td>\n",
       "      <td>15761.9280</td>\n",
       "    </tr>\n",
       "  </tbody>\n",
       "</table>\n",
       "</div>"
      ],
      "text/plain": [
       "                                 median         sum\n",
       "Branch Product line                                \n",
       "A      Electronic accessories  207.0705  18317.1135\n",
       "       Fashion accessories     277.6725  16332.5085\n",
       "       Food and beverages      249.0705  17163.1005\n",
       "       Health and beauty       217.1820  12597.7530\n",
       "       Home and lifestyle      263.1300  22417.1955\n",
       "       Sports and travel       271.2780  19372.6995\n",
       "B      Electronic accessories  225.0150  17051.4435\n",
       "       Fashion accessories     185.7555  16413.3165\n",
       "       Food and beverages      234.8010  15214.8885\n",
       "       Health and beauty       350.0700  19980.6600\n",
       "       Home and lifestyle      262.5840  17549.1645\n",
       "       Sports and travel       275.3100  19988.1990\n",
       "C      Electronic accessories  272.5800  18968.9745\n",
       "       Fashion accessories     267.3405  21560.0700\n",
       "       Food and beverages      292.5405  23766.8550\n",
       "       Health and beauty       275.6040  16615.3260\n",
       "       Home and lifestyle      206.7975  13895.5530\n",
       "       Sports and travel       266.0280  15761.9280"
      ]
     },
     "execution_count": 15,
     "metadata": {},
     "output_type": "execute_result"
    }
   ],
   "source": [
    "branch_purch_byproduct=df.groupby(by=['Branch','Product line']).Total.agg(['median','sum'])\n",
    "branch_purch_byproduct"
   ]
  },
  {
   "cell_type": "code",
   "execution_count": 16,
   "metadata": {},
   "outputs": [
    {
     "data": {
      "text/html": [
       "<div>\n",
       "<style scoped>\n",
       "    .dataframe tbody tr th:only-of-type {\n",
       "        vertical-align: middle;\n",
       "    }\n",
       "\n",
       "    .dataframe tbody tr th {\n",
       "        vertical-align: top;\n",
       "    }\n",
       "\n",
       "    .dataframe thead th {\n",
       "        text-align: right;\n",
       "    }\n",
       "</style>\n",
       "<table border=\"1\" class=\"dataframe\">\n",
       "  <thead>\n",
       "    <tr style=\"text-align: right;\">\n",
       "      <th></th>\n",
       "      <th>median</th>\n",
       "      <th>sum</th>\n",
       "    </tr>\n",
       "    <tr>\n",
       "      <th>Branch</th>\n",
       "      <th></th>\n",
       "      <th></th>\n",
       "    </tr>\n",
       "  </thead>\n",
       "  <tbody>\n",
       "    <tr>\n",
       "      <th>A</th>\n",
       "      <td>240.82800</td>\n",
       "      <td>106200.3705</td>\n",
       "    </tr>\n",
       "    <tr>\n",
       "      <th>B</th>\n",
       "      <td>252.88200</td>\n",
       "      <td>106197.6720</td>\n",
       "    </tr>\n",
       "    <tr>\n",
       "      <th>C</th>\n",
       "      <td>271.41975</td>\n",
       "      <td>110568.7065</td>\n",
       "    </tr>\n",
       "  </tbody>\n",
       "</table>\n",
       "</div>"
      ],
      "text/plain": [
       "           median          sum\n",
       "Branch                        \n",
       "A       240.82800  106200.3705\n",
       "B       252.88200  106197.6720\n",
       "C       271.41975  110568.7065"
      ]
     },
     "execution_count": 16,
     "metadata": {},
     "output_type": "execute_result"
    }
   ],
   "source": [
    "branch_purch=df.groupby(by='Branch').Total.agg(['median','sum'])\n",
    "branch_purch"
   ]
  },
  {
   "cell_type": "markdown",
   "metadata": {},
   "source": [
    "## Type of Products bought"
   ]
  },
  {
   "cell_type": "markdown",
   "metadata": {},
   "source": [
    "From the previous tables it seems that the 3 branches have a similar global incomes.\n",
    "The difference seems to come how splited those incomes are in the different product lines."
   ]
  },
  {
   "cell_type": "code",
   "execution_count": 17,
   "metadata": {},
   "outputs": [
    {
     "data": {
      "text/plain": [
       "[Text(0, 0, 'A'), Text(1, 0, 'C'), Text(2, 0, 'B')]"
      ]
     },
     "execution_count": 17,
     "metadata": {},
     "output_type": "execute_result"
    },
    {
     "data": {
      "image/png": "[encoded data removed]",
      "text/plain": [
       "<Figure size 640x480 with 1 Axes>"
      ]
     },
     "metadata": {},
     "output_type": "display_data"
    }
   ],
   "source": [
    "branch_count=sns.barplot(df,x='Branch',y='Total')\n",
    "branch_count.set_xticklabels(branch_count.get_xticklabels(),rotation=45,)\n"
   ]
  },
  {
   "cell_type": "code",
   "execution_count": 18,
   "metadata": {},
   "outputs": [
    {
     "data": {
      "image/png": "[encoded data removed]",
      "text/plain": [
       "<Figure size 640x480 with 1 Axes>"
      ]
     },
     "metadata": {},
     "output_type": "display_data"
    }
   ],
   "source": [
    "\n",
    "branch_count=sns.countplot(df,x='Product line',hue='Branch',)\n",
    "branch_count.set_xticklabels(branch_count.get_xticklabels(),rotation=45,)\n",
    "sns.move_legend(branch_count,\"lower right\")"
   ]
  },
  {
   "cell_type": "code",
   "execution_count": 19,
   "metadata": {},
   "outputs": [
    {
     "data": {
      "text/plain": [
       "[Text(0, 0, 'Health and beauty'),\n",
       " Text(1, 0, 'Electronic accessories'),\n",
       " Text(2, 0, 'Home and lifestyle'),\n",
       " Text(3, 0, 'Sports and travel'),\n",
       " Text(4, 0, 'Food and beverages'),\n",
       " Text(5, 0, 'Fashion accessories')]"
      ]
     },
     "execution_count": 19,
     "metadata": {},
     "output_type": "execute_result"
    },
    {
     "data": {
      "image/png": "[encoded data removed]",
      "text/plain": [
       "<Figure size 640x480 with 1 Axes>"
      ]
     },
     "metadata": {},
     "output_type": "display_data"
    }
   ],
   "source": [
    "#By branch\n",
    "product_line_purchase=sns.boxplot(data=df,x='Product line', y='Total',hue='Branch')\n",
    "product_line_purchase.set_xticklabels(product_line_purchase.get_xticklabels(),rotation=45,)"
   ]
  },
  {
   "cell_type": "code",
   "execution_count": 20,
   "metadata": {},
   "outputs": [
    {
     "data": {
      "image/png": "[encoded data removed]",
      "text/plain": [
       "<Figure size 938.25x350 with 3 Axes>"
      ]
     },
     "metadata": {},
     "output_type": "display_data"
    }
   ],
   "source": [
    "g=sns.FacetGrid(df, col='Branch',hue='Product line',height=3.5, aspect=.70)\n",
    "g.map(sns.kdeplot,'Total')\n",
    "g.add_legend()\n",
    "sns.move_legend(g,'upper right')\n",
    "#sns.set_theme(font_scale=1)"
   ]
  },
  {
   "cell_type": "code",
   "execution_count": 21,
   "metadata": {},
   "outputs": [
    {
     "data": {
      "image/png": "[encoded data removed]",
      "text/plain": [
       "<Figure size 795.236x700 with 6 Axes>"
      ]
     },
     "metadata": {},
     "output_type": "display_data"
    }
   ],
   "source": [
    "g=sns.FacetGrid(df,col='Product line',hue='Branch',col_wrap=3,height=3.5, aspect=.70)\n",
    "g.map(sns.kdeplot,'Total')\n",
    "g.add_legend()\n",
    "sns.move_legend(g,'upper right')\n",
    "sns.set_theme(font_scale=0.2)"
   ]
  },
  {
   "cell_type": "markdown",
   "metadata": {},
   "source": [
    "# Day of the week"
   ]
  },
  {
   "cell_type": "code",
   "execution_count": 22,
   "metadata": {},
   "outputs": [
    {
     "data": {
      "text/html": [
       "<div>\n",
       "<style scoped>\n",
       "    .dataframe tbody tr th:only-of-type {\n",
       "        vertical-align: middle;\n",
       "    }\n",
       "\n",
       "    .dataframe tbody tr th {\n",
       "        vertical-align: top;\n",
       "    }\n",
       "\n",
       "    .dataframe thead th {\n",
       "        text-align: right;\n",
       "    }\n",
       "</style>\n",
       "<table border=\"1\" class=\"dataframe\">\n",
       "  <thead>\n",
       "    <tr style=\"text-align: right;\">\n",
       "      <th></th>\n",
       "      <th>Invoice ID</th>\n",
       "      <th>Branch</th>\n",
       "      <th>City</th>\n",
       "      <th>Customer type</th>\n",
       "      <th>Gender</th>\n",
       "      <th>Product line</th>\n",
       "      <th>Unit price</th>\n",
       "      <th>Quantity</th>\n",
       "      <th>Tax 5%</th>\n",
       "      <th>Total</th>\n",
       "      <th>Date</th>\n",
       "      <th>Time</th>\n",
       "      <th>Payment</th>\n",
       "      <th>cogs</th>\n",
       "      <th>gross margin percentage</th>\n",
       "      <th>gross income</th>\n",
       "      <th>Rating</th>\n",
       "      <th>dayweek</th>\n",
       "      <th>Weekday</th>\n",
       "    </tr>\n",
       "  </thead>\n",
       "  <tbody>\n",
       "    <tr>\n",
       "      <th>0</th>\n",
       "      <td>750-67-8428</td>\n",
       "      <td>A</td>\n",
       "      <td>Yangon</td>\n",
       "      <td>Member</td>\n",
       "      <td>Female</td>\n",
       "      <td>Health and beauty</td>\n",
       "      <td>74.69</td>\n",
       "      <td>7</td>\n",
       "      <td>26.1415</td>\n",
       "      <td>548.9715</td>\n",
       "      <td>2019-01-05</td>\n",
       "      <td>13:08</td>\n",
       "      <td>Ewallet</td>\n",
       "      <td>522.83</td>\n",
       "      <td>4.761905</td>\n",
       "      <td>26.1415</td>\n",
       "      <td>9.1</td>\n",
       "      <td>5</td>\n",
       "      <td>Saturday</td>\n",
       "    </tr>\n",
       "    <tr>\n",
       "      <th>1</th>\n",
       "      <td>226-31-3081</td>\n",
       "      <td>C</td>\n",
       "      <td>Naypyitaw</td>\n",
       "      <td>Normal</td>\n",
       "      <td>Female</td>\n",
       "      <td>Electronic accessories</td>\n",
       "      <td>15.28</td>\n",
       "      <td>5</td>\n",
       "      <td>3.8200</td>\n",
       "      <td>80.2200</td>\n",
       "      <td>2019-03-08</td>\n",
       "      <td>10:29</td>\n",
       "      <td>Cash</td>\n",
       "      <td>76.40</td>\n",
       "      <td>4.761905</td>\n",
       "      <td>3.8200</td>\n",
       "      <td>9.6</td>\n",
       "      <td>4</td>\n",
       "      <td>Friday</td>\n",
       "    </tr>\n",
       "    <tr>\n",
       "      <th>2</th>\n",
       "      <td>631-41-3108</td>\n",
       "      <td>A</td>\n",
       "      <td>Yangon</td>\n",
       "      <td>Normal</td>\n",
       "      <td>Male</td>\n",
       "      <td>Home and lifestyle</td>\n",
       "      <td>46.33</td>\n",
       "      <td>7</td>\n",
       "      <td>16.2155</td>\n",
       "      <td>340.5255</td>\n",
       "      <td>2019-03-03</td>\n",
       "      <td>13:23</td>\n",
       "      <td>Credit card</td>\n",
       "      <td>324.31</td>\n",
       "      <td>4.761905</td>\n",
       "      <td>16.2155</td>\n",
       "      <td>7.4</td>\n",
       "      <td>6</td>\n",
       "      <td>Sunday</td>\n",
       "    </tr>\n",
       "    <tr>\n",
       "      <th>3</th>\n",
       "      <td>123-19-1176</td>\n",
       "      <td>A</td>\n",
       "      <td>Yangon</td>\n",
       "      <td>Member</td>\n",
       "      <td>Male</td>\n",
       "      <td>Health and beauty</td>\n",
       "      <td>58.22</td>\n",
       "      <td>8</td>\n",
       "      <td>23.2880</td>\n",
       "      <td>489.0480</td>\n",
       "      <td>2019-01-27</td>\n",
       "      <td>20:33</td>\n",
       "      <td>Ewallet</td>\n",
       "      <td>465.76</td>\n",
       "      <td>4.761905</td>\n",
       "      <td>23.2880</td>\n",
       "      <td>8.4</td>\n",
       "      <td>6</td>\n",
       "      <td>Sunday</td>\n",
       "    </tr>\n",
       "    <tr>\n",
       "      <th>4</th>\n",
       "      <td>373-73-7910</td>\n",
       "      <td>A</td>\n",
       "      <td>Yangon</td>\n",
       "      <td>Normal</td>\n",
       "      <td>Male</td>\n",
       "      <td>Sports and travel</td>\n",
       "      <td>86.31</td>\n",
       "      <td>7</td>\n",
       "      <td>30.2085</td>\n",
       "      <td>634.3785</td>\n",
       "      <td>2019-02-08</td>\n",
       "      <td>10:37</td>\n",
       "      <td>Ewallet</td>\n",
       "      <td>604.17</td>\n",
       "      <td>4.761905</td>\n",
       "      <td>30.2085</td>\n",
       "      <td>5.3</td>\n",
       "      <td>4</td>\n",
       "      <td>Friday</td>\n",
       "    </tr>\n",
       "    <tr>\n",
       "      <th>...</th>\n",
       "      <td>...</td>\n",
       "      <td>...</td>\n",
       "      <td>...</td>\n",
       "      <td>...</td>\n",
       "      <td>...</td>\n",
       "      <td>...</td>\n",
       "      <td>...</td>\n",
       "      <td>...</td>\n",
       "      <td>...</td>\n",
       "      <td>...</td>\n",
       "      <td>...</td>\n",
       "      <td>...</td>\n",
       "      <td>...</td>\n",
       "      <td>...</td>\n",
       "      <td>...</td>\n",
       "      <td>...</td>\n",
       "      <td>...</td>\n",
       "      <td>...</td>\n",
       "      <td>...</td>\n",
       "    </tr>\n",
       "    <tr>\n",
       "      <th>995</th>\n",
       "      <td>233-67-5758</td>\n",
       "      <td>C</td>\n",
       "      <td>Naypyitaw</td>\n",
       "      <td>Normal</td>\n",
       "      <td>Male</td>\n",
       "      <td>Health and beauty</td>\n",
       "      <td>40.35</td>\n",
       "      <td>1</td>\n",
       "      <td>2.0175</td>\n",
       "      <td>42.3675</td>\n",
       "      <td>2019-01-29</td>\n",
       "      <td>13:46</td>\n",
       "      <td>Ewallet</td>\n",
       "      <td>40.35</td>\n",
       "      <td>4.761905</td>\n",
       "      <td>2.0175</td>\n",
       "      <td>6.2</td>\n",
       "      <td>1</td>\n",
       "      <td>Tuesday</td>\n",
       "    </tr>\n",
       "    <tr>\n",
       "      <th>996</th>\n",
       "      <td>303-96-2227</td>\n",
       "      <td>B</td>\n",
       "      <td>Mandalay</td>\n",
       "      <td>Normal</td>\n",
       "      <td>Female</td>\n",
       "      <td>Home and lifestyle</td>\n",
       "      <td>97.38</td>\n",
       "      <td>10</td>\n",
       "      <td>48.6900</td>\n",
       "      <td>1022.4900</td>\n",
       "      <td>2019-03-02</td>\n",
       "      <td>17:16</td>\n",
       "      <td>Ewallet</td>\n",
       "      <td>973.80</td>\n",
       "      <td>4.761905</td>\n",
       "      <td>48.6900</td>\n",
       "      <td>4.4</td>\n",
       "      <td>5</td>\n",
       "      <td>Saturday</td>\n",
       "    </tr>\n",
       "    <tr>\n",
       "      <th>997</th>\n",
       "      <td>727-02-1313</td>\n",
       "      <td>A</td>\n",
       "      <td>Yangon</td>\n",
       "      <td>Member</td>\n",
       "      <td>Male</td>\n",
       "      <td>Food and beverages</td>\n",
       "      <td>31.84</td>\n",
       "      <td>1</td>\n",
       "      <td>1.5920</td>\n",
       "      <td>33.4320</td>\n",
       "      <td>2019-02-09</td>\n",
       "      <td>13:22</td>\n",
       "      <td>Cash</td>\n",
       "      <td>31.84</td>\n",
       "      <td>4.761905</td>\n",
       "      <td>1.5920</td>\n",
       "      <td>7.7</td>\n",
       "      <td>5</td>\n",
       "      <td>Saturday</td>\n",
       "    </tr>\n",
       "    <tr>\n",
       "      <th>998</th>\n",
       "      <td>347-56-2442</td>\n",
       "      <td>A</td>\n",
       "      <td>Yangon</td>\n",
       "      <td>Normal</td>\n",
       "      <td>Male</td>\n",
       "      <td>Home and lifestyle</td>\n",
       "      <td>65.82</td>\n",
       "      <td>1</td>\n",
       "      <td>3.2910</td>\n",
       "      <td>69.1110</td>\n",
       "      <td>2019-02-22</td>\n",
       "      <td>15:33</td>\n",
       "      <td>Cash</td>\n",
       "      <td>65.82</td>\n",
       "      <td>4.761905</td>\n",
       "      <td>3.2910</td>\n",
       "      <td>4.1</td>\n",
       "      <td>4</td>\n",
       "      <td>Friday</td>\n",
       "    </tr>\n",
       "    <tr>\n",
       "      <th>999</th>\n",
       "      <td>849-09-3807</td>\n",
       "      <td>A</td>\n",
       "      <td>Yangon</td>\n",
       "      <td>Member</td>\n",
       "      <td>Female</td>\n",
       "      <td>Fashion accessories</td>\n",
       "      <td>88.34</td>\n",
       "      <td>7</td>\n",
       "      <td>30.9190</td>\n",
       "      <td>649.2990</td>\n",
       "      <td>2019-02-18</td>\n",
       "      <td>13:28</td>\n",
       "      <td>Cash</td>\n",
       "      <td>618.38</td>\n",
       "      <td>4.761905</td>\n",
       "      <td>30.9190</td>\n",
       "      <td>6.6</td>\n",
       "      <td>0</td>\n",
       "      <td>Monday</td>\n",
       "    </tr>\n",
       "  </tbody>\n",
       "</table>\n",
       "<p>1000 rows × 19 columns</p>\n",
       "</div>"
      ],
      "text/plain": [
       "      Invoice ID Branch       City Customer type  Gender  \\\n",
       "0    750-67-8428      A     Yangon        Member  Female   \n",
       "1    226-31-3081      C  Naypyitaw        Normal  Female   \n",
       "2    631-41-3108      A     Yangon        Normal    Male   \n",
       "3    123-19-1176      A     Yangon        Member    Male   \n",
       "4    373-73-7910      A     Yangon        Normal    Male   \n",
       "..           ...    ...        ...           ...     ...   \n",
       "995  233-67-5758      C  Naypyitaw        Normal    Male   \n",
       "996  303-96-2227      B   Mandalay        Normal  Female   \n",
       "997  727-02-1313      A     Yangon        Member    Male   \n",
       "998  347-56-2442      A     Yangon        Normal    Male   \n",
       "999  849-09-3807      A     Yangon        Member  Female   \n",
       "\n",
       "               Product line  Unit price  Quantity   Tax 5%      Total  \\\n",
       "0         Health and beauty       74.69         7  26.1415   548.9715   \n",
       "1    Electronic accessories       15.28         5   3.8200    80.2200   \n",
       "2        Home and lifestyle       46.33         7  16.2155   340.5255   \n",
       "3         Health and beauty       58.22         8  23.2880   489.0480   \n",
       "4         Sports and travel       86.31         7  30.2085   634.3785   \n",
       "..                      ...         ...       ...      ...        ...   \n",
       "995       Health and beauty       40.35         1   2.0175    42.3675   \n",
       "996      Home and lifestyle       97.38        10  48.6900  1022.4900   \n",
       "997      Food and beverages       31.84         1   1.5920    33.4320   \n",
       "998      Home and lifestyle       65.82         1   3.2910    69.1110   \n",
       "999     Fashion accessories       88.34         7  30.9190   649.2990   \n",
       "\n",
       "          Date   Time      Payment    cogs  gross margin percentage  \\\n",
       "0   2019-01-05  13:08      Ewallet  522.83                 4.761905   \n",
       "1   2019-03-08  10:29         Cash   76.40                 4.761905   \n",
       "2   2019-03-03  13:23  Credit card  324.31                 4.761905   \n",
       "3   2019-01-27  20:33      Ewallet  465.76                 4.761905   \n",
       "4   2019-02-08  10:37      Ewallet  604.17                 4.761905   \n",
       "..         ...    ...          ...     ...                      ...   \n",
       "995 2019-01-29  13:46      Ewallet   40.35                 4.761905   \n",
       "996 2019-03-02  17:16      Ewallet  973.80                 4.761905   \n",
       "997 2019-02-09  13:22         Cash   31.84                 4.761905   \n",
       "998 2019-02-22  15:33         Cash   65.82                 4.761905   \n",
       "999 2019-02-18  13:28         Cash  618.38                 4.761905   \n",
       "\n",
       "     gross income  Rating  dayweek   Weekday  \n",
       "0         26.1415     9.1        5  Saturday  \n",
       "1          3.8200     9.6        4    Friday  \n",
       "2         16.2155     7.4        6    Sunday  \n",
       "3         23.2880     8.4        6    Sunday  \n",
       "4         30.2085     5.3        4    Friday  \n",
       "..            ...     ...      ...       ...  \n",
       "995        2.0175     6.2        1   Tuesday  \n",
       "996       48.6900     4.4        5  Saturday  \n",
       "997        1.5920     7.7        5  Saturday  \n",
       "998        3.2910     4.1        4    Friday  \n",
       "999       30.9190     6.6        0    Monday  \n",
       "\n",
       "[1000 rows x 19 columns]"
      ]
     },
     "execution_count": 22,
     "metadata": {},
     "output_type": "execute_result"
    }
   ],
   "source": [
    "from calendar import day_name\n",
    "df['dayweek']=df['Date'].dt.day_of_week\n",
    "df['Weekday']=df['Date'].dt.day_name()\n",
    "\n",
    "df\n"
   ]
  },
  {
   "cell_type": "code",
   "execution_count": 23,
   "metadata": {},
   "outputs": [
    {
     "data": {
      "text/html": [
       "<div>\n",
       "<style scoped>\n",
       "    .dataframe tbody tr th:only-of-type {\n",
       "        vertical-align: middle;\n",
       "    }\n",
       "\n",
       "    .dataframe tbody tr th {\n",
       "        vertical-align: top;\n",
       "    }\n",
       "\n",
       "    .dataframe thead th {\n",
       "        text-align: right;\n",
       "    }\n",
       "</style>\n",
       "<table border=\"1\" class=\"dataframe\">\n",
       "  <thead>\n",
       "    <tr style=\"text-align: right;\">\n",
       "      <th></th>\n",
       "      <th></th>\n",
       "      <th></th>\n",
       "      <th></th>\n",
       "      <th>median</th>\n",
       "      <th>sum</th>\n",
       "    </tr>\n",
       "    <tr>\n",
       "      <th>dayweek</th>\n",
       "      <th>Weekday</th>\n",
       "      <th>Branch</th>\n",
       "      <th>Product line</th>\n",
       "      <th></th>\n",
       "      <th></th>\n",
       "    </tr>\n",
       "  </thead>\n",
       "  <tbody>\n",
       "    <tr>\n",
       "      <th rowspan=\"5\" valign=\"top\">0</th>\n",
       "      <th rowspan=\"5\" valign=\"top\">Monday</th>\n",
       "      <th rowspan=\"5\" valign=\"top\">A</th>\n",
       "      <th>Electronic accessories</th>\n",
       "      <td>194.23950</td>\n",
       "      <td>2347.6215</td>\n",
       "    </tr>\n",
       "    <tr>\n",
       "      <th>Fashion accessories</th>\n",
       "      <td>462.67200</td>\n",
       "      <td>3116.7360</td>\n",
       "    </tr>\n",
       "    <tr>\n",
       "      <th>Food and beverages</th>\n",
       "      <td>202.42425</td>\n",
       "      <td>1193.2620</td>\n",
       "    </tr>\n",
       "    <tr>\n",
       "      <th>Health and beauty</th>\n",
       "      <td>216.43650</td>\n",
       "      <td>2710.7745</td>\n",
       "    </tr>\n",
       "    <tr>\n",
       "      <th>Home and lifestyle</th>\n",
       "      <td>252.25200</td>\n",
       "      <td>2858.5410</td>\n",
       "    </tr>\n",
       "    <tr>\n",
       "      <th>...</th>\n",
       "      <th>...</th>\n",
       "      <th>...</th>\n",
       "      <th>...</th>\n",
       "      <td>...</td>\n",
       "      <td>...</td>\n",
       "    </tr>\n",
       "    <tr>\n",
       "      <th rowspan=\"5\" valign=\"top\">6</th>\n",
       "      <th rowspan=\"5\" valign=\"top\">Sunday</th>\n",
       "      <th rowspan=\"5\" valign=\"top\">C</th>\n",
       "      <th>Fashion accessories</th>\n",
       "      <td>343.05600</td>\n",
       "      <td>2116.1490</td>\n",
       "    </tr>\n",
       "    <tr>\n",
       "      <th>Food and beverages</th>\n",
       "      <td>347.95425</td>\n",
       "      <td>3200.5995</td>\n",
       "    </tr>\n",
       "    <tr>\n",
       "      <th>Health and beauty</th>\n",
       "      <td>293.13900</td>\n",
       "      <td>1748.2290</td>\n",
       "    </tr>\n",
       "    <tr>\n",
       "      <th>Home and lifestyle</th>\n",
       "      <td>338.21550</td>\n",
       "      <td>3312.7815</td>\n",
       "    </tr>\n",
       "    <tr>\n",
       "      <th>Sports and travel</th>\n",
       "      <td>348.30600</td>\n",
       "      <td>2345.4795</td>\n",
       "    </tr>\n",
       "  </tbody>\n",
       "</table>\n",
       "<p>126 rows × 2 columns</p>\n",
       "</div>"
      ],
      "text/plain": [
       "                                                  median        sum\n",
       "dayweek Weekday Branch Product line                                \n",
       "0       Monday  A      Electronic accessories  194.23950  2347.6215\n",
       "                       Fashion accessories     462.67200  3116.7360\n",
       "                       Food and beverages      202.42425  1193.2620\n",
       "                       Health and beauty       216.43650  2710.7745\n",
       "                       Home and lifestyle      252.25200  2858.5410\n",
       "...                                                  ...        ...\n",
       "6       Sunday  C      Fashion accessories     343.05600  2116.1490\n",
       "                       Food and beverages      347.95425  3200.5995\n",
       "                       Health and beauty       293.13900  1748.2290\n",
       "                       Home and lifestyle      338.21550  3312.7815\n",
       "                       Sports and travel       348.30600  2345.4795\n",
       "\n",
       "[126 rows x 2 columns]"
      ]
     },
     "execution_count": 23,
     "metadata": {},
     "output_type": "execute_result"
    }
   ],
   "source": [
    "df_days= df.groupby(by=['dayweek','Weekday','Branch','Product line'])['Total'].agg(['median','sum'])\n",
    "df_days"
   ]
  },
  {
   "cell_type": "code",
   "execution_count": 24,
   "metadata": {},
   "outputs": [
    {
     "data": {
      "text/html": [
       "<div>\n",
       "<style scoped>\n",
       "    .dataframe tbody tr th:only-of-type {\n",
       "        vertical-align: middle;\n",
       "    }\n",
       "\n",
       "    .dataframe tbody tr th {\n",
       "        vertical-align: top;\n",
       "    }\n",
       "\n",
       "    .dataframe thead th {\n",
       "        text-align: right;\n",
       "    }\n",
       "</style>\n",
       "<table border=\"1\" class=\"dataframe\">\n",
       "  <thead>\n",
       "    <tr style=\"text-align: right;\">\n",
       "      <th></th>\n",
       "      <th>Weekday</th>\n",
       "      <th>Branch</th>\n",
       "      <th>Product line</th>\n",
       "      <th>median</th>\n",
       "      <th>sum</th>\n",
       "    </tr>\n",
       "  </thead>\n",
       "  <tbody>\n",
       "    <tr>\n",
       "      <th>0</th>\n",
       "      <td>Monday</td>\n",
       "      <td>A</td>\n",
       "      <td>Electronic accessories</td>\n",
       "      <td>194.23950</td>\n",
       "      <td>2347.6215</td>\n",
       "    </tr>\n",
       "    <tr>\n",
       "      <th>1</th>\n",
       "      <td>Monday</td>\n",
       "      <td>A</td>\n",
       "      <td>Fashion accessories</td>\n",
       "      <td>462.67200</td>\n",
       "      <td>3116.7360</td>\n",
       "    </tr>\n",
       "    <tr>\n",
       "      <th>2</th>\n",
       "      <td>Monday</td>\n",
       "      <td>A</td>\n",
       "      <td>Food and beverages</td>\n",
       "      <td>202.42425</td>\n",
       "      <td>1193.2620</td>\n",
       "    </tr>\n",
       "    <tr>\n",
       "      <th>3</th>\n",
       "      <td>Monday</td>\n",
       "      <td>A</td>\n",
       "      <td>Health and beauty</td>\n",
       "      <td>216.43650</td>\n",
       "      <td>2710.7745</td>\n",
       "    </tr>\n",
       "    <tr>\n",
       "      <th>4</th>\n",
       "      <td>Monday</td>\n",
       "      <td>A</td>\n",
       "      <td>Home and lifestyle</td>\n",
       "      <td>252.25200</td>\n",
       "      <td>2858.5410</td>\n",
       "    </tr>\n",
       "    <tr>\n",
       "      <th>...</th>\n",
       "      <td>...</td>\n",
       "      <td>...</td>\n",
       "      <td>...</td>\n",
       "      <td>...</td>\n",
       "      <td>...</td>\n",
       "    </tr>\n",
       "    <tr>\n",
       "      <th>121</th>\n",
       "      <td>Sunday</td>\n",
       "      <td>C</td>\n",
       "      <td>Fashion accessories</td>\n",
       "      <td>343.05600</td>\n",
       "      <td>2116.1490</td>\n",
       "    </tr>\n",
       "    <tr>\n",
       "      <th>122</th>\n",
       "      <td>Sunday</td>\n",
       "      <td>C</td>\n",
       "      <td>Food and beverages</td>\n",
       "      <td>347.95425</td>\n",
       "      <td>3200.5995</td>\n",
       "    </tr>\n",
       "    <tr>\n",
       "      <th>123</th>\n",
       "      <td>Sunday</td>\n",
       "      <td>C</td>\n",
       "      <td>Health and beauty</td>\n",
       "      <td>293.13900</td>\n",
       "      <td>1748.2290</td>\n",
       "    </tr>\n",
       "    <tr>\n",
       "      <th>124</th>\n",
       "      <td>Sunday</td>\n",
       "      <td>C</td>\n",
       "      <td>Home and lifestyle</td>\n",
       "      <td>338.21550</td>\n",
       "      <td>3312.7815</td>\n",
       "    </tr>\n",
       "    <tr>\n",
       "      <th>125</th>\n",
       "      <td>Sunday</td>\n",
       "      <td>C</td>\n",
       "      <td>Sports and travel</td>\n",
       "      <td>348.30600</td>\n",
       "      <td>2345.4795</td>\n",
       "    </tr>\n",
       "  </tbody>\n",
       "</table>\n",
       "<p>126 rows × 5 columns</p>\n",
       "</div>"
      ],
      "text/plain": [
       "    Weekday Branch            Product line     median        sum\n",
       "0    Monday      A  Electronic accessories  194.23950  2347.6215\n",
       "1    Monday      A     Fashion accessories  462.67200  3116.7360\n",
       "2    Monday      A      Food and beverages  202.42425  1193.2620\n",
       "3    Monday      A       Health and beauty  216.43650  2710.7745\n",
       "4    Monday      A      Home and lifestyle  252.25200  2858.5410\n",
       "..      ...    ...                     ...        ...        ...\n",
       "121  Sunday      C     Fashion accessories  343.05600  2116.1490\n",
       "122  Sunday      C      Food and beverages  347.95425  3200.5995\n",
       "123  Sunday      C       Health and beauty  293.13900  1748.2290\n",
       "124  Sunday      C      Home and lifestyle  338.21550  3312.7815\n",
       "125  Sunday      C       Sports and travel  348.30600  2345.4795\n",
       "\n",
       "[126 rows x 5 columns]"
      ]
     },
     "execution_count": 24,
     "metadata": {},
     "output_type": "execute_result"
    }
   ],
   "source": [
    "df_days=df_days.reset_index()\n",
    "df_days=df_days.drop(columns='dayweek')\n",
    "df_days\n"
   ]
  },
  {
   "cell_type": "code",
   "execution_count": 25,
   "metadata": {},
   "outputs": [
    {
     "name": "stderr",
     "output_type": "stream",
     "text": [
      "/tmp/ipykernel_8770/1571807852.py:2: UserWarning:\n",
      "\n",
      "FixedFormatter should only be used together with FixedLocator\n",
      "\n"
     ]
    },
    {
     "data": {
      "image/png": "[encoded data removed]",
      "text/plain": [
       "<Figure size 640x480 with 1 Axes>"
      ]
     },
     "metadata": {},
     "output_type": "display_data"
    }
   ],
   "source": [
    "week_plt= sns.lineplot(data=df_days, x='Weekday',y='sum',hue='Branch')\n",
    "week_plt.set_xticklabels(week_plt.get_xticklabels(),rotation=45,)\n",
    "sns.set_theme(font_scale=1)\n"
   ]
  },
  {
   "cell_type": "code",
   "execution_count": 26,
   "metadata": {},
   "outputs": [
    {
     "name": "stderr",
     "output_type": "stream",
     "text": [
      "/tmp/ipykernel_8770/3216785487.py:2: UserWarning:\n",
      "\n",
      "FixedFormatter should only be used together with FixedLocator\n",
      "\n"
     ]
    },
    {
     "data": {
      "image/png": "[encoded data removed]",
      "text/plain": [
       "<Figure size 640x480 with 1 Axes>"
      ]
     },
     "metadata": {},
     "output_type": "display_data"
    }
   ],
   "source": [
    "week_plt2= sns.lineplot(data=df_days, x='Weekday',y='sum',hue='Product line')\n",
    "week_plt2.set_xticklabels(week_plt2.get_xticklabels(),rotation=45,)\n",
    "sns.set_theme(font_scale=1)"
   ]
  },
  {
   "cell_type": "markdown",
   "metadata": {},
   "source": [
    "# Plotly"
   ]
  },
  {
   "cell_type": "code",
   "execution_count": 27,
   "metadata": {},
   "outputs": [],
   "source": [
    "import plotly.express as px"
   ]
  },
  {
   "cell_type": "code",
   "execution_count": 30,
   "metadata": {},
   "outputs": [
    {
     "data": {
      "application/vnd.plotly.v1+json": {
       "config": {
        "plotlyServerURL": "https://plot.ly"
       },
       "data": [
        {
         "domain": {
          "x": [
           0,
           1
          ],
          "y": [
           0,
           1
          ]
         },
         "hovertemplate": "Product line=%{label}<br>Total=%{value}<extra></extra>",
         "labels": [
          "Health and beauty",
          "Electronic accessories",
          "Home and lifestyle",
          "Health and beauty",
          "Sports and travel",
          "Electronic accessories",
          "Electronic accessories",
          "Home and lifestyle",
          "Health and beauty",
          "Food and beverages",
          "Fashion accessories",
          "Electronic accessories",
          "Electronic accessories",
          "Food and beverages",
          "Health and beauty",
          "Sports and travel",
          "Health and beauty",
          "Sports and travel",
          "Food and beverages",
          "Home and lifestyle",
          "Electronic accessories",
          "Health and beauty",
          "Home and lifestyle",
          "Electronic accessories",
          "Sports and travel",
          "Home and lifestyle",
          "Fashion accessories",
          "Fashion accessories",
          "Food and beverages",
          "Health and beauty",
          "Fashion accessories",
          "Sports and travel",
          "Sports and travel",
          "Health and beauty",
          "Food and beverages",
          "Sports and travel",
          "Sports and travel",
          "Electronic accessories",
          "Health and beauty",
          "Home and lifestyle",
          "Home and lifestyle",
          "Home and lifestyle",
          "Sports and travel",
          "Food and beverages",
          "Health and beauty",
          "Electronic accessories",
          "Health and beauty",
          "Food and beverages",
          "Electronic accessories",
          "Fashion accessories",
          "Food and beverages",
          "Food and beverages",
          "Fashion accessories",
          "Fashion accessories",
          "Home and lifestyle",
          "Electronic accessories",
          "Home and lifestyle",
          "Health and beauty",
          "Home and lifestyle",
          "Electronic accessories",
          "Sports and travel",
          "Home and lifestyle",
          "Sports and travel",
          "Sports and travel",
          "Health and beauty",
          "Health and beauty",
          "Health and beauty",
          "Fashion accessories",
          "Sports and travel",
          "Health and beauty",
          "Food and beverages",
          "Fashion accessories",
          "Food and beverages",
          "Electronic accessories",
          "Home and lifestyle",
          "Electronic accessories",
          "Fashion accessories",
          "Fashion accessories",
          "Food and beverages",
          "Health and beauty",
          "Health and beauty",
          "Food and beverages",
          "Food and beverages",
          "Food and beverages",
          "Sports and travel",
          "Sports and travel",
          "Fashion accessories",
          "Food and beverages",
          "Sports and travel",
          "Health and beauty",
          "Home and lifestyle",
          "Sports and travel",
          "Sports and travel",
          "Health and beauty",
          "Health and beauty",
          "Electronic accessories",
          "Health and beauty",
          "Electronic accessories",
          "Food and beverages",
          "Home and lifestyle",
          "Fashion accessories",
          "Fashion accessories",
          "Electronic accessories",
          "Food and beverages",
          "Health and beauty",
          "Electronic accessories",
          "Fashion accessories",
          "Sports and travel",
          "Food and beverages",
          "Electronic accessories",
          "Sports and travel",
          "Health and beauty",
          "Fashion accessories",
          "Home and lifestyle",
          "Home and lifestyle",
          "Fashion accessories",
          "Fashion accessories",
          "Fashion accessories",
          "Food and beverages",
          "Home and lifestyle",
          "Electronic accessories",
          "Sports and travel",
          "Sports and travel",
          "Home and lifestyle",
          "Fashion accessories",
          "Home and lifestyle",
          "Sports and travel",
          "Fashion accessories",
          "Food and beverages",
          "Sports and travel",
          "Fashion accessories",
          "Sports and travel",
          "Sports and travel",
          "Electronic accessories",
          "Health and beauty",
          "Fashion accessories",
          "Electronic accessories",
          "Home and lifestyle",
          "Sports and travel",
          "Sports and travel",
          "Sports and travel",
          "Health and beauty",
          "Health and beauty",
          "Food and beverages",
          "Home and lifestyle",
          "Health and beauty",
          "Fashion accessories",
          "Health and beauty",
          "Home and lifestyle",
          "Health and beauty",
          "Fashion accessories",
          "Sports and travel",
          "Fashion accessories",
          "Food and beverages",
          "Sports and travel",
          "Food and beverages",
          "Electronic accessories",
          "Home and lifestyle",
          "Health and beauty",
          "Sports and travel",
          "Food and beverages",
          "Sports and travel",
          "Food and beverages",
          "Sports and travel",
          "Food and beverages",
          "Health and beauty",
          "Home and lifestyle",
          "Fashion accessories",
          "Food and beverages",
          "Sports and travel",
          "Health and beauty",
          "Food and beverages",
          "Electronic accessories",
          "Electronic accessories",
          "Food and beverages",
          "Home and lifestyle",
          "Food and beverages",
          "Fashion accessories",
          "Food and beverages",
          "Health and beauty",
          "Fashion accessories",
          "Food and beverages",
          "Sports and travel",
          "Health and beauty",
          "Sports and travel",
          "Food and beverages",
          "Home and lifestyle",
          "Home and lifestyle",
          "Home and lifestyle",
          "Home and lifestyle",
          "Home and lifestyle",
          "Fashion accessories",
          "Food and beverages",
          "Home and lifestyle",
          "Electronic accessories",
          "Fashion accessories",
          "Health and beauty",
          "Home and lifestyle",
          "Health and beauty",
          "Food and beverages",
          "Sports and travel",
          "Electronic accessories",
          "Electronic accessories",
          "Health and beauty",
          "Home and lifestyle",
          "Health and beauty",
          "Electronic accessories",
          "Home and lifestyle",
          "Fashion accessories",
          "Electronic accessories",
          "Electronic accessories",
          "Food and beverages",
          "Home and lifestyle",
          "Sports and travel",
          "Sports and travel",
          "Home and lifestyle",
          "Sports and travel",
          "Electronic accessories",
          "Fashion accessories",
          "Food and beverages",
          "Electronic accessories",
          "Food and beverages",
          "Electronic accessories",
          "Fashion accessories",
          "Food and beverages",
          "Sports and travel",
          "Health and beauty",
          "Electronic accessories",
          "Electronic accessories",
          "Home and lifestyle",
          "Fashion accessories",
          "Electronic accessories",
          "Health and beauty",
          "Fashion accessories",
          "Health and beauty",
          "Sports and travel",
          "Health and beauty",
          "Fashion accessories",
          "Electronic accessories",
          "Fashion accessories",
          "Food and beverages",
          "Health and beauty",
          "Fashion accessories",
          "Home and lifestyle",
          "Home and lifestyle",
          "Home and lifestyle",
          "Electronic accessories",
          "Fashion accessories",
          "Electronic accessories",
          "Food and beverages",
          "Food and beverages",
          "Fashion accessories",
          "Sports and travel",
          "Home and lifestyle",
          "Home and lifestyle",
          "Fashion accessories",
          "Electronic accessories",
          "Home and lifestyle",
          "Electronic accessories",
          "Electronic accessories",
          "Electronic accessories",
          "Fashion accessories",
          "Fashion accessories",
          "Sports and travel",
          "Sports and travel",
          "Sports and travel",
          "Home and lifestyle",
          "Food and beverages",
          "Home and lifestyle",
          "Home and lifestyle",
          "Sports and travel",
          "Health and beauty",
          "Home and lifestyle",
          "Home and lifestyle",
          "Health and beauty",
          "Fashion accessories",
          "Home and lifestyle",
          "Fashion accessories",
          "Fashion accessories",
          "Sports and travel",
          "Home and lifestyle",
          "Home and lifestyle",
          "Sports and travel",
          "Health and beauty",
          "Health and beauty",
          "Health and beauty",
          "Home and lifestyle",
          "Sports and travel",
          "Food and beverages",
          "Home and lifestyle",
          "Electronic accessories",
          "Electronic accessories",
          "Electronic accessories",
          "Food and beverages",
          "Health and beauty",
          "Electronic accessories",
          "Electronic accessories",
          "Home and lifestyle",
          "Home and lifestyle",
          "Home and lifestyle",
          "Fashion accessories",
          "Health and beauty",
          "Food and beverages",
          "Electronic accessories",
          "Electronic accessories",
          "Electronic accessories",
          "Sports and travel",
          "Home and lifestyle",
          "Electronic accessories",
          "Fashion accessories",
          "Sports and travel",
          "Fashion accessories",
          "Food and beverages",
          "Health and beauty",
          "Electronic accessories",
          "Food and beverages",
          "Food and beverages",
          "Electronic accessories",
          "Health and beauty",
          "Health and beauty",
          "Food and beverages",
          "Health and beauty",
          "Health and beauty",
          "Fashion accessories",
          "Home and lifestyle",
          "Sports and travel",
          "Food and beverages",
          "Food and beverages",
          "Health and beauty",
          "Electronic accessories",
          "Home and lifestyle",
          "Food and beverages",
          "Fashion accessories",
          "Food and beverages",
          "Sports and travel",
          "Electronic accessories",
          "Fashion accessories",
          "Sports and travel",
          "Electronic accessories",
          "Food and beverages",
          "Electronic accessories",
          "Health and beauty",
          "Health and beauty",
          "Food and beverages",
          "Sports and travel",
          "Fashion accessories",
          "Electronic accessories",
          "Home and lifestyle",
          "Electronic accessories",
          "Health and beauty",
          "Fashion accessories",
          "Electronic accessories",
          "Fashion accessories",
          "Home and lifestyle",
          "Electronic accessories",
          "Food and beverages",
          "Fashion accessories",
          "Sports and travel",
          "Electronic accessories",
          "Sports and travel",
          "Food and beverages",
          "Food and beverages",
          "Food and beverages",
          "Home and lifestyle",
          "Food and beverages",
          "Fashion accessories",
          "Electronic accessories",
          "Home and lifestyle",
          "Sports and travel",
          "Electronic accessories",
          "Electronic accessories",
          "Fashion accessories",
          "Home and lifestyle",
          "Fashion accessories",
          "Home and lifestyle",
          "Fashion accessories",
          "Home and lifestyle",
          "Sports and travel",
          "Fashion accessories",
          "Electronic accessories",
          "Sports and travel",
          "Electronic accessories",
          "Food and beverages",
          "Food and beverages",
          "Food and beverages",
          "Sports and travel",
          "Food and beverages",
          "Health and beauty",
          "Fashion accessories",
          "Food and beverages",
          "Fashion accessories",
          "Fashion accessories",
          "Electronic accessories",
          "Sports and travel",
          "Health and beauty",
          "Health and beauty",
          "Food and beverages",
          "Home and lifestyle",
          "Health and beauty",
          "Electronic accessories",
          "Food and beverages",
          "Home and lifestyle",
          "Home and lifestyle",
          "Fashion accessories",
          "Fashion accessories",
          "Sports and travel",
          "Food and beverages",
          "Fashion accessories",
          "Home and lifestyle",
          "Fashion accessories",
          "Health and beauty",
          "Sports and travel",
          "Health and beauty",
          "Sports and travel",
          "Home and lifestyle",
          "Health and beauty",
          "Home and lifestyle",
          "Health and beauty",
          "Health and beauty",
          "Electronic accessories",
          "Food and beverages",
          "Electronic accessories",
          "Fashion accessories",
          "Fashion accessories",
          "Fashion accessories",
          "Fashion accessories",
          "Health and beauty",
          "Food and beverages",
          "Sports and travel",
          "Home and lifestyle",
          "Fashion accessories",
          "Food and beverages",
          "Electronic accessories",
          "Fashion accessories",
          "Fashion accessories",
          "Sports and travel",
          "Sports and travel",
          "Home and lifestyle",
          "Food and beverages",
          "Electronic accessories",
          "Food and beverages",
          "Sports and travel",
          "Home and lifestyle",
          "Fashion accessories",
          "Sports and travel",
          "Health and beauty",
          "Food and beverages",
          "Fashion accessories",
          "Health and beauty",
          "Sports and travel",
          "Electronic accessories",
          "Electronic accessories",
          "Food and beverages",
          "Health and beauty",
          "Electronic accessories",
          "Fashion accessories",
          "Food and beverages",
          "Electronic accessories",
          "Electronic accessories",
          "Food and beverages",
          "Food and beverages",
          "Food and beverages",
          "Sports and travel",
          "Food and beverages",
          "Food and beverages",
          "Sports and travel",
          "Health and beauty",
          "Sports and travel",
          "Food and beverages",
          "Electronic accessories",
          "Home and lifestyle",
          "Sports and travel",
          "Fashion accessories",
          "Health and beauty",
          "Electronic accessories",
          "Health and beauty",
          "Sports and travel",
          "Electronic accessories",
          "Sports and travel",
          "Electronic accessories",
          "Food and beverages",
          "Electronic accessories",
          "Sports and travel",
          "Home and lifestyle",
          "Sports and travel",
          "Sports and travel",
          "Fashion accessories",
          "Fashion accessories",
          "Home and lifestyle",
          "Home and lifestyle",
          "Fashion accessories",
          "Fashion accessories",
          "Health and beauty",
          "Home and lifestyle",
          "Fashion accessories",
          "Sports and travel",
          "Electronic accessories",
          "Food and beverages",
          "Sports and travel",
          "Sports and travel",
          "Sports and travel",
          "Fashion accessories",
          "Home and lifestyle",
          "Sports and travel",
          "Sports and travel",
          "Electronic accessories",
          "Sports and travel",
          "Food and beverages",
          "Health and beauty",
          "Home and lifestyle",
          "Sports and travel",
          "Home and lifestyle",
          "Fashion accessories",
          "Electronic accessories",
          "Sports and travel",
          "Fashion accessories",
          "Health and beauty",
          "Home and lifestyle",
          "Home and lifestyle",
          "Sports and travel",
          "Electronic accessories",
          "Home and lifestyle",
          "Home and lifestyle",
          "Health and beauty",
          "Food and beverages",
          "Sports and travel",
          "Fashion accessories",
          "Fashion accessories",
          "Food and beverages",
          "Sports and travel",
          "Health and beauty",
          "Fashion accessories",
          "Electronic accessories",
          "Food and beverages",
          "Home and lifestyle",
          "Home and lifestyle",
          "Fashion accessories",
          "Home and lifestyle",
          "Fashion accessories",
          "Food and beverages",
          "Home and lifestyle",
          "Health and beauty",
          "Sports and travel",
          "Electronic accessories",
          "Food and beverages",
          "Home and lifestyle",
          "Fashion accessories",
          "Sports and travel",
          "Sports and travel",
          "Electronic accessories",
          "Fashion accessories",
          "Fashion accessories",
          "Health and beauty",
          "Electronic accessories",
          "Electronic accessories",
          "Home and lifestyle",
          "Fashion accessories",
          "Food and beverages",
          "Food and beverages",
          "Home and lifestyle",
          "Electronic accessories",
          "Food and beverages",
          "Electronic accessories",
          "Electronic accessories",
          "Fashion accessories",
          "Food and beverages",
          "Sports and travel",
          "Fashion accessories",
          "Fashion accessories",
          "Sports and travel",
          "Home and lifestyle",
          "Sports and travel",
          "Food and beverages",
          "Food and beverages",
          "Sports and travel",
          "Fashion accessories",
          "Food and beverages",
          "Food and beverages",
          "Health and beauty",
          "Health and beauty",
          "Food and beverages",
          "Health and beauty",
          "Fashion accessories",
          "Fashion accessories",
          "Sports and travel",
          "Health and beauty",
          "Food and beverages",
          "Sports and travel",
          "Fashion accessories",
          "Health and beauty",
          "Health and beauty",
          "Home and lifestyle",
          "Sports and travel",
          "Sports and travel",
          "Sports and travel",
          "Health and beauty",
          "Food and beverages",
          "Sports and travel",
          "Fashion accessories",
          "Home and lifestyle",
          "Electronic accessories",
          "Fashion accessories",
          "Food and beverages",
          "Sports and travel",
          "Fashion accessories",
          "Home and lifestyle",
          "Fashion accessories",
          "Food and beverages",
          "Fashion accessories",
          "Food and beverages",
          "Electronic accessories",
          "Food and beverages",
          "Fashion accessories",
          "Sports and travel",
          "Food and beverages",
          "Sports and travel",
          "Sports and travel",
          "Electronic accessories",
          "Food and beverages",
          "Fashion accessories",
          "Food and beverages",
          "Food and beverages",
          "Home and lifestyle",
          "Fashion accessories",
          "Fashion accessories",
          "Food and beverages",
          "Sports and travel",
          "Health and beauty",
          "Home and lifestyle",
          "Fashion accessories",
          "Sports and travel",
          "Electronic accessories",
          "Food and beverages",
          "Home and lifestyle",
          "Food and beverages",
          "Health and beauty",
          "Health and beauty",
          "Electronic accessories",
          "Food and beverages",
          "Fashion accessories",
          "Food and beverages",
          "Electronic accessories",
          "Electronic accessories",
          "Food and beverages",
          "Electronic accessories",
          "Home and lifestyle",
          "Health and beauty",
          "Fashion accessories",
          "Sports and travel",
          "Electronic accessories",
          "Electronic accessories",
          "Health and beauty",
          "Home and lifestyle",
          "Sports and travel",
          "Fashion accessories",
          "Electronic accessories",
          "Electronic accessories",
          "Fashion accessories",
          "Sports and travel",
          "Fashion accessories",
          "Sports and travel",
          "Sports and travel",
          "Fashion accessories",
          "Food and beverages",
          "Sports and travel",
          "Fashion accessories",
          "Food and beverages",
          "Health and beauty",
          "Health and beauty",
          "Sports and travel",
          "Fashion accessories",
          "Food and beverages",
          "Health and beauty",
          "Health and beauty",
          "Electronic accessories",
          "Fashion accessories",
          "Sports and travel",
          "Food and beverages",
          "Health and beauty",
          "Food and beverages",
          "Electronic accessories",
          "Sports and travel",
          "Fashion accessories",
          "Fashion accessories",
          "Sports and travel",
          "Home and lifestyle",
          "Sports and travel",
          "Home and lifestyle",
          "Sports and travel",
          "Food and beverages",
          "Sports and travel",
          "Food and beverages",
          "Health and beauty",
          "Fashion accessories",
          "Food and beverages",
          "Home and lifestyle",
          "Sports and travel",
          "Home and lifestyle",
          "Electronic accessories",
          "Home and lifestyle",
          "Fashion accessories",
          "Food and beverages",
          "Fashion accessories",
          "Health and beauty",
          "Home and lifestyle",
          "Health and beauty",
          "Electronic accessories",
          "Food and beverages",
          "Fashion accessories",
          "Sports and travel",
          "Food and beverages",
          "Home and lifestyle",
          "Electronic accessories",
          "Health and beauty",
          "Fashion accessories",
          "Health and beauty",
          "Fashion accessories",
          "Electronic accessories",
          "Fashion accessories",
          "Fashion accessories",
          "Fashion accessories",
          "Sports and travel",
          "Home and lifestyle",
          "Food and beverages",
          "Food and beverages",
          "Health and beauty",
          "Home and lifestyle",
          "Sports and travel",
          "Fashion accessories",
          "Home and lifestyle",
          "Fashion accessories",
          "Health and beauty",
          "Fashion accessories",
          "Electronic accessories",
          "Food and beverages",
          "Health and beauty",
          "Home and lifestyle",
          "Electronic accessories",
          "Electronic accessories",
          "Home and lifestyle",
          "Home and lifestyle",
          "Food and beverages",
          "Sports and travel",
          "Home and lifestyle",
          "Sports and travel",
          "Food and beverages",
          "Fashion accessories",
          "Home and lifestyle",
          "Home and lifestyle",
          "Health and beauty",
          "Fashion accessories",
          "Food and beverages",
          "Electronic accessories",
          "Home and lifestyle",
          "Fashion accessories",
          "Fashion accessories",
          "Electronic accessories",
          "Home and lifestyle",
          "Food and beverages",
          "Food and beverages",
          "Food and beverages",
          "Electronic accessories",
          "Fashion accessories",
          "Health and beauty",
          "Health and beauty",
          "Home and lifestyle",
          "Fashion accessories",
          "Sports and travel",
          "Electronic accessories",
          "Home and lifestyle",
          "Sports and travel",
          "Health and beauty",
          "Sports and travel",
          "Food and beverages",
          "Food and beverages",
          "Food and beverages",
          "Health and beauty",
          "Sports and travel",
          "Sports and travel",
          "Electronic accessories",
          "Health and beauty",
          "Sports and travel",
          "Fashion accessories",
          "Home and lifestyle",
          "Health and beauty",
          "Electronic accessories",
          "Electronic accessories",
          "Health and beauty",
          "Health and beauty",
          "Sports and travel",
          "Fashion accessories",
          "Health and beauty",
          "Home and lifestyle",
          "Electronic accessories",
          "Electronic accessories",
          "Fashion accessories",
          "Home and lifestyle",
          "Sports and travel",
          "Health and beauty",
          "Home and lifestyle",
          "Sports and travel",
          "Electronic accessories",
          "Fashion accessories",
          "Fashion accessories",
          "Electronic accessories",
          "Home and lifestyle",
          "Sports and travel",
          "Electronic accessories",
          "Health and beauty",
          "Fashion accessories",
          "Health and beauty",
          "Electronic accessories",
          "Sports and travel",
          "Electronic accessories",
          "Electronic accessories",
          "Food and beverages",
          "Fashion accessories",
          "Food and beverages",
          "Health and beauty",
          "Food and beverages",
          "Electronic accessories",
          "Home and lifestyle",
          "Sports and travel",
          "Health and beauty",
          "Sports and travel",
          "Sports and travel",
          "Health and beauty",
          "Fashion accessories",
          "Electronic accessories",
          "Electronic accessories",
          "Electronic accessories",
          "Health and beauty",
          "Sports and travel",
          "Health and beauty",
          "Home and lifestyle",
          "Fashion accessories",
          "Fashion accessories",
          "Sports and travel",
          "Electronic accessories",
          "Sports and travel",
          "Fashion accessories",
          "Electronic accessories",
          "Sports and travel",
          "Food and beverages",
          "Fashion accessories",
          "Electronic accessories",
          "Electronic accessories",
          "Sports and travel",
          "Food and beverages",
          "Fashion accessories",
          "Fashion accessories",
          "Fashion accessories",
          "Health and beauty",
          "Electronic accessories",
          "Health and beauty",
          "Fashion accessories",
          "Food and beverages",
          "Home and lifestyle",
          "Health and beauty",
          "Food and beverages",
          "Home and lifestyle",
          "Sports and travel",
          "Home and lifestyle",
          "Home and lifestyle",
          "Electronic accessories",
          "Health and beauty",
          "Sports and travel",
          "Health and beauty",
          "Food and beverages",
          "Sports and travel",
          "Food and beverages",
          "Fashion accessories",
          "Electronic accessories",
          "Sports and travel",
          "Home and lifestyle",
          "Home and lifestyle",
          "Fashion accessories",
          "Electronic accessories",
          "Electronic accessories",
          "Electronic accessories",
          "Food and beverages",
          "Fashion accessories",
          "Sports and travel",
          "Home and lifestyle",
          "Food and beverages",
          "Sports and travel",
          "Food and beverages",
          "Electronic accessories",
          "Fashion accessories",
          "Sports and travel",
          "Health and beauty",
          "Electronic accessories",
          "Fashion accessories",
          "Electronic accessories",
          "Electronic accessories",
          "Health and beauty",
          "Fashion accessories",
          "Food and beverages",
          "Health and beauty",
          "Food and beverages",
          "Electronic accessories",
          "Home and lifestyle",
          "Health and beauty",
          "Food and beverages",
          "Health and beauty",
          "Home and lifestyle",
          "Health and beauty",
          "Health and beauty",
          "Food and beverages",
          "Home and lifestyle",
          "Food and beverages",
          "Electronic accessories",
          "Home and lifestyle",
          "Fashion accessories",
          "Food and beverages",
          "Electronic accessories",
          "Sports and travel",
          "Fashion accessories",
          "Home and lifestyle",
          "Electronic accessories",
          "Home and lifestyle",
          "Home and lifestyle",
          "Home and lifestyle",
          "Sports and travel",
          "Sports and travel",
          "Electronic accessories",
          "Sports and travel",
          "Health and beauty",
          "Electronic accessories",
          "Sports and travel",
          "Home and lifestyle",
          "Fashion accessories",
          "Food and beverages",
          "Health and beauty",
          "Home and lifestyle",
          "Home and lifestyle",
          "Health and beauty",
          "Sports and travel",
          "Health and beauty",
          "Food and beverages",
          "Food and beverages",
          "Fashion accessories",
          "Home and lifestyle",
          "Health and beauty",
          "Health and beauty",
          "Electronic accessories",
          "Electronic accessories",
          "Fashion accessories",
          "Home and lifestyle",
          "Food and beverages",
          "Health and beauty",
          "Home and lifestyle",
          "Food and beverages",
          "Food and beverages",
          "Home and lifestyle",
          "Fashion accessories",
          "Food and beverages",
          "Electronic accessories",
          "Home and lifestyle",
          "Food and beverages",
          "Fashion accessories",
          "Electronic accessories",
          "Fashion accessories",
          "Electronic accessories",
          "Food and beverages",
          "Electronic accessories",
          "Home and lifestyle",
          "Home and lifestyle",
          "Health and beauty",
          "Electronic accessories",
          "Food and beverages",
          "Home and lifestyle",
          "Electronic accessories",
          "Home and lifestyle",
          "Fashion accessories",
          "Fashion accessories",
          "Food and beverages",
          "Food and beverages",
          "Electronic accessories",
          "Food and beverages",
          "Food and beverages",
          "Health and beauty",
          "Sports and travel",
          "Health and beauty",
          "Electronic accessories",
          "Fashion accessories",
          "Health and beauty",
          "Health and beauty",
          "Electronic accessories",
          "Health and beauty",
          "Food and beverages",
          "Sports and travel",
          "Electronic accessories",
          "Fashion accessories",
          "Electronic accessories",
          "Health and beauty",
          "Home and lifestyle",
          "Food and beverages",
          "Home and lifestyle",
          "Fashion accessories"
         ],
         "legendgroup": "",
         "name": "",
         "showlegend": true,
         "type": "pie",
         "values": [
          548.9715,
          80.22,
          340.5255,
          489.048,
          634.3785,
          627.6165,
          433.692,
          772.38,
          76.146,
          172.746,
          60.816,
          107.142,
          246.4875,
          453.495,
          749.49,
          590.436,
          506.6355,
          457.443,
          172.2105,
          84.63,
          451.71,
          277.137,
          69.72,
          181.44,
          279.1845,
          441.756,
          35.196,
          184.107,
          463.89,
          235.2105,
          494.1825,
          737.7615,
          703.752,
          202.818,
          417.564,
          71.526,
          328.755,
          575.316,
          461.328,
          253.008,
          91.056,
          117.831,
          435.456,
          829.08,
          32.277,
          394.632,
          535.7205,
          189.0945,
          119.259,
          867.615,
          671.79,
          234.0975,
          75.054,
          16.2015,
          33.936,
          722.232,
          93.114,
          752.64,
          759.675,
          192.843,
          77.931,
          351.099,
          520.4115,
          166.005,
          318.108,
          166.635,
          70.287,
          614.943,
          827.085,
          19.2465,
          939.54,
          652.26,
          152.838,
          478.233,
          705.6315,
          437.325,
          463.428,
          189.0945,
          822.255,
          106.995,
          624.897,
          304.542,
          161.7,
          337.512,
          256.7775,
          610.491,
          401.73,
          362.943,
          44.5935,
          485.037,
          198.996,
          471.03,
          161.553,
          608.202,
          94.2375,
          102.018,
          922.635,
          78.435,
          166.1625,
          521.01,
          51.1455,
          742.2975,
          218.0115,
          367.038,
          223.0725,
          931.035,
          172.494,
          391.419,
          321.111,
          860.685,
          34.629,
          309.3615,
          535.374,
          548.7615,
          763.4655,
          85.113,
          115.185,
          53.928,
          115.08,
          112.224,
          836.304,
          419.832,
          944.622,
          536.844,
          474.348,
          688.6215,
          169.3125,
          299.8485,
          575.736,
          853.146,
          291.207,
          580.419,
          146.328,
          550.935,
          512.19,
          284.193,
          138.1275,
          216.846,
          545.055,
          609,
          942.9,
          950.25,
          720.3,
          31.9305,
          491.085,
          291.438,
          316.47,
          277.788,
          603.624,
          272.664,
          384.468,
          254.016,
          786.618,
          103.824,
          680.148,
          484.5225,
          75.7785,
          263.97,
          918.729,
          588.357,
          362.712,
          66.8745,
          336.5565,
          160.44,
          418.95,
          357.588,
          1003.59,
          1039.29,
          323.064,
          510.972,
          367.5525,
          420.2625,
          175.14,
          333.207,
          166.236,
          319.788,
          186.228,
          165.4485,
          465.444,
          273.42,
          472.311,
          323.148,
          162.75,
          288.204,
          90.699,
          56.952,
          793.716,
          195.174,
          77.7735,
          293.202,
          242.676,
          154.392,
          829.71,
          107.31,
          171.7275,
          78.0045,
          91.77,
          26.5545,
          174.3,
          374.7975,
          120.645,
          241.458,
          451.3635,
          271.95,
          93.2925,
          217.6335,
          629.8425,
          299.565,
          95.6655,
          942.4485,
          247.8735,
          881.307,
          484.89,
          146.223,
          217.6335,
          19.194,
          130.0425,
          298.116,
          796.908,
          180.621,
          285.705,
          456.288,
          62.0025,
          13.167,
          90.825,
          183.036,
          655.5465,
          155.652,
          571.41,
          532.728,
          170.877,
          33.3585,
          794.6505,
          310.044,
          545.37,
          195.594,
          91.4025,
          232.155,
          69.405,
          94.1745,
          235.683,
          125.517,
          195.72,
          263.13,
          788.508,
          399.756,
          256.41,
          94.185,
          326.424,
          536.991,
          439.8975,
          369.495,
          30.219,
          99.75,
          494.76,
          137.004,
          69.6675,
          163.233,
          135.45,
          276.948,
          709.317,
          69.09,
          160.86,
          233.52,
          57.1725,
          723.24,
          148.974,
          783.3,
          297.108,
          373.17,
          354.0075,
          44.352,
          203.553,
          25.263,
          628.173,
          352.5795,
          229.11,
          400.764,
          745.395,
          462.21,
          587.664,
          38.85,
          16.107,
          628.929,
          200.214,
          350.07,
          78.603,
          224.4375,
          356.5485,
          697.368,
          423.15,
          204.6975,
          65.604,
          76.356,
          190.155,
          272.58,
          121.128,
          493.794,
          252.042,
          93.0405,
          209.622,
          40.9605,
          51.0405,
          214.998,
          125.664,
          530.67,
          295.6905,
          745.836,
          83.412,
          172.011,
          503.559,
          145.593,
          74.7075,
          146.9475,
          820.365,
          208.677,
          66.402,
          392.6475,
          218.0745,
          185.094,
          216.6885,
          41.391,
          96.138,
          324.2925,
          135.576,
          410.508,
          523.845,
          395.892,
          214.746,
          152.712,
          208.089,
          103.635,
          404.355,
          49.308,
          77.175,
          149.3625,
          721.98,
          365.085,
          150.0975,
          404.649,
          151.4835,
          411.3795,
          565.215,
          509.4075,
          140.6475,
          736.4385,
          75.5475,
          749.7,
          191.247,
          141.75,
          1042.65,
          379.9215,
          402.2655,
          255.15,
          31.752,
          374.388,
          394.275,
          1002.12,
          86.625,
          78.7185,
          680.064,
          793.548,
          209.559,
          461.286,
          173.208,
          343.056,
          484.974,
          276.948,
          150.78,
          203.175,
          193.011,
          128.016,
          441.693,
          265.104,
          352.2225,
          507.675,
          334.341,
          701.8515,
          407.316,
          99.33,
          345.786,
          55.881,
          523.3725,
          314.538,
          214.935,
          79.611,
          294.651,
          339.36,
          510.9615,
          133.917,
          253.512,
          398.475,
          80.661,
          548.73,
          83.727,
          406.875,
          284.9175,
          128.4255,
          258.678,
          181.818,
          248.409,
          194.124,
          14.679,
          208.6875,
          718.7565,
          282.492,
          72.3975,
          288.582,
          237.426,
          125.055,
          359.205,
          45.927,
          110.0925,
          81.396,
          427.812,
          100.9155,
          190.596,
          85.5855,
          120.162,
          185.367,
          121.59,
          264.7575,
          1020.705,
          213.528,
          17.094,
          383.7645,
          390.7995,
          65.7405,
          353.1675,
          951.825,
          145.068,
          90.867,
          147.798,
          702.219,
          49.812,
          937.818,
          348.306,
          214.137,
          71.568,
          343.224,
          91.56,
          742.812,
          843.0345,
          13.419,
          140.385,
          20.1075,
          290.43,
          144.081,
          28.4235,
          41.076,
          470.673,
          138.663,
          333.9525,
          26.25,
          87.234,
          155.19,
          731.43,
          833.595,
          488.985,
          37.6845,
          212.73,
          767.025,
          310.59,
          23.751,
          269.535,
          572.775,
          273.0525,
          233.226,
          22.659,
          103.782,
          527.751,
          168.21,
          452.865,
          609.588,
          338.31,
          205.317,
          174.615,
          353.094,
          360.885,
          40.53,
          554.148,
          344.4,
          194.985,
          633.99,
          388.29,
          207.858,
          431.445,
          156.03,
          24.108,
          734.076,
          72.87,
          206.43,
          212.688,
          127.26,
          209.769,
          637.728,
          132.762,
          568.512,
          103.0365,
          432.768,
          77.6685,
          33.495,
          145.74,
          195.951,
          92.8725,
          203.112,
          152.775,
          529.515,
          321.7725,
          100.485,
          666.939,
          225.2775,
          398.958,
          731.6925,
          429.1665,
          54.0435,
          288.015,
          206.7975,
          72.933,
          377.58,
          143.9865,
          523.971,
          235.872,
          132.027,
          514.773,
          479.9025,
          164.682,
          125.706,
          570.78,
          926.9505,
          160.209,
          728.112,
          240.975,
          154.1295,
          148.68,
          122.5245,
          77.658,
          102.837,
          306.81,
          551.124,
          96.642,
          79.674,
          84.756,
          118.251,
          74.76,
          163.002,
          308.91,
          575.9775,
          270.585,
          416.178,
          180.4005,
          513.2295,
          550.368,
          139.923,
          142.002,
          118.062,
          151.284,
          1034.46,
          262.458,
          228.123,
          203.931,
          936.6,
          356.328,
          469.413,
          208.425,
          852.705,
          517.965,
          621.243,
          586.971,
          543.753,
          430.71,
          280.035,
          74.4555,
          152.019,
          451.0275,
          597.6285,
          253.26,
          133.434,
          269.934,
          145.971,
          85.743,
          326.256,
          195.258,
          75.936,
          198.639,
          217.182,
          164.871,
          226.065,
          625.905,
          76.755,
          293.139,
          178.164,
          47.859,
          236.88,
          304.92,
          46.683,
          164.43,
          440.937,
          193.4625,
          147.672,
          87.234,
          68.2395,
          814.38,
          343.413,
          381.3915,
          133.35,
          394.3275,
          209.118,
          32.1405,
          121.569,
          30.408,
          935.2665,
          293.643,
          84.9765,
          708.225,
          365.904,
          457.38,
          461.5275,
          620.739,
          273.798,
          225.792,
          96.1905,
          695.2365,
          874.125,
          95.9175,
          165.648,
          127.827,
          867.09,
          167.895,
          12.6945,
          673.995,
          246.6765,
          175.917,
          314.055,
          251.7165,
          697.935,
          212.7825,
          48.51,
          92.5575,
          165.123,
          311.1885,
          743.82,
          116.907,
          609.168,
          63.2625,
          182.952,
          442.323,
          35.3115,
          32.529,
          259.77,
          397.215,
          351.603,
          764.19,
          352.674,
          252.756,
          49.4235,
          104.6745,
          277.6725,
          146.6325,
          58.2225,
          135.3555,
          125.979,
          370.125,
          914.55,
          207.48,
          204.246,
          181.881,
          75.474,
          300.573,
          85.302,
          588.42,
          196.14,
          231.2415,
          282.576,
          477.54,
          175.917,
          470.988,
          308.574,
          618.975,
          305.55,
          41.454,
          36.5505,
          310.716,
          45.108,
          145.404,
          103.11,
          136.143,
          667.38,
          153.048,
          211.365,
          663.2955,
          404.544,
          510.615,
          539.343,
          497.07,
          458.6925,
          113.568,
          261.198,
          657.531,
          1023.75,
          507.444,
          101.808,
          207.585,
          760.4415,
          835.2855,
          527.5095,
          180.6,
          72.429,
          131.208,
          80.955,
          507.906,
          317.226,
          733.6035,
          130.8825,
          829.08,
          187.32,
          525.231,
          37.611,
          142.947,
          110.124,
          187.866,
          856.4535,
          138.978,
          270.2595,
          98.028,
          239.4,
          175.0455,
          732.27,
          408.492,
          383.523,
          93.744,
          176.4,
          20.685,
          557.718,
          56.406,
          860.475,
          596.82,
          616.98,
          769.104,
          887.922,
          408.7335,
          89.0715,
          150.423,
          79.149,
          266.028,
          40.341,
          684.915,
          55.2825,
          116.1405,
          597.0405,
          93.744,
          143.22,
          182.91,
          384.72,
          267.3405,
          817.236,
          300.216,
          608.076,
          197.925,
          232.638,
          810.6,
          757.365,
          536.592,
          56.1225,
          233.1,
          801.864,
          239.589,
          86.247,
          401.688,
          72.009,
          401.268,
          631.1445,
          499.7265,
          55.041,
          137.865,
          151.515,
          480.0285,
          98.049,
          132.5625,
          830.3715,
          183.12,
          397.992,
          32.151,
          369.684,
          53.34,
          548.163,
          603.876,
          57.6975,
          190.4805,
          432.9885,
          48.7305,
          287.91,
          1022.385,
          680.61,
          97.881,
          57.078,
          63.9135,
          257.145,
          97.419,
          455.1225,
          144.963,
          253.68,
          495.3165,
          462.672,
          714.3255,
          325.374,
          195.678,
          210.966,
          18.6375,
          652.89,
          90.3,
          422.73,
          341.0925,
          99.9075,
          408.408,
          446.964,
          333.984,
          284.592,
          403.872,
          247.59,
          222.138,
          100.128,
          10.6785,
          216.4365,
          441.588,
          92.442,
          681.4395,
          130.032,
          681.975,
          779.31,
          88.704,
          262.794,
          99.54,
          95.865,
          299.3655,
          54.999,
          202.335,
          281.169,
          586.635,
          184.086,
          163.611,
          63.315,
          82.887,
          31.227,
          22.386,
          295.407,
          76.923,
          23.499,
          688.716,
          624.33,
          77.805,
          206.808,
          390.9465,
          554.295,
          503.7375,
          345.0195,
          177.408,
          118.902,
          362.817,
          450.1035,
          90.5835,
          26.796,
          106.596,
          375.3645,
          250.7085,
          106.5015,
          760.452,
          131.922,
          76.5765,
          271.278,
          182.427,
          59.325,
          225.015,
          561.078,
          97.818,
          548.184,
          54.9675,
          41.7375,
          756.168,
          101.64,
          348.705,
          85.512,
          335.895,
          216.846,
          175.014,
          335.013,
          92.295,
          771.435,
          102.396,
          807.66,
          439.215,
          486.444,
          485.5725,
          148.995,
          317.835,
          832.944,
          446.439,
          297.801,
          629.16,
          331.128,
          423.738,
          193.074,
          145.5825,
          84.7455,
          122.472,
          329.196,
          888.405,
          435.12,
          167.034,
          514.605,
          91.8225,
          235.746,
          782.208,
          431.256,
          313.74,
          223.587,
          44.9925,
          397.614,
          217.2555,
          82.719,
          338.2155,
          103.131,
          26.733,
          611.079,
          221.886,
          57.876,
          92.7255,
          374.409,
          833.9625,
          53.151,
          629.496,
          175.035,
          781.62,
          470.988,
          397.845,
          270.018,
          579.8415,
          469.77,
          290.0835,
          360.927,
          279.384,
          943.299,
          479.64,
          266.6475,
          74.088,
          690.018,
          176.925,
          56.469,
          188.0025,
          222.012,
          125.7165,
          68.985,
          263.97,
          88.368,
          415.233,
          312.8895,
          477.1305,
          289.926,
          165.9,
          932.337,
          96.579,
          43.869,
          16.275,
          304.983,
          69.993,
          80.367,
          314.685,
          255.1815,
          49.77,
          181.0725,
          888.615,
          271.2885,
          640.038,
          252.252,
          180.873,
          104.832,
          313.572,
          167.58,
          26.7225,
          71.1585,
          250.278,
          244.23,
          921.186,
          734.706,
          708.3195,
          334.4775,
          30.996,
          520.8,
          864.57,
          633.108,
          296.94,
          804.3,
          121.863,
          183.645,
          63.9975,
          42.3675,
          1022.49,
          33.432,
          69.111,
          649.299
         ]
        }
       ],
       "layout": {
        "legend": {
         "tracegroupgap": 0
        },
        "template": {
         "data": {
          "bar": [
           {
            "error_x": {
             "color": "#2a3f5f"
            },
            "error_y": {
             "color": "#2a3f5f"
            },
            "marker": {
             "line": {
              "color": "#E5ECF6",
              "width": 0.5
             },
             "pattern": {
              "fillmode": "overlay",
              "size": 10,
              "solidity": 0.2
             }
            },
            "type": "bar"
           }
          ],
          "barpolar": [
           {
            "marker": {
             "line": {
              "color": "#E5ECF6",
              "width": 0.5
             },
             "pattern": {
              "fillmode": "overlay",
              "size": 10,
              "solidity": 0.2
             }
            },
            "type": "barpolar"
           }
          ],
          "carpet": [
           {
            "aaxis": {
             "endlinecolor": "#2a3f5f",
             "gridcolor": "white",
             "linecolor": "white",
             "minorgridcolor": "white",
             "startlinecolor": "#2a3f5f"
            },
            "baxis": {
             "endlinecolor": "#2a3f5f",
             "gridcolor": "white",
             "linecolor": "white",
             "minorgridcolor": "white",
             "startlinecolor": "#2a3f5f"
            },
            "type": "carpet"
           }
          ],
          "choropleth": [
           {
            "colorbar": {
             "outlinewidth": 0,
             "ticks": ""
            },
            "type": "choropleth"
           }
          ],
          "contour": [
           {
            "colorbar": {
             "outlinewidth": 0,
             "ticks": ""
            },
            "colorscale": [
             [
              0,
              "#0d0887"
             ],
             [
              0.1111111111111111,
              "#46039f"
             ],
             [
              0.2222222222222222,
              "#7201a8"
             ],
             [
              0.3333333333333333,
              "#9c179e"
             ],
             [
              0.4444444444444444,
              "#bd3786"
             ],
             [
              0.5555555555555556,
              "#d8576b"
             ],
             [
              0.6666666666666666,
              "#ed7953"
             ],
             [
              0.7777777777777778,
              "#fb9f3a"
             ],
             [
              0.8888888888888888,
              "#fdca26"
             ],
             [
              1,
              "#f0f921"
             ]
            ],
            "type": "contour"
           }
          ],
          "contourcarpet": [
           {
            "colorbar": {
             "outlinewidth": 0,
             "ticks": ""
            },
            "type": "contourcarpet"
           }
          ],
          "heatmap": [
           {
            "colorbar": {
             "outlinewidth": 0,
             "ticks": ""
            },
            "colorscale": [
             [
              0,
              "#0d0887"
             ],
             [
              0.1111111111111111,
              "#46039f"
             ],
             [
              0.2222222222222222,
              "#7201a8"
             ],
             [
              0.3333333333333333,
              "#9c179e"
             ],
             [
              0.4444444444444444,
              "#bd3786"
             ],
             [
              0.5555555555555556,
              "#d8576b"
             ],
             [
              0.6666666666666666,
              "#ed7953"
             ],
             [
              0.7777777777777778,
              "#fb9f3a"
             ],
             [
              0.8888888888888888,
              "#fdca26"
             ],
             [
              1,
              "#f0f921"
             ]
            ],
            "type": "heatmap"
           }
          ],
          "heatmapgl": [
           {
            "colorbar": {
             "outlinewidth": 0,
             "ticks": ""
            },
            "colorscale": [
             [
              0,
              "#0d0887"
             ],
             [
              0.1111111111111111,
              "#46039f"
             ],
             [
              0.2222222222222222,
              "#7201a8"
             ],
             [
              0.3333333333333333,
              "#9c179e"
             ],
             [
              0.4444444444444444,
              "#bd3786"
             ],
             [
              0.5555555555555556,
              "#d8576b"
             ],
             [
              0.6666666666666666,
              "#ed7953"
             ],
             [
              0.7777777777777778,
              "#fb9f3a"
             ],
             [
              0.8888888888888888,
              "#fdca26"
             ],
             [
              1,
              "#f0f921"
             ]
            ],
            "type": "heatmapgl"
           }
          ],
          "histogram": [
           {
            "marker": {
             "pattern": {
              "fillmode": "overlay",
              "size": 10,
              "solidity": 0.2
             }
            },
            "type": "histogram"
           }
          ],
          "histogram2d": [
           {
            "colorbar": {
             "outlinewidth": 0,
             "ticks": ""
            },
            "colorscale": [
             [
              0,
              "#0d0887"
             ],
             [
              0.1111111111111111,
              "#46039f"
             ],
             [
              0.2222222222222222,
              "#7201a8"
             ],
             [
              0.3333333333333333,
              "#9c179e"
             ],
             [
              0.4444444444444444,
              "#bd3786"
             ],
             [
              0.5555555555555556,
              "#d8576b"
             ],
             [
              0.6666666666666666,
              "#ed7953"
             ],
             [
              0.7777777777777778,
              "#fb9f3a"
             ],
             [
              0.8888888888888888,
              "#fdca26"
             ],
             [
              1,
              "#f0f921"
             ]
            ],
            "type": "histogram2d"
           }
          ],
          "histogram2dcontour": [
           {
            "colorbar": {
             "outlinewidth": 0,
             "ticks": ""
            },
            "colorscale": [
             [
              0,
              "#0d0887"
             ],
             [
              0.1111111111111111,
              "#46039f"
             ],
             [
              0.2222222222222222,
              "#7201a8"
             ],
             [
              0.3333333333333333,
              "#9c179e"
             ],
             [
              0.4444444444444444,
              "#bd3786"
             ],
             [
              0.5555555555555556,
              "#d8576b"
             ],
             [
              0.6666666666666666,
              "#ed7953"
             ],
             [
              0.7777777777777778,
              "#fb9f3a"
             ],
             [
              0.8888888888888888,
              "#fdca26"
             ],
             [
              1,
              "#f0f921"
             ]
            ],
            "type": "histogram2dcontour"
           }
          ],
          "mesh3d": [
           {
            "colorbar": {
             "outlinewidth": 0,
             "ticks": ""
            },
            "type": "mesh3d"
           }
          ],
          "parcoords": [
           {
            "line": {
             "colorbar": {
              "outlinewidth": 0,
              "ticks": ""
             }
            },
            "type": "parcoords"
           }
          ],
          "pie": [
           {
            "automargin": true,
            "type": "pie"
           }
          ],
          "scatter": [
           {
            "fillpattern": {
             "fillmode": "overlay",
             "size": 10,
             "solidity": 0.2
            },
            "type": "scatter"
           }
          ],
          "scatter3d": [
           {
            "line": {
             "colorbar": {
              "outlinewidth": 0,
              "ticks": ""
             }
            },
            "marker": {
             "colorbar": {
              "outlinewidth": 0,
              "ticks": ""
             }
            },
            "type": "scatter3d"
           }
          ],
          "scattercarpet": [
           {
            "marker": {
             "colorbar": {
              "outlinewidth": 0,
              "ticks": ""
             }
            },
            "type": "scattercarpet"
           }
          ],
          "scattergeo": [
           {
            "marker": {
             "colorbar": {
              "outlinewidth": 0,
              "ticks": ""
             }
            },
            "type": "scattergeo"
           }
          ],
          "scattergl": [
           {
            "marker": {
             "colorbar": {
              "outlinewidth": 0,
              "ticks": ""
             }
            },
            "type": "scattergl"
           }
          ],
          "scattermapbox": [
           {
            "marker": {
             "colorbar": {
              "outlinewidth": 0,
              "ticks": ""
             }
            },
            "type": "scattermapbox"
           }
          ],
          "scatterpolar": [
           {
            "marker": {
             "colorbar": {
              "outlinewidth": 0,
              "ticks": ""
             }
            },
            "type": "scatterpolar"
           }
          ],
          "scatterpolargl": [
           {
            "marker": {
             "colorbar": {
              "outlinewidth": 0,
              "ticks": ""
             }
            },
            "type": "scatterpolargl"
           }
          ],
          "scatterternary": [
           {
            "marker": {
             "colorbar": {
              "outlinewidth": 0,
              "ticks": ""
             }
            },
            "type": "scatterternary"
           }
          ],
          "surface": [
           {
            "colorbar": {
             "outlinewidth": 0,
             "ticks": ""
            },
            "colorscale": [
             [
              0,
              "#0d0887"
             ],
             [
              0.1111111111111111,
              "#46039f"
             ],
             [
              0.2222222222222222,
              "#7201a8"
             ],
             [
              0.3333333333333333,
              "#9c179e"
             ],
             [
              0.4444444444444444,
              "#bd3786"
             ],
             [
              0.5555555555555556,
              "#d8576b"
             ],
             [
              0.6666666666666666,
              "#ed7953"
             ],
             [
              0.7777777777777778,
              "#fb9f3a"
             ],
             [
              0.8888888888888888,
              "#fdca26"
             ],
             [
              1,
              "#f0f921"
             ]
            ],
            "type": "surface"
           }
          ],
          "table": [
           {
            "cells": {
             "fill": {
              "color": "#EBF0F8"
             },
             "line": {
              "color": "white"
             }
            },
            "header": {
             "fill": {
              "color": "#C8D4E3"
             },
             "line": {
              "color": "white"
             }
            },
            "type": "table"
           }
          ]
         },
         "layout": {
          "annotationdefaults": {
           "arrowcolor": "#2a3f5f",
           "arrowhead": 0,
           "arrowwidth": 1
          },
          "autotypenumbers": "strict",
          "coloraxis": {
           "colorbar": {
            "outlinewidth": 0,
            "ticks": ""
           }
          },
          "colorscale": {
           "diverging": [
            [
             0,
             "#8e0152"
            ],
            [
             0.1,
             "#c51b7d"
            ],
            [
             0.2,
             "#de77ae"
            ],
            [
             0.3,
             "#f1b6da"
            ],
            [
             0.4,
             "#fde0ef"
            ],
            [
             0.5,
             "#f7f7f7"
            ],
            [
             0.6,
             "#e6f5d0"
            ],
            [
             0.7,
             "#b8e186"
            ],
            [
             0.8,
             "#7fbc41"
            ],
            [
             0.9,
             "#4d9221"
            ],
            [
             1,
             "#276419"
            ]
           ],
           "sequential": [
            [
             0,
             "#0d0887"
            ],
            [
             0.1111111111111111,
             "#46039f"
            ],
            [
             0.2222222222222222,
             "#7201a8"
            ],
            [
             0.3333333333333333,
             "#9c179e"
            ],
            [
             0.4444444444444444,
             "#bd3786"
            ],
            [
             0.5555555555555556,
             "#d8576b"
            ],
            [
             0.6666666666666666,
             "#ed7953"
            ],
            [
             0.7777777777777778,
             "#fb9f3a"
            ],
            [
             0.8888888888888888,
             "#fdca26"
            ],
            [
             1,
             "#f0f921"
            ]
           ],
           "sequentialminus": [
            [
             0,
             "#0d0887"
            ],
            [
             0.1111111111111111,
             "#46039f"
            ],
            [
             0.2222222222222222,
             "#7201a8"
            ],
            [
             0.3333333333333333,
             "#9c179e"
            ],
            [
             0.4444444444444444,
             "#bd3786"
            ],
            [
             0.5555555555555556,
             "#d8576b"
            ],
            [
             0.6666666666666666,
             "#ed7953"
            ],
            [
             0.7777777777777778,
             "#fb9f3a"
            ],
            [
             0.8888888888888888,
             "#fdca26"
            ],
            [
             1,
             "#f0f921"
            ]
           ]
          },
          "colorway": [
           "#636efa",
           "#EF553B",
           "#00cc96",
           "#ab63fa",
           "#FFA15A",
           "#19d3f3",
           "#FF6692",
           "#B6E880",
           "#FF97FF",
           "#FECB52"
          ],
          "font": {
           "color": "#2a3f5f"
          },
          "geo": {
           "bgcolor": "white",
           "lakecolor": "white",
           "landcolor": "#E5ECF6",
           "showlakes": true,
           "showland": true,
           "subunitcolor": "white"
          },
          "hoverlabel": {
           "align": "left"
          },
          "hovermode": "closest",
          "mapbox": {
           "style": "light"
          },
          "paper_bgcolor": "white",
          "plot_bgcolor": "#E5ECF6",
          "polar": {
           "angularaxis": {
            "gridcolor": "white",
            "linecolor": "white",
            "ticks": ""
           },
           "bgcolor": "#E5ECF6",
           "radialaxis": {
            "gridcolor": "white",
            "linecolor": "white",
            "ticks": ""
           }
          },
          "scene": {
           "xaxis": {
            "backgroundcolor": "#E5ECF6",
            "gridcolor": "white",
            "gridwidth": 2,
            "linecolor": "white",
            "showbackground": true,
            "ticks": "",
            "zerolinecolor": "white"
           },
           "yaxis": {
            "backgroundcolor": "#E5ECF6",
            "gridcolor": "white",
            "gridwidth": 2,
            "linecolor": "white",
            "showbackground": true,
            "ticks": "",
            "zerolinecolor": "white"
           },
           "zaxis": {
            "backgroundcolor": "#E5ECF6",
            "gridcolor": "white",
            "gridwidth": 2,
            "linecolor": "white",
            "showbackground": true,
            "ticks": "",
            "zerolinecolor": "white"
           }
          },
          "shapedefaults": {
           "line": {
            "color": "#2a3f5f"
           }
          },
          "ternary": {
           "aaxis": {
            "gridcolor": "white",
            "linecolor": "white",
            "ticks": ""
           },
           "baxis": {
            "gridcolor": "white",
            "linecolor": "white",
            "ticks": ""
           },
           "bgcolor": "#E5ECF6",
           "caxis": {
            "gridcolor": "white",
            "linecolor": "white",
            "ticks": ""
           }
          },
          "title": {
           "x": 0.05
          },
          "xaxis": {
           "automargin": true,
           "gridcolor": "white",
           "linecolor": "white",
           "ticks": "",
           "title": {
            "standoff": 15
           },
           "zerolinecolor": "white",
           "zerolinewidth": 2
          },
          "yaxis": {
           "automargin": true,
           "gridcolor": "white",
           "linecolor": "white",
           "ticks": "",
           "title": {
            "standoff": 15
           },
           "zerolinecolor": "white",
           "zerolinewidth": 2
          }
         }
        },
        "title": {
         "text": "Total generated by each Product line"
        }
       }
      }
     },
     "metadata": {},
     "output_type": "display_data"
    }
   ],
   "source": [
    "fig= px.pie(df,values='Total',names='Product line',title='Total generated by each Product line')\n",
    "fig.show()"
   ]
  },
  {
   "cell_type": "markdown",
   "metadata": {},
   "source": [
    " We can see how well distributed the transactions for each Product line are."
   ]
  },
  {
   "cell_type": "code",
   "execution_count": 31,
   "metadata": {},
   "outputs": [
    {
     "data": {
      "application/vnd.plotly.v1+json": {
       "config": {
        "plotlyServerURL": "https://plot.ly"
       },
       "data": [
        {
         "domain": {
          "x": [
           0,
           1
          ],
          "y": [
           0,
           1
          ]
         },
         "hovertemplate": "Branch=%{label}<br>Total=%{value}<extra></extra>",
         "labels": [
          "A",
          "C",
          "A",
          "A",
          "A",
          "C",
          "A",
          "C",
          "A",
          "B",
          "B",
          "B",
          "A",
          "A",
          "A",
          "B",
          "A",
          "A",
          "A",
          "B",
          "C",
          "B",
          "B",
          "A",
          "A",
          "A",
          "B",
          "A",
          "B",
          "A",
          "B",
          "B",
          "B",
          "A",
          "C",
          "C",
          "A",
          "A",
          "C",
          "B",
          "B",
          "C",
          "B",
          "C",
          "C",
          "B",
          "B",
          "B",
          "B",
          "C",
          "C",
          "A",
          "B",
          "C",
          "B",
          "C",
          "A",
          "A",
          "A",
          "C",
          "C",
          "C",
          "B",
          "A",
          "B",
          "A",
          "C",
          "B",
          "A",
          "A",
          "C",
          "C",
          "B",
          "C",
          "A",
          "C",
          "C",
          "A",
          "C",
          "C",
          "C",
          "B",
          "C",
          "C",
          "C",
          "C",
          "C",
          "A",
          "A",
          "B",
          "C",
          "C",
          "A",
          "B",
          "C",
          "A",
          "B",
          "C",
          "A",
          "B",
          "C",
          "C",
          "C",
          "A",
          "B",
          "A",
          "C",
          "A",
          "C",
          "C",
          "B",
          "C",
          "B",
          "A",
          "C",
          "C",
          "B",
          "B",
          "A",
          "B",
          "A",
          "C",
          "B",
          "C",
          "B",
          "A",
          "A",
          "C",
          "C",
          "B",
          "B",
          "A",
          "B",
          "B",
          "C",
          "C",
          "A",
          "A",
          "B",
          "A",
          "C",
          "C",
          "C",
          "C",
          "A",
          "C",
          "A",
          "C",
          "B",
          "A",
          "B",
          "C",
          "A",
          "C",
          "C",
          "A",
          "B",
          "B",
          "B",
          "B",
          "C",
          "A",
          "A",
          "C",
          "B",
          "B",
          "C",
          "A",
          "A",
          "A",
          "A",
          "B",
          "C",
          "B",
          "B",
          "A",
          "A",
          "C",
          "A",
          "C",
          "C",
          "C",
          "A",
          "C",
          "A",
          "B",
          "B",
          "B",
          "A",
          "C",
          "B",
          "B",
          "C",
          "B",
          "A",
          "C",
          "C",
          "A",
          "C",
          "C",
          "C",
          "B",
          "C",
          "B",
          "B",
          "A",
          "C",
          "C",
          "B",
          "B",
          "A",
          "C",
          "B",
          "B",
          "B",
          "A",
          "B",
          "A",
          "B",
          "B",
          "B",
          "B",
          "C",
          "C",
          "A",
          "C",
          "B",
          "C",
          "B",
          "A",
          "B",
          "B",
          "B",
          "B",
          "A",
          "A",
          "C",
          "C",
          "B",
          "A",
          "A",
          "A",
          "C",
          "A",
          "B",
          "A",
          "B",
          "A",
          "A",
          "B",
          "B",
          "C",
          "C",
          "A",
          "A",
          "B",
          "A",
          "A",
          "A",
          "C",
          "A",
          "C",
          "B",
          "A",
          "B",
          "A",
          "C",
          "B",
          "A",
          "A",
          "B",
          "C",
          "A",
          "A",
          "B",
          "B",
          "C",
          "C",
          "C",
          "A",
          "A",
          "C",
          "A",
          "A",
          "A",
          "B",
          "C",
          "C",
          "B",
          "A",
          "B",
          "C",
          "A",
          "A",
          "B",
          "C",
          "C",
          "A",
          "A",
          "C",
          "C",
          "B",
          "C",
          "A",
          "B",
          "A",
          "A",
          "A",
          "A",
          "A",
          "B",
          "C",
          "A",
          "A",
          "C",
          "C",
          "C",
          "C",
          "C",
          "C",
          "C",
          "C",
          "A",
          "A",
          "A",
          "B",
          "A",
          "C",
          "B",
          "A",
          "B",
          "A",
          "A",
          "A",
          "C",
          "A",
          "A",
          "B",
          "C",
          "B",
          "B",
          "B",
          "B",
          "C",
          "A",
          "A",
          "A",
          "C",
          "A",
          "B",
          "C",
          "A",
          "B",
          "B",
          "C",
          "B",
          "C",
          "C",
          "B",
          "B",
          "A",
          "C",
          "C",
          "A",
          "C",
          "C",
          "C",
          "A",
          "C",
          "A",
          "B",
          "B",
          "C",
          "C",
          "A",
          "A",
          "B",
          "C",
          "C",
          "B",
          "A",
          "C",
          "B",
          "C",
          "A",
          "B",
          "C",
          "A",
          "C",
          "B",
          "C",
          "B",
          "A",
          "A",
          "A",
          "A",
          "A",
          "B",
          "B",
          "B",
          "C",
          "C",
          "C",
          "B",
          "C",
          "A",
          "A",
          "B",
          "A",
          "C",
          "B",
          "B",
          "A",
          "A",
          "A",
          "B",
          "C",
          "C",
          "B",
          "A",
          "C",
          "C",
          "C",
          "B",
          "C",
          "B",
          "A",
          "B",
          "B",
          "A",
          "B",
          "C",
          "A",
          "B",
          "B",
          "C",
          "C",
          "A",
          "C",
          "C",
          "C",
          "B",
          "A",
          "C",
          "A",
          "B",
          "C",
          "C",
          "B",
          "B",
          "B",
          "B",
          "A",
          "A",
          "A",
          "B",
          "B",
          "B",
          "C",
          "C",
          "C",
          "B",
          "C",
          "C",
          "A",
          "C",
          "C",
          "B",
          "C",
          "C",
          "C",
          "A",
          "A",
          "B",
          "A",
          "A",
          "A",
          "C",
          "B",
          "A",
          "C",
          "C",
          "A",
          "B",
          "C",
          "B",
          "B",
          "A",
          "C",
          "B",
          "B",
          "A",
          "B",
          "C",
          "B",
          "B",
          "C",
          "C",
          "B",
          "A",
          "B",
          "C",
          "C",
          "B",
          "B",
          "A",
          "B",
          "B",
          "B",
          "C",
          "B",
          "A",
          "A",
          "A",
          "C",
          "C",
          "B",
          "C",
          "A",
          "C",
          "B",
          "C",
          "A",
          "C",
          "A",
          "A",
          "B",
          "B",
          "B",
          "A",
          "A",
          "A",
          "B",
          "C",
          "A",
          "C",
          "B",
          "A",
          "A",
          "C",
          "A",
          "C",
          "B",
          "C",
          "B",
          "B",
          "A",
          "A",
          "B",
          "A",
          "B",
          "B",
          "B",
          "C",
          "A",
          "B",
          "B",
          "C",
          "A",
          "A",
          "B",
          "C",
          "B",
          "A",
          "B",
          "A",
          "C",
          "A",
          "B",
          "C",
          "B",
          "B",
          "A",
          "B",
          "A",
          "B",
          "B",
          "C",
          "A",
          "B",
          "C",
          "A",
          "C",
          "B",
          "B",
          "A",
          "A",
          "A",
          "C",
          "A",
          "C",
          "C",
          "A",
          "A",
          "B",
          "B",
          "A",
          "C",
          "C",
          "A",
          "C",
          "C",
          "C",
          "B",
          "C",
          "B",
          "A",
          "C",
          "A",
          "B",
          "A",
          "C",
          "B",
          "C",
          "A",
          "A",
          "B",
          "C",
          "A",
          "C",
          "A",
          "A",
          "B",
          "B",
          "B",
          "B",
          "A",
          "B",
          "A",
          "A",
          "A",
          "A",
          "A",
          "B",
          "B",
          "B",
          "A",
          "C",
          "B",
          "B",
          "B",
          "C",
          "B",
          "C",
          "C",
          "A",
          "C",
          "B",
          "C",
          "C",
          "B",
          "B",
          "A",
          "B",
          "B",
          "A",
          "C",
          "A",
          "A",
          "A",
          "B",
          "C",
          "B",
          "C",
          "C",
          "A",
          "B",
          "B",
          "C",
          "B",
          "A",
          "B",
          "B",
          "C",
          "A",
          "B",
          "B",
          "A",
          "C",
          "A",
          "B",
          "B",
          "C",
          "A",
          "B",
          "B",
          "B",
          "A",
          "C",
          "A",
          "C",
          "C",
          "A",
          "C",
          "C",
          "A",
          "A",
          "B",
          "A",
          "C",
          "C",
          "B",
          "B",
          "B",
          "B",
          "B",
          "B",
          "C",
          "C",
          "A",
          "A",
          "C",
          "C",
          "C",
          "C",
          "A",
          "A",
          "A",
          "A",
          "B",
          "B",
          "C",
          "B",
          "C",
          "B",
          "C",
          "C",
          "B",
          "C",
          "B",
          "A",
          "A",
          "A",
          "B",
          "B",
          "C",
          "C",
          "C",
          "B",
          "A",
          "C",
          "C",
          "A",
          "A",
          "C",
          "C",
          "B",
          "C",
          "B",
          "C",
          "B",
          "A",
          "A",
          "B",
          "C",
          "A",
          "B",
          "A",
          "A",
          "A",
          "B",
          "B",
          "A",
          "A",
          "A",
          "B",
          "C",
          "B",
          "B",
          "A",
          "B",
          "C",
          "C",
          "C",
          "C",
          "B",
          "C",
          "B",
          "C",
          "B",
          "C",
          "A",
          "A",
          "C",
          "C",
          "A",
          "C",
          "C",
          "C",
          "A",
          "A",
          "C",
          "B",
          "A",
          "A",
          "B",
          "C",
          "A",
          "B",
          "C",
          "B",
          "C",
          "C",
          "A",
          "B",
          "A",
          "A",
          "A",
          "B",
          "C",
          "B",
          "A",
          "C",
          "A",
          "A",
          "B",
          "C",
          "A",
          "B",
          "B",
          "B",
          "A",
          "C",
          "A",
          "B",
          "A",
          "B",
          "A",
          "C",
          "A",
          "A",
          "B",
          "B",
          "A",
          "B",
          "A",
          "A",
          "B",
          "C",
          "C",
          "A",
          "B",
          "A",
          "C",
          "A",
          "A",
          "A",
          "C",
          "C",
          "A",
          "A",
          "A",
          "C",
          "B",
          "A",
          "B",
          "B",
          "A",
          "B",
          "A",
          "C",
          "A",
          "B",
          "B",
          "A",
          "C",
          "B",
          "C",
          "C",
          "A",
          "A",
          "C",
          "B",
          "A",
          "A",
          "C",
          "C",
          "B",
          "A",
          "B",
          "B",
          "C",
          "B",
          "A",
          "A",
          "A",
          "A",
          "A",
          "C",
          "A",
          "C",
          "B",
          "C",
          "B",
          "B",
          "B",
          "C",
          "C",
          "C",
          "A",
          "C",
          "B",
          "A",
          "A",
          "C",
          "C",
          "C",
          "B",
          "A",
          "B",
          "B",
          "C",
          "A",
          "A",
          "A",
          "C",
          "C",
          "A",
          "B",
          "B",
          "C",
          "B",
          "C",
          "C",
          "C",
          "B",
          "B",
          "A",
          "B",
          "B",
          "B",
          "C",
          "A",
          "C",
          "B",
          "C",
          "C",
          "A",
          "A",
          "C",
          "A",
          "C",
          "A",
          "A",
          "A",
          "A",
          "C",
          "B",
          "C",
          "B",
          "B",
          "B",
          "B",
          "C",
          "B",
          "A",
          "C",
          "B",
          "C",
          "A",
          "C",
          "A",
          "A",
          "C",
          "B",
          "B",
          "A",
          "A",
          "A",
          "B",
          "B",
          "B",
          "B",
          "A",
          "C",
          "B",
          "A",
          "B",
          "B",
          "B",
          "C",
          "A",
          "A",
          "C",
          "C",
          "B",
          "B",
          "B",
          "C",
          "B",
          "A",
          "B",
          "A",
          "B",
          "C",
          "C",
          "B",
          "A",
          "A",
          "A"
         ],
         "legendgroup": "",
         "name": "",
         "showlegend": true,
         "type": "pie",
         "values": [
          548.9715,
          80.22,
          340.5255,
          489.048,
          634.3785,
          627.6165,
          433.692,
          772.38,
          76.146,
          172.746,
          60.816,
          107.142,
          246.4875,
          453.495,
          749.49,
          590.436,
          506.6355,
          457.443,
          172.2105,
          84.63,
          451.71,
          277.137,
          69.72,
          181.44,
          279.1845,
          441.756,
          35.196,
          184.107,
          463.89,
          235.2105,
          494.1825,
          737.7615,
          703.752,
          202.818,
          417.564,
          71.526,
          328.755,
          575.316,
          461.328,
          253.008,
          91.056,
          117.831,
          435.456,
          829.08,
          32.277,
          394.632,
          535.7205,
          189.0945,
          119.259,
          867.615,
          671.79,
          234.0975,
          75.054,
          16.2015,
          33.936,
          722.232,
          93.114,
          752.64,
          759.675,
          192.843,
          77.931,
          351.099,
          520.4115,
          166.005,
          318.108,
          166.635,
          70.287,
          614.943,
          827.085,
          19.2465,
          939.54,
          652.26,
          152.838,
          478.233,
          705.6315,
          437.325,
          463.428,
          189.0945,
          822.255,
          106.995,
          624.897,
          304.542,
          161.7,
          337.512,
          256.7775,
          610.491,
          401.73,
          362.943,
          44.5935,
          485.037,
          198.996,
          471.03,
          161.553,
          608.202,
          94.2375,
          102.018,
          922.635,
          78.435,
          166.1625,
          521.01,
          51.1455,
          742.2975,
          218.0115,
          367.038,
          223.0725,
          931.035,
          172.494,
          391.419,
          321.111,
          860.685,
          34.629,
          309.3615,
          535.374,
          548.7615,
          763.4655,
          85.113,
          115.185,
          53.928,
          115.08,
          112.224,
          836.304,
          419.832,
          944.622,
          536.844,
          474.348,
          688.6215,
          169.3125,
          299.8485,
          575.736,
          853.146,
          291.207,
          580.419,
          146.328,
          550.935,
          512.19,
          284.193,
          138.1275,
          216.846,
          545.055,
          609,
          942.9,
          950.25,
          720.3,
          31.9305,
          491.085,
          291.438,
          316.47,
          277.788,
          603.624,
          272.664,
          384.468,
          254.016,
          786.618,
          103.824,
          680.148,
          484.5225,
          75.7785,
          263.97,
          918.729,
          588.357,
          362.712,
          66.8745,
          336.5565,
          160.44,
          418.95,
          357.588,
          1003.59,
          1039.29,
          323.064,
          510.972,
          367.5525,
          420.2625,
          175.14,
          333.207,
          166.236,
          319.788,
          186.228,
          165.4485,
          465.444,
          273.42,
          472.311,
          323.148,
          162.75,
          288.204,
          90.699,
          56.952,
          793.716,
          195.174,
          77.7735,
          293.202,
          242.676,
          154.392,
          829.71,
          107.31,
          171.7275,
          78.0045,
          91.77,
          26.5545,
          174.3,
          374.7975,
          120.645,
          241.458,
          451.3635,
          271.95,
          93.2925,
          217.6335,
          629.8425,
          299.565,
          95.6655,
          942.4485,
          247.8735,
          881.307,
          484.89,
          146.223,
          217.6335,
          19.194,
          130.0425,
          298.116,
          796.908,
          180.621,
          285.705,
          456.288,
          62.0025,
          13.167,
          90.825,
          183.036,
          655.5465,
          155.652,
          571.41,
          532.728,
          170.877,
          33.3585,
          794.6505,
          310.044,
          545.37,
          195.594,
          91.4025,
          232.155,
          69.405,
          94.1745,
          235.683,
          125.517,
          195.72,
          263.13,
          788.508,
          399.756,
          256.41,
          94.185,
          326.424,
          536.991,
          439.8975,
          369.495,
          30.219,
          99.75,
          494.76,
          137.004,
          69.6675,
          163.233,
          135.45,
          276.948,
          709.317,
          69.09,
          160.86,
          233.52,
          57.1725,
          723.24,
          148.974,
          783.3,
          297.108,
          373.17,
          354.0075,
          44.352,
          203.553,
          25.263,
          628.173,
          352.5795,
          229.11,
          400.764,
          745.395,
          462.21,
          587.664,
          38.85,
          16.107,
          628.929,
          200.214,
          350.07,
          78.603,
          224.4375,
          356.5485,
          697.368,
          423.15,
          204.6975,
          65.604,
          76.356,
          190.155,
          272.58,
          121.128,
          493.794,
          252.042,
          93.0405,
          209.622,
          40.9605,
          51.0405,
          214.998,
          125.664,
          530.67,
          295.6905,
          745.836,
          83.412,
          172.011,
          503.559,
          145.593,
          74.7075,
          146.9475,
          820.365,
          208.677,
          66.402,
          392.6475,
          218.0745,
          185.094,
          216.6885,
          41.391,
          96.138,
          324.2925,
          135.576,
          410.508,
          523.845,
          395.892,
          214.746,
          152.712,
          208.089,
          103.635,
          404.355,
          49.308,
          77.175,
          149.3625,
          721.98,
          365.085,
          150.0975,
          404.649,
          151.4835,
          411.3795,
          565.215,
          509.4075,
          140.6475,
          736.4385,
          75.5475,
          749.7,
          191.247,
          141.75,
          1042.65,
          379.9215,
          402.2655,
          255.15,
          31.752,
          374.388,
          394.275,
          1002.12,
          86.625,
          78.7185,
          680.064,
          793.548,
          209.559,
          461.286,
          173.208,
          343.056,
          484.974,
          276.948,
          150.78,
          203.175,
          193.011,
          128.016,
          441.693,
          265.104,
          352.2225,
          507.675,
          334.341,
          701.8515,
          407.316,
          99.33,
          345.786,
          55.881,
          523.3725,
          314.538,
          214.935,
          79.611,
          294.651,
          339.36,
          510.9615,
          133.917,
          253.512,
          398.475,
          80.661,
          548.73,
          83.727,
          406.875,
          284.9175,
          128.4255,
          258.678,
          181.818,
          248.409,
          194.124,
          14.679,
          208.6875,
          718.7565,
          282.492,
          72.3975,
          288.582,
          237.426,
          125.055,
          359.205,
          45.927,
          110.0925,
          81.396,
          427.812,
          100.9155,
          190.596,
          85.5855,
          120.162,
          185.367,
          121.59,
          264.7575,
          1020.705,
          213.528,
          17.094,
          383.7645,
          390.7995,
          65.7405,
          353.1675,
          951.825,
          145.068,
          90.867,
          147.798,
          702.219,
          49.812,
          937.818,
          348.306,
          214.137,
          71.568,
          343.224,
          91.56,
          742.812,
          843.0345,
          13.419,
          140.385,
          20.1075,
          290.43,
          144.081,
          28.4235,
          41.076,
          470.673,
          138.663,
          333.9525,
          26.25,
          87.234,
          155.19,
          731.43,
          833.595,
          488.985,
          37.6845,
          212.73,
          767.025,
          310.59,
          23.751,
          269.535,
          572.775,
          273.0525,
          233.226,
          22.659,
          103.782,
          527.751,
          168.21,
          452.865,
          609.588,
          338.31,
          205.317,
          174.615,
          353.094,
          360.885,
          40.53,
          554.148,
          344.4,
          194.985,
          633.99,
          388.29,
          207.858,
          431.445,
          156.03,
          24.108,
          734.076,
          72.87,
          206.43,
          212.688,
          127.26,
          209.769,
          637.728,
          132.762,
          568.512,
          103.0365,
          432.768,
          77.6685,
          33.495,
          145.74,
          195.951,
          92.8725,
          203.112,
          152.775,
          529.515,
          321.7725,
          100.485,
          666.939,
          225.2775,
          398.958,
          731.6925,
          429.1665,
          54.0435,
          288.015,
          206.7975,
          72.933,
          377.58,
          143.9865,
          523.971,
          235.872,
          132.027,
          514.773,
          479.9025,
          164.682,
          125.706,
          570.78,
          926.9505,
          160.209,
          728.112,
          240.975,
          154.1295,
          148.68,
          122.5245,
          77.658,
          102.837,
          306.81,
          551.124,
          96.642,
          79.674,
          84.756,
          118.251,
          74.76,
          163.002,
          308.91,
          575.9775,
          270.585,
          416.178,
          180.4005,
          513.2295,
          550.368,
          139.923,
          142.002,
          118.062,
          151.284,
          1034.46,
          262.458,
          228.123,
          203.931,
          936.6,
          356.328,
          469.413,
          208.425,
          852.705,
          517.965,
          621.243,
          586.971,
          543.753,
          430.71,
          280.035,
          74.4555,
          152.019,
          451.0275,
          597.6285,
          253.26,
          133.434,
          269.934,
          145.971,
          85.743,
          326.256,
          195.258,
          75.936,
          198.639,
          217.182,
          164.871,
          226.065,
          625.905,
          76.755,
          293.139,
          178.164,
          47.859,
          236.88,
          304.92,
          46.683,
          164.43,
          440.937,
          193.4625,
          147.672,
          87.234,
          68.2395,
          814.38,
          343.413,
          381.3915,
          133.35,
          394.3275,
          209.118,
          32.1405,
          121.569,
          30.408,
          935.2665,
          293.643,
          84.9765,
          708.225,
          365.904,
          457.38,
          461.5275,
          620.739,
          273.798,
          225.792,
          96.1905,
          695.2365,
          874.125,
          95.9175,
          165.648,
          127.827,
          867.09,
          167.895,
          12.6945,
          673.995,
          246.6765,
          175.917,
          314.055,
          251.7165,
          697.935,
          212.7825,
          48.51,
          92.5575,
          165.123,
          311.1885,
          743.82,
          116.907,
          609.168,
          63.2625,
          182.952,
          442.323,
          35.3115,
          32.529,
          259.77,
          397.215,
          351.603,
          764.19,
          352.674,
          252.756,
          49.4235,
          104.6745,
          277.6725,
          146.6325,
          58.2225,
          135.3555,
          125.979,
          370.125,
          914.55,
          207.48,
          204.246,
          181.881,
          75.474,
          300.573,
          85.302,
          588.42,
          196.14,
          231.2415,
          282.576,
          477.54,
          175.917,
          470.988,
          308.574,
          618.975,
          305.55,
          41.454,
          36.5505,
          310.716,
          45.108,
          145.404,
          103.11,
          136.143,
          667.38,
          153.048,
          211.365,
          663.2955,
          404.544,
          510.615,
          539.343,
          497.07,
          458.6925,
          113.568,
          261.198,
          657.531,
          1023.75,
          507.444,
          101.808,
          207.585,
          760.4415,
          835.2855,
          527.5095,
          180.6,
          72.429,
          131.208,
          80.955,
          507.906,
          317.226,
          733.6035,
          130.8825,
          829.08,
          187.32,
          525.231,
          37.611,
          142.947,
          110.124,
          187.866,
          856.4535,
          138.978,
          270.2595,
          98.028,
          239.4,
          175.0455,
          732.27,
          408.492,
          383.523,
          93.744,
          176.4,
          20.685,
          557.718,
          56.406,
          860.475,
          596.82,
          616.98,
          769.104,
          887.922,
          408.7335,
          89.0715,
          150.423,
          79.149,
          266.028,
          40.341,
          684.915,
          55.2825,
          116.1405,
          597.0405,
          93.744,
          143.22,
          182.91,
          384.72,
          267.3405,
          817.236,
          300.216,
          608.076,
          197.925,
          232.638,
          810.6,
          757.365,
          536.592,
          56.1225,
          233.1,
          801.864,
          239.589,
          86.247,
          401.688,
          72.009,
          401.268,
          631.1445,
          499.7265,
          55.041,
          137.865,
          151.515,
          480.0285,
          98.049,
          132.5625,
          830.3715,
          183.12,
          397.992,
          32.151,
          369.684,
          53.34,
          548.163,
          603.876,
          57.6975,
          190.4805,
          432.9885,
          48.7305,
          287.91,
          1022.385,
          680.61,
          97.881,
          57.078,
          63.9135,
          257.145,
          97.419,
          455.1225,
          144.963,
          253.68,
          495.3165,
          462.672,
          714.3255,
          325.374,
          195.678,
          210.966,
          18.6375,
          652.89,
          90.3,
          422.73,
          341.0925,
          99.9075,
          408.408,
          446.964,
          333.984,
          284.592,
          403.872,
          247.59,
          222.138,
          100.128,
          10.6785,
          216.4365,
          441.588,
          92.442,
          681.4395,
          130.032,
          681.975,
          779.31,
          88.704,
          262.794,
          99.54,
          95.865,
          299.3655,
          54.999,
          202.335,
          281.169,
          586.635,
          184.086,
          163.611,
          63.315,
          82.887,
          31.227,
          22.386,
          295.407,
          76.923,
          23.499,
          688.716,
          624.33,
          77.805,
          206.808,
          390.9465,
          554.295,
          503.7375,
          345.0195,
          177.408,
          118.902,
          362.817,
          450.1035,
          90.5835,
          26.796,
          106.596,
          375.3645,
          250.7085,
          106.5015,
          760.452,
          131.922,
          76.5765,
          271.278,
          182.427,
          59.325,
          225.015,
          561.078,
          97.818,
          548.184,
          54.9675,
          41.7375,
          756.168,
          101.64,
          348.705,
          85.512,
          335.895,
          216.846,
          175.014,
          335.013,
          92.295,
          771.435,
          102.396,
          807.66,
          439.215,
          486.444,
          485.5725,
          148.995,
          317.835,
          832.944,
          446.439,
          297.801,
          629.16,
          331.128,
          423.738,
          193.074,
          145.5825,
          84.7455,
          122.472,
          329.196,
          888.405,
          435.12,
          167.034,
          514.605,
          91.8225,
          235.746,
          782.208,
          431.256,
          313.74,
          223.587,
          44.9925,
          397.614,
          217.2555,
          82.719,
          338.2155,
          103.131,
          26.733,
          611.079,
          221.886,
          57.876,
          92.7255,
          374.409,
          833.9625,
          53.151,
          629.496,
          175.035,
          781.62,
          470.988,
          397.845,
          270.018,
          579.8415,
          469.77,
          290.0835,
          360.927,
          279.384,
          943.299,
          479.64,
          266.6475,
          74.088,
          690.018,
          176.925,
          56.469,
          188.0025,
          222.012,
          125.7165,
          68.985,
          263.97,
          88.368,
          415.233,
          312.8895,
          477.1305,
          289.926,
          165.9,
          932.337,
          96.579,
          43.869,
          16.275,
          304.983,
          69.993,
          80.367,
          314.685,
          255.1815,
          49.77,
          181.0725,
          888.615,
          271.2885,
          640.038,
          252.252,
          180.873,
          104.832,
          313.572,
          167.58,
          26.7225,
          71.1585,
          250.278,
          244.23,
          921.186,
          734.706,
          708.3195,
          334.4775,
          30.996,
          520.8,
          864.57,
          633.108,
          296.94,
          804.3,
          121.863,
          183.645,
          63.9975,
          42.3675,
          1022.49,
          33.432,
          69.111,
          649.299
         ]
        }
       ],
       "layout": {
        "legend": {
         "tracegroupgap": 0
        },
        "template": {
         "data": {
          "bar": [
           {
            "error_x": {
             "color": "#2a3f5f"
            },
            "error_y": {
             "color": "#2a3f5f"
            },
            "marker": {
             "line": {
              "color": "#E5ECF6",
              "width": 0.5
             },
             "pattern": {
              "fillmode": "overlay",
              "size": 10,
              "solidity": 0.2
             }
            },
            "type": "bar"
           }
          ],
          "barpolar": [
           {
            "marker": {
             "line": {
              "color": "#E5ECF6",
              "width": 0.5
             },
             "pattern": {
              "fillmode": "overlay",
              "size": 10,
              "solidity": 0.2
             }
            },
            "type": "barpolar"
           }
          ],
          "carpet": [
           {
            "aaxis": {
             "endlinecolor": "#2a3f5f",
             "gridcolor": "white",
             "linecolor": "white",
             "minorgridcolor": "white",
             "startlinecolor": "#2a3f5f"
            },
            "baxis": {
             "endlinecolor": "#2a3f5f",
             "gridcolor": "white",
             "linecolor": "white",
             "minorgridcolor": "white",
             "startlinecolor": "#2a3f5f"
            },
            "type": "carpet"
           }
          ],
          "choropleth": [
           {
            "colorbar": {
             "outlinewidth": 0,
             "ticks": ""
            },
            "type": "choropleth"
           }
          ],
          "contour": [
           {
            "colorbar": {
             "outlinewidth": 0,
             "ticks": ""
            },
            "colorscale": [
             [
              0,
              "#0d0887"
             ],
             [
              0.1111111111111111,
              "#46039f"
             ],
             [
              0.2222222222222222,
              "#7201a8"
             ],
             [
              0.3333333333333333,
              "#9c179e"
             ],
             [
              0.4444444444444444,
              "#bd3786"
             ],
             [
              0.5555555555555556,
              "#d8576b"
             ],
             [
              0.6666666666666666,
              "#ed7953"
             ],
             [
              0.7777777777777778,
              "#fb9f3a"
             ],
             [
              0.8888888888888888,
              "#fdca26"
             ],
             [
              1,
              "#f0f921"
             ]
            ],
            "type": "contour"
           }
          ],
          "contourcarpet": [
           {
            "colorbar": {
             "outlinewidth": 0,
             "ticks": ""
            },
            "type": "contourcarpet"
           }
          ],
          "heatmap": [
           {
            "colorbar": {
             "outlinewidth": 0,
             "ticks": ""
            },
            "colorscale": [
             [
              0,
              "#0d0887"
             ],
             [
              0.1111111111111111,
              "#46039f"
             ],
             [
              0.2222222222222222,
              "#7201a8"
             ],
             [
              0.3333333333333333,
              "#9c179e"
             ],
             [
              0.4444444444444444,
              "#bd3786"
             ],
             [
              0.5555555555555556,
              "#d8576b"
             ],
             [
              0.6666666666666666,
              "#ed7953"
             ],
             [
              0.7777777777777778,
              "#fb9f3a"
             ],
             [
              0.8888888888888888,
              "#fdca26"
             ],
             [
              1,
              "#f0f921"
             ]
            ],
            "type": "heatmap"
           }
          ],
          "heatmapgl": [
           {
            "colorbar": {
             "outlinewidth": 0,
             "ticks": ""
            },
            "colorscale": [
             [
              0,
              "#0d0887"
             ],
             [
              0.1111111111111111,
              "#46039f"
             ],
             [
              0.2222222222222222,
              "#7201a8"
             ],
             [
              0.3333333333333333,
              "#9c179e"
             ],
             [
              0.4444444444444444,
              "#bd3786"
             ],
             [
              0.5555555555555556,
              "#d8576b"
             ],
             [
              0.6666666666666666,
              "#ed7953"
             ],
             [
              0.7777777777777778,
              "#fb9f3a"
             ],
             [
              0.8888888888888888,
              "#fdca26"
             ],
             [
              1,
              "#f0f921"
             ]
            ],
            "type": "heatmapgl"
           }
          ],
          "histogram": [
           {
            "marker": {
             "pattern": {
              "fillmode": "overlay",
              "size": 10,
              "solidity": 0.2
             }
            },
            "type": "histogram"
           }
          ],
          "histogram2d": [
           {
            "colorbar": {
             "outlinewidth": 0,
             "ticks": ""
            },
            "colorscale": [
             [
              0,
              "#0d0887"
             ],
             [
              0.1111111111111111,
              "#46039f"
             ],
             [
              0.2222222222222222,
              "#7201a8"
             ],
             [
              0.3333333333333333,
              "#9c179e"
             ],
             [
              0.4444444444444444,
              "#bd3786"
             ],
             [
              0.5555555555555556,
              "#d8576b"
             ],
             [
              0.6666666666666666,
              "#ed7953"
             ],
             [
              0.7777777777777778,
              "#fb9f3a"
             ],
             [
              0.8888888888888888,
              "#fdca26"
             ],
             [
              1,
              "#f0f921"
             ]
            ],
            "type": "histogram2d"
           }
          ],
          "histogram2dcontour": [
           {
            "colorbar": {
             "outlinewidth": 0,
             "ticks": ""
            },
            "colorscale": [
             [
              0,
              "#0d0887"
             ],
             [
              0.1111111111111111,
              "#46039f"
             ],
             [
              0.2222222222222222,
              "#7201a8"
             ],
             [
              0.3333333333333333,
              "#9c179e"
             ],
             [
              0.4444444444444444,
              "#bd3786"
             ],
             [
              0.5555555555555556,
              "#d8576b"
             ],
             [
              0.6666666666666666,
              "#ed7953"
             ],
             [
              0.7777777777777778,
              "#fb9f3a"
             ],
             [
              0.8888888888888888,
              "#fdca26"
             ],
             [
              1,
              "#f0f921"
             ]
            ],
            "type": "histogram2dcontour"
           }
          ],
          "mesh3d": [
           {
            "colorbar": {
             "outlinewidth": 0,
             "ticks": ""
            },
            "type": "mesh3d"
           }
          ],
          "parcoords": [
           {
            "line": {
             "colorbar": {
              "outlinewidth": 0,
              "ticks": ""
             }
            },
            "type": "parcoords"
           }
          ],
          "pie": [
           {
            "automargin": true,
            "type": "pie"
           }
          ],
          "scatter": [
           {
            "fillpattern": {
             "fillmode": "overlay",
             "size": 10,
             "solidity": 0.2
            },
            "type": "scatter"
           }
          ],
          "scatter3d": [
           {
            "line": {
             "colorbar": {
              "outlinewidth": 0,
              "ticks": ""
             }
            },
            "marker": {
             "colorbar": {
              "outlinewidth": 0,
              "ticks": ""
             }
            },
            "type": "scatter3d"
           }
          ],
          "scattercarpet": [
           {
            "marker": {
             "colorbar": {
              "outlinewidth": 0,
              "ticks": ""
             }
            },
            "type": "scattercarpet"
           }
          ],
          "scattergeo": [
           {
            "marker": {
             "colorbar": {
              "outlinewidth": 0,
              "ticks": ""
             }
            },
            "type": "scattergeo"
           }
          ],
          "scattergl": [
           {
            "marker": {
             "colorbar": {
              "outlinewidth": 0,
              "ticks": ""
             }
            },
            "type": "scattergl"
           }
          ],
          "scattermapbox": [
           {
            "marker": {
             "colorbar": {
              "outlinewidth": 0,
              "ticks": ""
             }
            },
            "type": "scattermapbox"
           }
          ],
          "scatterpolar": [
           {
            "marker": {
             "colorbar": {
              "outlinewidth": 0,
              "ticks": ""
             }
            },
            "type": "scatterpolar"
           }
          ],
          "scatterpolargl": [
           {
            "marker": {
             "colorbar": {
              "outlinewidth": 0,
              "ticks": ""
             }
            },
            "type": "scatterpolargl"
           }
          ],
          "scatterternary": [
           {
            "marker": {
             "colorbar": {
              "outlinewidth": 0,
              "ticks": ""
             }
            },
            "type": "scatterternary"
           }
          ],
          "surface": [
           {
            "colorbar": {
             "outlinewidth": 0,
             "ticks": ""
            },
            "colorscale": [
             [
              0,
              "#0d0887"
             ],
             [
              0.1111111111111111,
              "#46039f"
             ],
             [
              0.2222222222222222,
              "#7201a8"
             ],
             [
              0.3333333333333333,
              "#9c179e"
             ],
             [
              0.4444444444444444,
              "#bd3786"
             ],
             [
              0.5555555555555556,
              "#d8576b"
             ],
             [
              0.6666666666666666,
              "#ed7953"
             ],
             [
              0.7777777777777778,
              "#fb9f3a"
             ],
             [
              0.8888888888888888,
              "#fdca26"
             ],
             [
              1,
              "#f0f921"
             ]
            ],
            "type": "surface"
           }
          ],
          "table": [
           {
            "cells": {
             "fill": {
              "color": "#EBF0F8"
             },
             "line": {
              "color": "white"
             }
            },
            "header": {
             "fill": {
              "color": "#C8D4E3"
             },
             "line": {
              "color": "white"
             }
            },
            "type": "table"
           }
          ]
         },
         "layout": {
          "annotationdefaults": {
           "arrowcolor": "#2a3f5f",
           "arrowhead": 0,
           "arrowwidth": 1
          },
          "autotypenumbers": "strict",
          "coloraxis": {
           "colorbar": {
            "outlinewidth": 0,
            "ticks": ""
           }
          },
          "colorscale": {
           "diverging": [
            [
             0,
             "#8e0152"
            ],
            [
             0.1,
             "#c51b7d"
            ],
            [
             0.2,
             "#de77ae"
            ],
            [
             0.3,
             "#f1b6da"
            ],
            [
             0.4,
             "#fde0ef"
            ],
            [
             0.5,
             "#f7f7f7"
            ],
            [
             0.6,
             "#e6f5d0"
            ],
            [
             0.7,
             "#b8e186"
            ],
            [
             0.8,
             "#7fbc41"
            ],
            [
             0.9,
             "#4d9221"
            ],
            [
             1,
             "#276419"
            ]
           ],
           "sequential": [
            [
             0,
             "#0d0887"
            ],
            [
             0.1111111111111111,
             "#46039f"
            ],
            [
             0.2222222222222222,
             "#7201a8"
            ],
            [
             0.3333333333333333,
             "#9c179e"
            ],
            [
             0.4444444444444444,
             "#bd3786"
            ],
            [
             0.5555555555555556,
             "#d8576b"
            ],
            [
             0.6666666666666666,
             "#ed7953"
            ],
            [
             0.7777777777777778,
             "#fb9f3a"
            ],
            [
             0.8888888888888888,
             "#fdca26"
            ],
            [
             1,
             "#f0f921"
            ]
           ],
           "sequentialminus": [
            [
             0,
             "#0d0887"
            ],
            [
             0.1111111111111111,
             "#46039f"
            ],
            [
             0.2222222222222222,
             "#7201a8"
            ],
            [
             0.3333333333333333,
             "#9c179e"
            ],
            [
             0.4444444444444444,
             "#bd3786"
            ],
            [
             0.5555555555555556,
             "#d8576b"
            ],
            [
             0.6666666666666666,
             "#ed7953"
            ],
            [
             0.7777777777777778,
             "#fb9f3a"
            ],
            [
             0.8888888888888888,
             "#fdca26"
            ],
            [
             1,
             "#f0f921"
            ]
           ]
          },
          "colorway": [
           "#636efa",
           "#EF553B",
           "#00cc96",
           "#ab63fa",
           "#FFA15A",
           "#19d3f3",
           "#FF6692",
           "#B6E880",
           "#FF97FF",
           "#FECB52"
          ],
          "font": {
           "color": "#2a3f5f"
          },
          "geo": {
           "bgcolor": "white",
           "lakecolor": "white",
           "landcolor": "#E5ECF6",
           "showlakes": true,
           "showland": true,
           "subunitcolor": "white"
          },
          "hoverlabel": {
           "align": "left"
          },
          "hovermode": "closest",
          "mapbox": {
           "style": "light"
          },
          "paper_bgcolor": "white",
          "plot_bgcolor": "#E5ECF6",
          "polar": {
           "angularaxis": {
            "gridcolor": "white",
            "linecolor": "white",
            "ticks": ""
           },
           "bgcolor": "#E5ECF6",
           "radialaxis": {
            "gridcolor": "white",
            "linecolor": "white",
            "ticks": ""
           }
          },
          "scene": {
           "xaxis": {
            "backgroundcolor": "#E5ECF6",
            "gridcolor": "white",
            "gridwidth": 2,
            "linecolor": "white",
            "showbackground": true,
            "ticks": "",
            "zerolinecolor": "white"
           },
           "yaxis": {
            "backgroundcolor": "#E5ECF6",
            "gridcolor": "white",
            "gridwidth": 2,
            "linecolor": "white",
            "showbackground": true,
            "ticks": "",
            "zerolinecolor": "white"
           },
           "zaxis": {
            "backgroundcolor": "#E5ECF6",
            "gridcolor": "white",
            "gridwidth": 2,
            "linecolor": "white",
            "showbackground": true,
            "ticks": "",
            "zerolinecolor": "white"
           }
          },
          "shapedefaults": {
           "line": {
            "color": "#2a3f5f"
           }
          },
          "ternary": {
           "aaxis": {
            "gridcolor": "white",
            "linecolor": "white",
            "ticks": ""
           },
           "baxis": {
            "gridcolor": "white",
            "linecolor": "white",
            "ticks": ""
           },
           "bgcolor": "#E5ECF6",
           "caxis": {
            "gridcolor": "white",
            "linecolor": "white",
            "ticks": ""
           }
          },
          "title": {
           "x": 0.05
          },
          "xaxis": {
           "automargin": true,
           "gridcolor": "white",
           "linecolor": "white",
           "ticks": "",
           "title": {
            "standoff": 15
           },
           "zerolinecolor": "white",
           "zerolinewidth": 2
          },
          "yaxis": {
           "automargin": true,
           "gridcolor": "white",
           "linecolor": "white",
           "ticks": "",
           "title": {
            "standoff": 15
           },
           "zerolinecolor": "white",
           "zerolinewidth": 2
          }
         }
        },
        "title": {
         "text": "Total generated by each Branch"
        }
       }
      }
     },
     "metadata": {},
     "output_type": "display_data"
    }
   ],
   "source": [
    "fig2= px.pie(df,values='Total',names='Branch',title='Total generated by each Branch')\n",
    "fig2.show()"
   ]
  },
  {
   "cell_type": "markdown",
   "metadata": {},
   "source": [
    "Same comment for the Branch."
   ]
  },
  {
   "cell_type": "code",
   "execution_count": 34,
   "metadata": {},
   "outputs": [
    {
     "data": {
      "application/vnd.plotly.v1+json": {
       "config": {
        "plotlyServerURL": "https://plot.ly"
       },
       "data": [
        {
         "alignmentgroup": "True",
         "hovertemplate": "Branch=A<br>Weekday=%{x}<br>sum=%{y}<extra></extra>",
         "legendgroup": "A",
         "marker": {
          "color": "#636efa",
          "pattern": {
           "shape": ""
          }
         },
         "name": "A",
         "offsetgroup": "A",
         "orientation": "v",
         "showlegend": true,
         "textposition": "auto",
         "type": "bar",
         "x": [
          "Monday",
          "Monday",
          "Monday",
          "Monday",
          "Monday",
          "Monday",
          "Tuesday",
          "Tuesday",
          "Tuesday",
          "Tuesday",
          "Tuesday",
          "Tuesday",
          "Wednesday",
          "Wednesday",
          "Wednesday",
          "Wednesday",
          "Wednesday",
          "Wednesday",
          "Thursday",
          "Thursday",
          "Thursday",
          "Thursday",
          "Thursday",
          "Thursday",
          "Friday",
          "Friday",
          "Friday",
          "Friday",
          "Friday",
          "Friday",
          "Saturday",
          "Saturday",
          "Saturday",
          "Saturday",
          "Saturday",
          "Saturday",
          "Sunday",
          "Sunday",
          "Sunday",
          "Sunday",
          "Sunday",
          "Sunday"
         ],
         "xaxis": "x",
         "y": [
          2347.6215,
          3116.736,
          1193.262,
          2710.7745,
          2858.5409999999997,
          2012.1255,
          4560.99,
          2800.3395,
          1375.563,
          1098.7095,
          2836.8165,
          2282.7945,
          2280.8940000000002,
          1110.2069999999999,
          4300.7055,
          1797.6734999999999,
          1963.437,
          1814.8095,
          3780.147,
          1684.599,
          2725.779,
          2314.1475,
          2305.3275,
          2612.2740000000003,
          1248.3765,
          2297.7045,
          1361.073,
          1720.005,
          4596.6900000000005,
          3320.016,
          3148.3305,
          2583.5460000000003,
          3347.085,
          1330.77,
          2157.0675,
          4198.6140000000005,
          950.754,
          2739.3765,
          2859.6330000000003,
          1625.673,
          5699.316,
          3132.066
         ],
         "yaxis": "y"
        },
        {
         "alignmentgroup": "True",
         "hovertemplate": "Branch=B<br>Weekday=%{x}<br>sum=%{y}<extra></extra>",
         "legendgroup": "B",
         "marker": {
          "color": "#EF553B",
          "pattern": {
           "shape": ""
          }
         },
         "name": "B",
         "offsetgroup": "B",
         "orientation": "v",
         "showlegend": true,
         "textposition": "auto",
         "type": "bar",
         "x": [
          "Monday",
          "Monday",
          "Monday",
          "Monday",
          "Monday",
          "Monday",
          "Tuesday",
          "Tuesday",
          "Tuesday",
          "Tuesday",
          "Tuesday",
          "Tuesday",
          "Wednesday",
          "Wednesday",
          "Wednesday",
          "Wednesday",
          "Wednesday",
          "Wednesday",
          "Thursday",
          "Thursday",
          "Thursday",
          "Thursday",
          "Thursday",
          "Thursday",
          "Friday",
          "Friday",
          "Friday",
          "Friday",
          "Friday",
          "Friday",
          "Saturday",
          "Saturday",
          "Saturday",
          "Saturday",
          "Saturday",
          "Saturday",
          "Sunday",
          "Sunday",
          "Sunday",
          "Sunday",
          "Sunday",
          "Sunday"
         ],
         "xaxis": "x",
         "y": [
          1406.076,
          1688.925,
          2678.508,
          3632.265,
          1945.125,
          1383.8055,
          1658.097,
          2311.701,
          3661.0769999999998,
          4260.1965,
          3660.867,
          3307.3005,
          1419.033,
          1773.387,
          2183.307,
          2333.8875,
          1157.499,
          3840.48,
          4969.9965,
          2693.3235,
          1139.313,
          1831.7145,
          2074.8525,
          3069.423,
          1237.824,
          3073.6335,
          1867.068,
          3683.9985,
          940.3485000000001,
          3614.8875,
          5211.801,
          4144.1295,
          1982.4315,
          2639.1645,
          4710.279,
          2596.6185,
          1148.616,
          728.217,
          1703.184,
          1599.4335,
          3060.1935,
          2175.684
         ],
         "yaxis": "y"
        },
        {
         "alignmentgroup": "True",
         "hovertemplate": "Branch=C<br>Weekday=%{x}<br>sum=%{y}<extra></extra>",
         "legendgroup": "C",
         "marker": {
          "color": "#00cc96",
          "pattern": {
           "shape": ""
          }
         },
         "name": "C",
         "offsetgroup": "C",
         "orientation": "v",
         "showlegend": true,
         "textposition": "auto",
         "type": "bar",
         "x": [
          "Monday",
          "Monday",
          "Monday",
          "Monday",
          "Monday",
          "Monday",
          "Tuesday",
          "Tuesday",
          "Tuesday",
          "Tuesday",
          "Tuesday",
          "Tuesday",
          "Wednesday",
          "Wednesday",
          "Wednesday",
          "Wednesday",
          "Wednesday",
          "Wednesday",
          "Thursday",
          "Thursday",
          "Thursday",
          "Thursday",
          "Thursday",
          "Thursday",
          "Friday",
          "Friday",
          "Friday",
          "Friday",
          "Friday",
          "Friday",
          "Saturday",
          "Saturday",
          "Saturday",
          "Saturday",
          "Saturday",
          "Saturday",
          "Sunday",
          "Sunday",
          "Sunday",
          "Sunday",
          "Sunday",
          "Sunday"
         ],
         "xaxis": "x",
         "y": [
          2168.4285,
          1613.8605,
          2740.458,
          2105.1975,
          1291.6785,
          1005.69,
          3891.8355,
          2311.239,
          4811.6565,
          3200.6835,
          1211.049,
          2241.33,
          1164.9855,
          3936.1875,
          4704.4725,
          1757.1855,
          3353.8785,
          2839.1055,
          3685.017,
          3347.967,
          2933.5005,
          1436.6100000000001,
          1047.123,
          1698.1335,
          2361.9539999999997,
          4183.4205,
          1330.287,
          2927.0115,
          1338.3825,
          2823.66,
          1384.2465,
          4051.2465,
          4045.881,
          3440.4089999999997,
          2340.66,
          2808.5295,
          4312.5075,
          2116.149,
          3200.5995,
          1748.229,
          3312.7815,
          2345.4795
         ],
         "yaxis": "y"
        }
       ],
       "layout": {
        "barmode": "relative",
        "legend": {
         "title": {
          "text": "Branch"
         },
         "tracegroupgap": 0
        },
        "template": {
         "data": {
          "bar": [
           {
            "error_x": {
             "color": "#2a3f5f"
            },
            "error_y": {
             "color": "#2a3f5f"
            },
            "marker": {
             "line": {
              "color": "#E5ECF6",
              "width": 0.5
             },
             "pattern": {
              "fillmode": "overlay",
              "size": 10,
              "solidity": 0.2
             }
            },
            "type": "bar"
           }
          ],
          "barpolar": [
           {
            "marker": {
             "line": {
              "color": "#E5ECF6",
              "width": 0.5
             },
             "pattern": {
              "fillmode": "overlay",
              "size": 10,
              "solidity": 0.2
             }
            },
            "type": "barpolar"
           }
          ],
          "carpet": [
           {
            "aaxis": {
             "endlinecolor": "#2a3f5f",
             "gridcolor": "white",
             "linecolor": "white",
             "minorgridcolor": "white",
             "startlinecolor": "#2a3f5f"
            },
            "baxis": {
             "endlinecolor": "#2a3f5f",
             "gridcolor": "white",
             "linecolor": "white",
             "minorgridcolor": "white",
             "startlinecolor": "#2a3f5f"
            },
            "type": "carpet"
           }
          ],
          "choropleth": [
           {
            "colorbar": {
             "outlinewidth": 0,
             "ticks": ""
            },
            "type": "choropleth"
           }
          ],
          "contour": [
           {
            "colorbar": {
             "outlinewidth": 0,
             "ticks": ""
            },
            "colorscale": [
             [
              0,
              "#0d0887"
             ],
             [
              0.1111111111111111,
              "#46039f"
             ],
             [
              0.2222222222222222,
              "#7201a8"
             ],
             [
              0.3333333333333333,
              "#9c179e"
             ],
             [
              0.4444444444444444,
              "#bd3786"
             ],
             [
              0.5555555555555556,
              "#d8576b"
             ],
             [
              0.6666666666666666,
              "#ed7953"
             ],
             [
              0.7777777777777778,
              "#fb9f3a"
             ],
             [
              0.8888888888888888,
              "#fdca26"
             ],
             [
              1,
              "#f0f921"
             ]
            ],
            "type": "contour"
           }
          ],
          "contourcarpet": [
           {
            "colorbar": {
             "outlinewidth": 0,
             "ticks": ""
            },
            "type": "contourcarpet"
           }
          ],
          "heatmap": [
           {
            "colorbar": {
             "outlinewidth": 0,
             "ticks": ""
            },
            "colorscale": [
             [
              0,
              "#0d0887"
             ],
             [
              0.1111111111111111,
              "#46039f"
             ],
             [
              0.2222222222222222,
              "#7201a8"
             ],
             [
              0.3333333333333333,
              "#9c179e"
             ],
             [
              0.4444444444444444,
              "#bd3786"
             ],
             [
              0.5555555555555556,
              "#d8576b"
             ],
             [
              0.6666666666666666,
              "#ed7953"
             ],
             [
              0.7777777777777778,
              "#fb9f3a"
             ],
             [
              0.8888888888888888,
              "#fdca26"
             ],
             [
              1,
              "#f0f921"
             ]
            ],
            "type": "heatmap"
           }
          ],
          "heatmapgl": [
           {
            "colorbar": {
             "outlinewidth": 0,
             "ticks": ""
            },
            "colorscale": [
             [
              0,
              "#0d0887"
             ],
             [
              0.1111111111111111,
              "#46039f"
             ],
             [
              0.2222222222222222,
              "#7201a8"
             ],
             [
              0.3333333333333333,
              "#9c179e"
             ],
             [
              0.4444444444444444,
              "#bd3786"
             ],
             [
              0.5555555555555556,
              "#d8576b"
             ],
             [
              0.6666666666666666,
              "#ed7953"
             ],
             [
              0.7777777777777778,
              "#fb9f3a"
             ],
             [
              0.8888888888888888,
              "#fdca26"
             ],
             [
              1,
              "#f0f921"
             ]
            ],
            "type": "heatmapgl"
           }
          ],
          "histogram": [
           {
            "marker": {
             "pattern": {
              "fillmode": "overlay",
              "size": 10,
              "solidity": 0.2
             }
            },
            "type": "histogram"
           }
          ],
          "histogram2d": [
           {
            "colorbar": {
             "outlinewidth": 0,
             "ticks": ""
            },
            "colorscale": [
             [
              0,
              "#0d0887"
             ],
             [
              0.1111111111111111,
              "#46039f"
             ],
             [
              0.2222222222222222,
              "#7201a8"
             ],
             [
              0.3333333333333333,
              "#9c179e"
             ],
             [
              0.4444444444444444,
              "#bd3786"
             ],
             [
              0.5555555555555556,
              "#d8576b"
             ],
             [
              0.6666666666666666,
              "#ed7953"
             ],
             [
              0.7777777777777778,
              "#fb9f3a"
             ],
             [
              0.8888888888888888,
              "#fdca26"
             ],
             [
              1,
              "#f0f921"
             ]
            ],
            "type": "histogram2d"
           }
          ],
          "histogram2dcontour": [
           {
            "colorbar": {
             "outlinewidth": 0,
             "ticks": ""
            },
            "colorscale": [
             [
              0,
              "#0d0887"
             ],
             [
              0.1111111111111111,
              "#46039f"
             ],
             [
              0.2222222222222222,
              "#7201a8"
             ],
             [
              0.3333333333333333,
              "#9c179e"
             ],
             [
              0.4444444444444444,
              "#bd3786"
             ],
             [
              0.5555555555555556,
              "#d8576b"
             ],
             [
              0.6666666666666666,
              "#ed7953"
             ],
             [
              0.7777777777777778,
              "#fb9f3a"
             ],
             [
              0.8888888888888888,
              "#fdca26"
             ],
             [
              1,
              "#f0f921"
             ]
            ],
            "type": "histogram2dcontour"
           }
          ],
          "mesh3d": [
           {
            "colorbar": {
             "outlinewidth": 0,
             "ticks": ""
            },
            "type": "mesh3d"
           }
          ],
          "parcoords": [
           {
            "line": {
             "colorbar": {
              "outlinewidth": 0,
              "ticks": ""
             }
            },
            "type": "parcoords"
           }
          ],
          "pie": [
           {
            "automargin": true,
            "type": "pie"
           }
          ],
          "scatter": [
           {
            "fillpattern": {
             "fillmode": "overlay",
             "size": 10,
             "solidity": 0.2
            },
            "type": "scatter"
           }
          ],
          "scatter3d": [
           {
            "line": {
             "colorbar": {
              "outlinewidth": 0,
              "ticks": ""
             }
            },
            "marker": {
             "colorbar": {
              "outlinewidth": 0,
              "ticks": ""
             }
            },
            "type": "scatter3d"
           }
          ],
          "scattercarpet": [
           {
            "marker": {
             "colorbar": {
              "outlinewidth": 0,
              "ticks": ""
             }
            },
            "type": "scattercarpet"
           }
          ],
          "scattergeo": [
           {
            "marker": {
             "colorbar": {
              "outlinewidth": 0,
              "ticks": ""
             }
            },
            "type": "scattergeo"
           }
          ],
          "scattergl": [
           {
            "marker": {
             "colorbar": {
              "outlinewidth": 0,
              "ticks": ""
             }
            },
            "type": "scattergl"
           }
          ],
          "scattermapbox": [
           {
            "marker": {
             "colorbar": {
              "outlinewidth": 0,
              "ticks": ""
             }
            },
            "type": "scattermapbox"
           }
          ],
          "scatterpolar": [
           {
            "marker": {
             "colorbar": {
              "outlinewidth": 0,
              "ticks": ""
             }
            },
            "type": "scatterpolar"
           }
          ],
          "scatterpolargl": [
           {
            "marker": {
             "colorbar": {
              "outlinewidth": 0,
              "ticks": ""
             }
            },
            "type": "scatterpolargl"
           }
          ],
          "scatterternary": [
           {
            "marker": {
             "colorbar": {
              "outlinewidth": 0,
              "ticks": ""
             }
            },
            "type": "scatterternary"
           }
          ],
          "surface": [
           {
            "colorbar": {
             "outlinewidth": 0,
             "ticks": ""
            },
            "colorscale": [
             [
              0,
              "#0d0887"
             ],
             [
              0.1111111111111111,
              "#46039f"
             ],
             [
              0.2222222222222222,
              "#7201a8"
             ],
             [
              0.3333333333333333,
              "#9c179e"
             ],
             [
              0.4444444444444444,
              "#bd3786"
             ],
             [
              0.5555555555555556,
              "#d8576b"
             ],
             [
              0.6666666666666666,
              "#ed7953"
             ],
             [
              0.7777777777777778,
              "#fb9f3a"
             ],
             [
              0.8888888888888888,
              "#fdca26"
             ],
             [
              1,
              "#f0f921"
             ]
            ],
            "type": "surface"
           }
          ],
          "table": [
           {
            "cells": {
             "fill": {
              "color": "#EBF0F8"
             },
             "line": {
              "color": "white"
             }
            },
            "header": {
             "fill": {
              "color": "#C8D4E3"
             },
             "line": {
              "color": "white"
             }
            },
            "type": "table"
           }
          ]
         },
         "layout": {
          "annotationdefaults": {
           "arrowcolor": "#2a3f5f",
           "arrowhead": 0,
           "arrowwidth": 1
          },
          "autotypenumbers": "strict",
          "coloraxis": {
           "colorbar": {
            "outlinewidth": 0,
            "ticks": ""
           }
          },
          "colorscale": {
           "diverging": [
            [
             0,
             "#8e0152"
            ],
            [
             0.1,
             "#c51b7d"
            ],
            [
             0.2,
             "#de77ae"
            ],
            [
             0.3,
             "#f1b6da"
            ],
            [
             0.4,
             "#fde0ef"
            ],
            [
             0.5,
             "#f7f7f7"
            ],
            [
             0.6,
             "#e6f5d0"
            ],
            [
             0.7,
             "#b8e186"
            ],
            [
             0.8,
             "#7fbc41"
            ],
            [
             0.9,
             "#4d9221"
            ],
            [
             1,
             "#276419"
            ]
           ],
           "sequential": [
            [
             0,
             "#0d0887"
            ],
            [
             0.1111111111111111,
             "#46039f"
            ],
            [
             0.2222222222222222,
             "#7201a8"
            ],
            [
             0.3333333333333333,
             "#9c179e"
            ],
            [
             0.4444444444444444,
             "#bd3786"
            ],
            [
             0.5555555555555556,
             "#d8576b"
            ],
            [
             0.6666666666666666,
             "#ed7953"
            ],
            [
             0.7777777777777778,
             "#fb9f3a"
            ],
            [
             0.8888888888888888,
             "#fdca26"
            ],
            [
             1,
             "#f0f921"
            ]
           ],
           "sequentialminus": [
            [
             0,
             "#0d0887"
            ],
            [
             0.1111111111111111,
             "#46039f"
            ],
            [
             0.2222222222222222,
             "#7201a8"
            ],
            [
             0.3333333333333333,
             "#9c179e"
            ],
            [
             0.4444444444444444,
             "#bd3786"
            ],
            [
             0.5555555555555556,
             "#d8576b"
            ],
            [
             0.6666666666666666,
             "#ed7953"
            ],
            [
             0.7777777777777778,
             "#fb9f3a"
            ],
            [
             0.8888888888888888,
             "#fdca26"
            ],
            [
             1,
             "#f0f921"
            ]
           ]
          },
          "colorway": [
           "#636efa",
           "#EF553B",
           "#00cc96",
           "#ab63fa",
           "#FFA15A",
           "#19d3f3",
           "#FF6692",
           "#B6E880",
           "#FF97FF",
           "#FECB52"
          ],
          "font": {
           "color": "#2a3f5f"
          },
          "geo": {
           "bgcolor": "white",
           "lakecolor": "white",
           "landcolor": "#E5ECF6",
           "showlakes": true,
           "showland": true,
           "subunitcolor": "white"
          },
          "hoverlabel": {
           "align": "left"
          },
          "hovermode": "closest",
          "mapbox": {
           "style": "light"
          },
          "paper_bgcolor": "white",
          "plot_bgcolor": "#E5ECF6",
          "polar": {
           "angularaxis": {
            "gridcolor": "white",
            "linecolor": "white",
            "ticks": ""
           },
           "bgcolor": "#E5ECF6",
           "radialaxis": {
            "gridcolor": "white",
            "linecolor": "white",
            "ticks": ""
           }
          },
          "scene": {
           "xaxis": {
            "backgroundcolor": "#E5ECF6",
            "gridcolor": "white",
            "gridwidth": 2,
            "linecolor": "white",
            "showbackground": true,
            "ticks": "",
            "zerolinecolor": "white"
           },
           "yaxis": {
            "backgroundcolor": "#E5ECF6",
            "gridcolor": "white",
            "gridwidth": 2,
            "linecolor": "white",
            "showbackground": true,
            "ticks": "",
            "zerolinecolor": "white"
           },
           "zaxis": {
            "backgroundcolor": "#E5ECF6",
            "gridcolor": "white",
            "gridwidth": 2,
            "linecolor": "white",
            "showbackground": true,
            "ticks": "",
            "zerolinecolor": "white"
           }
          },
          "shapedefaults": {
           "line": {
            "color": "#2a3f5f"
           }
          },
          "ternary": {
           "aaxis": {
            "gridcolor": "white",
            "linecolor": "white",
            "ticks": ""
           },
           "baxis": {
            "gridcolor": "white",
            "linecolor": "white",
            "ticks": ""
           },
           "bgcolor": "#E5ECF6",
           "caxis": {
            "gridcolor": "white",
            "linecolor": "white",
            "ticks": ""
           }
          },
          "title": {
           "x": 0.05
          },
          "xaxis": {
           "automargin": true,
           "gridcolor": "white",
           "linecolor": "white",
           "ticks": "",
           "title": {
            "standoff": 15
           },
           "zerolinecolor": "white",
           "zerolinewidth": 2
          },
          "yaxis": {
           "automargin": true,
           "gridcolor": "white",
           "linecolor": "white",
           "ticks": "",
           "title": {
            "standoff": 15
           },
           "zerolinecolor": "white",
           "zerolinewidth": 2
          }
         }
        },
        "title": {
         "text": "Daily Total by branch"
        },
        "xaxis": {
         "anchor": "y",
         "domain": [
          0,
          1
         ],
         "title": {
          "text": "Weekday"
         }
        },
        "yaxis": {
         "anchor": "x",
         "domain": [
          0,
          1
         ],
         "title": {
          "text": "sum"
         }
        }
       }
      }
     },
     "metadata": {},
     "output_type": "display_data"
    }
   ],
   "source": [
    "fig_bar=px.bar(df_days, x='Weekday',y='sum',color='Branch', title='Daily Total by branch')\n",
    "fig_bar.show()"
   ]
  },
  {
   "cell_type": "markdown",
   "metadata": {},
   "source": [
    "Branch A and C are pretty constant during the week whereas branch B has 2 bigger days (Tuesday and Saturday). Moreover on this graph we can see how from  e.g a saturday to another one, how the sum change in terms of money  made."
   ]
  },
  {
   "cell_type": "code",
   "execution_count": 35,
   "metadata": {},
   "outputs": [
    {
     "data": {
      "application/vnd.plotly.v1+json": {
       "config": {
        "plotlyServerURL": "https://plot.ly"
       },
       "data": [
        {
         "branchvalues": "total",
         "customdata": [
          [
           160.51875
          ],
          [
           164.04149999999998
          ],
          [
           218.0115
          ],
          [
           163.611
          ],
          [
           183.645
          ],
          [
           420.35699999999997
          ],
          [
           211.365
          ],
          [
           261.39225
          ],
          [
           180.56325
          ],
          [
           219.01425000000003
          ],
          [
           251.38049999999998
          ],
          [
           288.057
          ],
          [
           240.08249999999995
          ],
          [
           128.4255
          ],
          [
           548.184
          ],
          [
           421.22325000000006
          ],
          [
           304.91999999999996
          ],
          [
           502.1939999999999
          ],
          [
           194.2395
          ],
          [
           201.978
          ],
          [
           423.738
          ],
          [
           462.672
          ],
          [
           352.5795
          ],
          [
           204.624
          ],
          [
           202.42425
          ],
          [
           374.388
          ],
          [
           133.434
          ],
          [
           216.43649999999997
          ],
          [
           357.588
          ],
          [
           204.2775
          ],
          [
           252.252
          ],
          [
           278.3655
          ],
          [
           293.202
          ],
          [
           226.06499999999997
          ],
          [
           149.49375
          ],
          [
           254.016
          ],
          [
           534.96975
          ],
          [
           256.41
          ],
          [
           229.66649999999998
          ],
          [
           249.00225
          ],
          [
           298.88775
          ],
          [
           193.4625
          ],
          [
           296.58299999999997
          ],
          [
           250.34099999999998
          ],
          [
           337.512
          ],
          [
           381.276
          ],
          [
           231.2415
          ],
          [
           451.8255
          ],
          [
           244.20375
          ],
          [
           379.44375
          ],
          [
           263.28225
          ],
          [
           289.09125
          ],
          [
           234.61199999999997
          ],
          [
           424.4992499999999
          ],
          [
           147.798
          ],
          [
           151.4835
          ],
          [
           354.9525
          ],
          [
           316.47
          ],
          [
           150.8115
          ],
          [
           343.056
          ],
          [
           214.935
          ],
          [
           201.31650000000002
          ],
          [
           347.95425
          ],
          [
           261.59175
          ],
          [
           435.12
          ],
          [
           293.139
          ],
          [
           332.94975
          ],
          [
           261.198
          ],
          [
           338.2155
          ],
          [
           271.278
          ],
          [
           244.8705
          ],
          [
           348.306
          ],
          [
           149.3625
          ],
          [
           356.538
          ],
          [
           343.224
          ],
          [
           525.231
          ],
          [
           310.044
          ],
          [
           273.798
          ],
          [
           367.038
          ],
          [
           446.964
          ],
          [
           209.3385
          ],
          [
           176.4
          ],
          [
           419.45399999999995
          ],
          [
           127.19700000000002
          ],
          [
           319.788
          ],
          [
           263.97
          ],
          [
           148.974
          ],
          [
           161.553
          ],
          [
           207.85800000000003
          ],
          [
           221.886
          ],
          [
           246.67649999999998
          ],
          [
           270.60075
          ],
          [
           389.739
          ],
          [
           151.0215
          ],
          [
           209.769
          ],
          [
           232.15500000000003
          ],
          [
           175.46550000000002
          ],
          [
           263.05649999999997
          ],
          [
           346.8465
          ],
          [
           180.2115
          ],
          [
           351.603
          ],
          [
           178.71
          ],
          [
           281.4945
          ],
          [
           410.18775
          ],
          [
           192.36
          ],
          [
           148.52775
          ],
          [
           280.035
          ],
          [
           388.29
          ],
          [
           295.407
          ],
          [
           148.995
          ],
          [
           184.716
          ],
          [
           94.185
          ],
          [
           158.025
          ],
          [
           310.716
          ],
          [
           284.9175
          ],
          [
           185.48775
          ],
          [
           457.317
          ],
          [
           244.23
          ],
          [
           350.07
          ],
          [
           239.4
          ],
          [
           235.872
          ],
          [
           484.89
          ],
          [
           188.00249999999997
          ],
          [
           280.791
          ],
          [
           352.674
          ],
          [
           153.048
          ],
          [
           264.4883481086417
          ],
          [
           259.77325122032926
          ],
          [
           331.0251099631401
          ],
          [
           290.24784483891443
          ],
          [
           250.32127268015117
          ],
          [
           291.03594577298446
          ],
          [
           268.23397502876884
          ],
          [
           276.52387889508685
          ],
          [
           316.3861126976466
          ],
          [
           233.4806026616413
          ],
          [
           331.0406895965149
          ],
          [
           271.76873270962295
          ],
          [
           278.70977197055606
          ],
          [
           333.88621269734807
          ],
          [
           278.40417036828256
          ],
          [
           267.7708110446289
          ],
          [
           268.6426087403435
          ],
          [
           340.329381291735
          ],
          [
           268.97769647132014
          ],
          [
           288.03746880096867
          ],
          [
           305.88960807990003
          ]
         ],
         "domain": {
          "x": [
           0,
           1
          ],
          "y": [
           0,
           1
          ]
         },
         "hovertemplate": "labels=%{label}<br>sum=%{value}<br>parent=%{parent}<br>id=%{id}<br>median=%{color}<extra></extra>",
         "ids": [
          "A/Electronic accessories/Friday",
          "B/Electronic accessories/Friday",
          "C/Electronic accessories/Friday",
          "A/Fashion accessories/Friday",
          "B/Fashion accessories/Friday",
          "C/Fashion accessories/Friday",
          "A/Food and beverages/Friday",
          "B/Food and beverages/Friday",
          "C/Food and beverages/Friday",
          "A/Health and beauty/Friday",
          "B/Health and beauty/Friday",
          "C/Health and beauty/Friday",
          "A/Home and lifestyle/Friday",
          "B/Home and lifestyle/Friday",
          "C/Home and lifestyle/Friday",
          "A/Sports and travel/Friday",
          "B/Sports and travel/Friday",
          "C/Sports and travel/Friday",
          "A/Electronic accessories/Monday",
          "B/Electronic accessories/Monday",
          "C/Electronic accessories/Monday",
          "A/Fashion accessories/Monday",
          "B/Fashion accessories/Monday",
          "C/Fashion accessories/Monday",
          "A/Food and beverages/Monday",
          "B/Food and beverages/Monday",
          "C/Food and beverages/Monday",
          "A/Health and beauty/Monday",
          "B/Health and beauty/Monday",
          "C/Health and beauty/Monday",
          "A/Home and lifestyle/Monday",
          "B/Home and lifestyle/Monday",
          "C/Home and lifestyle/Monday",
          "A/Sports and travel/Monday",
          "B/Sports and travel/Monday",
          "C/Sports and travel/Monday",
          "A/Electronic accessories/Saturday",
          "B/Electronic accessories/Saturday",
          "C/Electronic accessories/Saturday",
          "A/Fashion accessories/Saturday",
          "B/Fashion accessories/Saturday",
          "C/Fashion accessories/Saturday",
          "A/Food and beverages/Saturday",
          "B/Food and beverages/Saturday",
          "C/Food and beverages/Saturday",
          "A/Health and beauty/Saturday",
          "B/Health and beauty/Saturday",
          "C/Health and beauty/Saturday",
          "A/Home and lifestyle/Saturday",
          "B/Home and lifestyle/Saturday",
          "C/Home and lifestyle/Saturday",
          "A/Sports and travel/Saturday",
          "B/Sports and travel/Saturday",
          "C/Sports and travel/Saturday",
          "A/Electronic accessories/Sunday",
          "B/Electronic accessories/Sunday",
          "C/Electronic accessories/Sunday",
          "A/Fashion accessories/Sunday",
          "B/Fashion accessories/Sunday",
          "C/Fashion accessories/Sunday",
          "A/Food and beverages/Sunday",
          "B/Food and beverages/Sunday",
          "C/Food and beverages/Sunday",
          "A/Health and beauty/Sunday",
          "B/Health and beauty/Sunday",
          "C/Health and beauty/Sunday",
          "A/Home and lifestyle/Sunday",
          "B/Home and lifestyle/Sunday",
          "C/Home and lifestyle/Sunday",
          "A/Sports and travel/Sunday",
          "B/Sports and travel/Sunday",
          "C/Sports and travel/Sunday",
          "A/Electronic accessories/Thursday",
          "B/Electronic accessories/Thursday",
          "C/Electronic accessories/Thursday",
          "A/Fashion accessories/Thursday",
          "B/Fashion accessories/Thursday",
          "C/Fashion accessories/Thursday",
          "A/Food and beverages/Thursday",
          "B/Food and beverages/Thursday",
          "C/Food and beverages/Thursday",
          "A/Health and beauty/Thursday",
          "B/Health and beauty/Thursday",
          "C/Health and beauty/Thursday",
          "A/Home and lifestyle/Thursday",
          "B/Home and lifestyle/Thursday",
          "C/Home and lifestyle/Thursday",
          "A/Sports and travel/Thursday",
          "B/Sports and travel/Thursday",
          "C/Sports and travel/Thursday",
          "A/Electronic accessories/Tuesday",
          "B/Electronic accessories/Tuesday",
          "C/Electronic accessories/Tuesday",
          "A/Fashion accessories/Tuesday",
          "B/Fashion accessories/Tuesday",
          "C/Fashion accessories/Tuesday",
          "A/Food and beverages/Tuesday",
          "B/Food and beverages/Tuesday",
          "C/Food and beverages/Tuesday",
          "A/Health and beauty/Tuesday",
          "B/Health and beauty/Tuesday",
          "C/Health and beauty/Tuesday",
          "A/Home and lifestyle/Tuesday",
          "B/Home and lifestyle/Tuesday",
          "C/Home and lifestyle/Tuesday",
          "A/Sports and travel/Tuesday",
          "B/Sports and travel/Tuesday",
          "C/Sports and travel/Tuesday",
          "A/Electronic accessories/Wednesday",
          "B/Electronic accessories/Wednesday",
          "C/Electronic accessories/Wednesday",
          "A/Fashion accessories/Wednesday",
          "B/Fashion accessories/Wednesday",
          "C/Fashion accessories/Wednesday",
          "A/Food and beverages/Wednesday",
          "B/Food and beverages/Wednesday",
          "C/Food and beverages/Wednesday",
          "A/Health and beauty/Wednesday",
          "B/Health and beauty/Wednesday",
          "C/Health and beauty/Wednesday",
          "A/Home and lifestyle/Wednesday",
          "B/Home and lifestyle/Wednesday",
          "C/Home and lifestyle/Wednesday",
          "A/Sports and travel/Wednesday",
          "B/Sports and travel/Wednesday",
          "C/Sports and travel/Wednesday",
          "A/Electronic accessories",
          "B/Electronic accessories",
          "C/Electronic accessories",
          "A/Fashion accessories",
          "B/Fashion accessories",
          "C/Fashion accessories",
          "A/Food and beverages",
          "B/Food and beverages",
          "C/Food and beverages",
          "A/Health and beauty",
          "B/Health and beauty",
          "C/Health and beauty",
          "A/Home and lifestyle",
          "B/Home and lifestyle",
          "C/Home and lifestyle",
          "A/Sports and travel",
          "B/Sports and travel",
          "C/Sports and travel",
          "A",
          "B",
          "C"
         ],
         "labels": [
          "Friday",
          "Friday",
          "Friday",
          "Friday",
          "Friday",
          "Friday",
          "Friday",
          "Friday",
          "Friday",
          "Friday",
          "Friday",
          "Friday",
          "Friday",
          "Friday",
          "Friday",
          "Friday",
          "Friday",
          "Friday",
          "Monday",
          "Monday",
          "Monday",
          "Monday",
          "Monday",
          "Monday",
          "Monday",
          "Monday",
          "Monday",
          "Monday",
          "Monday",
          "Monday",
          "Monday",
          "Monday",
          "Monday",
          "Monday",
          "Monday",
          "Monday",
          "Saturday",
          "Saturday",
          "Saturday",
          "Saturday",
          "Saturday",
          "Saturday",
          "Saturday",
          "Saturday",
          "Saturday",
          "Saturday",
          "Saturday",
          "Saturday",
          "Saturday",
          "Saturday",
          "Saturday",
          "Saturday",
          "Saturday",
          "Saturday",
          "Sunday",
          "Sunday",
          "Sunday",
          "Sunday",
          "Sunday",
          "Sunday",
          "Sunday",
          "Sunday",
          "Sunday",
          "Sunday",
          "Sunday",
          "Sunday",
          "Sunday",
          "Sunday",
          "Sunday",
          "Sunday",
          "Sunday",
          "Sunday",
          "Thursday",
          "Thursday",
          "Thursday",
          "Thursday",
          "Thursday",
          "Thursday",
          "Thursday",
          "Thursday",
          "Thursday",
          "Thursday",
          "Thursday",
          "Thursday",
          "Thursday",
          "Thursday",
          "Thursday",
          "Thursday",
          "Thursday",
          "Thursday",
          "Tuesday",
          "Tuesday",
          "Tuesday",
          "Tuesday",
          "Tuesday",
          "Tuesday",
          "Tuesday",
          "Tuesday",
          "Tuesday",
          "Tuesday",
          "Tuesday",
          "Tuesday",
          "Tuesday",
          "Tuesday",
          "Tuesday",
          "Tuesday",
          "Tuesday",
          "Tuesday",
          "Wednesday",
          "Wednesday",
          "Wednesday",
          "Wednesday",
          "Wednesday",
          "Wednesday",
          "Wednesday",
          "Wednesday",
          "Wednesday",
          "Wednesday",
          "Wednesday",
          "Wednesday",
          "Wednesday",
          "Wednesday",
          "Wednesday",
          "Wednesday",
          "Wednesday",
          "Wednesday",
          "Electronic accessories",
          "Electronic accessories",
          "Electronic accessories",
          "Fashion accessories",
          "Fashion accessories",
          "Fashion accessories",
          "Food and beverages",
          "Food and beverages",
          "Food and beverages",
          "Health and beauty",
          "Health and beauty",
          "Health and beauty",
          "Home and lifestyle",
          "Home and lifestyle",
          "Home and lifestyle",
          "Sports and travel",
          "Sports and travel",
          "Sports and travel",
          "A",
          "B",
          "C"
         ],
         "marker": {
          "coloraxis": "coloraxis",
          "colors": [
           160.51875,
           164.04149999999998,
           218.0115,
           163.611,
           183.645,
           420.35699999999997,
           211.365,
           261.39225,
           180.56325,
           219.01425000000003,
           251.38049999999998,
           288.057,
           240.08249999999995,
           128.4255,
           548.184,
           421.22325000000006,
           304.91999999999996,
           502.1939999999999,
           194.2395,
           201.978,
           423.738,
           462.672,
           352.5795,
           204.624,
           202.42425,
           374.388,
           133.434,
           216.43649999999997,
           357.588,
           204.2775,
           252.252,
           278.3655,
           293.202,
           226.06499999999997,
           149.49375,
           254.016,
           534.96975,
           256.41,
           229.66649999999998,
           249.00225,
           298.88775,
           193.4625,
           296.58299999999997,
           250.34099999999998,
           337.512,
           381.276,
           231.2415,
           451.8255,
           244.20375,
           379.44375,
           263.28225,
           289.09125,
           234.61199999999997,
           424.4992499999999,
           147.798,
           151.4835,
           354.9525,
           316.47,
           150.8115,
           343.056,
           214.935,
           201.31650000000002,
           347.95425,
           261.59175,
           435.12,
           293.139,
           332.94975,
           261.198,
           338.2155,
           271.278,
           244.8705,
           348.306,
           149.3625,
           356.538,
           343.224,
           525.231,
           310.044,
           273.798,
           367.038,
           446.964,
           209.3385,
           176.4,
           419.45399999999995,
           127.19700000000002,
           319.788,
           263.97,
           148.974,
           161.553,
           207.85800000000003,
           221.886,
           246.67649999999998,
           270.60075,
           389.739,
           151.0215,
           209.769,
           232.15500000000003,
           175.46550000000002,
           263.05649999999997,
           346.8465,
           180.2115,
           351.603,
           178.71,
           281.4945,
           410.18775,
           192.36,
           148.52775,
           280.035,
           388.29,
           295.407,
           148.995,
           184.716,
           94.185,
           158.025,
           310.716,
           284.9175,
           185.48775,
           457.317,
           244.23,
           350.07,
           239.4,
           235.872,
           484.89,
           188.00249999999997,
           280.791,
           352.674,
           153.048,
           264.4883481086417,
           259.77325122032926,
           331.0251099631401,
           290.24784483891443,
           250.32127268015117,
           291.03594577298446,
           268.23397502876884,
           276.52387889508685,
           316.3861126976466,
           233.4806026616413,
           331.0406895965149,
           271.76873270962295,
           278.70977197055606,
           333.88621269734807,
           278.40417036828256,
           267.7708110446289,
           268.6426087403435,
           340.329381291735,
           268.97769647132014,
           288.03746880096867,
           305.88960807990003
          ]
         },
         "name": "",
         "parents": [
          "A/Electronic accessories",
          "B/Electronic accessories",
          "C/Electronic accessories",
          "A/Fashion accessories",
          "B/Fashion accessories",
          "C/Fashion accessories",
          "A/Food and beverages",
          "B/Food and beverages",
          "C/Food and beverages",
          "A/Health and beauty",
          "B/Health and beauty",
          "C/Health and beauty",
          "A/Home and lifestyle",
          "B/Home and lifestyle",
          "C/Home and lifestyle",
          "A/Sports and travel",
          "B/Sports and travel",
          "C/Sports and travel",
          "A/Electronic accessories",
          "B/Electronic accessories",
          "C/Electronic accessories",
          "A/Fashion accessories",
          "B/Fashion accessories",
          "C/Fashion accessories",
          "A/Food and beverages",
          "B/Food and beverages",
          "C/Food and beverages",
          "A/Health and beauty",
          "B/Health and beauty",
          "C/Health and beauty",
          "A/Home and lifestyle",
          "B/Home and lifestyle",
          "C/Home and lifestyle",
          "A/Sports and travel",
          "B/Sports and travel",
          "C/Sports and travel",
          "A/Electronic accessories",
          "B/Electronic accessories",
          "C/Electronic accessories",
          "A/Fashion accessories",
          "B/Fashion accessories",
          "C/Fashion accessories",
          "A/Food and beverages",
          "B/Food and beverages",
          "C/Food and beverages",
          "A/Health and beauty",
          "B/Health and beauty",
          "C/Health and beauty",
          "A/Home and lifestyle",
          "B/Home and lifestyle",
          "C/Home and lifestyle",
          "A/Sports and travel",
          "B/Sports and travel",
          "C/Sports and travel",
          "A/Electronic accessories",
          "B/Electronic accessories",
          "C/Electronic accessories",
          "A/Fashion accessories",
          "B/Fashion accessories",
          "C/Fashion accessories",
          "A/Food and beverages",
          "B/Food and beverages",
          "C/Food and beverages",
          "A/Health and beauty",
          "B/Health and beauty",
          "C/Health and beauty",
          "A/Home and lifestyle",
          "B/Home and lifestyle",
          "C/Home and lifestyle",
          "A/Sports and travel",
          "B/Sports and travel",
          "C/Sports and travel",
          "A/Electronic accessories",
          "B/Electronic accessories",
          "C/Electronic accessories",
          "A/Fashion accessories",
          "B/Fashion accessories",
          "C/Fashion accessories",
          "A/Food and beverages",
          "B/Food and beverages",
          "C/Food and beverages",
          "A/Health and beauty",
          "B/Health and beauty",
          "C/Health and beauty",
          "A/Home and lifestyle",
          "B/Home and lifestyle",
          "C/Home and lifestyle",
          "A/Sports and travel",
          "B/Sports and travel",
          "C/Sports and travel",
          "A/Electronic accessories",
          "B/Electronic accessories",
          "C/Electronic accessories",
          "A/Fashion accessories",
          "B/Fashion accessories",
          "C/Fashion accessories",
          "A/Food and beverages",
          "B/Food and beverages",
          "C/Food and beverages",
          "A/Health and beauty",
          "B/Health and beauty",
          "C/Health and beauty",
          "A/Home and lifestyle",
          "B/Home and lifestyle",
          "C/Home and lifestyle",
          "A/Sports and travel",
          "B/Sports and travel",
          "C/Sports and travel",
          "A/Electronic accessories",
          "B/Electronic accessories",
          "C/Electronic accessories",
          "A/Fashion accessories",
          "B/Fashion accessories",
          "C/Fashion accessories",
          "A/Food and beverages",
          "B/Food and beverages",
          "C/Food and beverages",
          "A/Health and beauty",
          "B/Health and beauty",
          "C/Health and beauty",
          "A/Home and lifestyle",
          "B/Home and lifestyle",
          "C/Home and lifestyle",
          "A/Sports and travel",
          "B/Sports and travel",
          "C/Sports and travel",
          "A",
          "B",
          "C",
          "A",
          "B",
          "C",
          "A",
          "B",
          "C",
          "A",
          "B",
          "C",
          "A",
          "B",
          "C",
          "A",
          "B",
          "C",
          "",
          "",
          ""
         ],
         "type": "sunburst",
         "values": [
          1248.3765,
          1237.824,
          2361.9539999999997,
          2297.7045,
          3073.6335,
          4183.4205,
          1361.073,
          1867.068,
          1330.287,
          1720.005,
          3683.9985,
          2927.0115,
          4596.6900000000005,
          940.3485000000001,
          1338.3825,
          3320.016,
          3614.8875,
          2823.66,
          2347.6215,
          1406.076,
          2168.4285,
          3116.736,
          1688.925,
          1613.8605,
          1193.262,
          2678.508,
          2740.458,
          2710.7745,
          3632.265,
          2105.1975,
          2858.5409999999997,
          1945.125,
          1291.6785,
          2012.1255,
          1383.8055,
          1005.69,
          3148.3305,
          5211.801,
          1384.2465,
          2583.5460000000003,
          4144.1295,
          4051.2465,
          3347.085,
          1982.4315,
          4045.881,
          1330.77,
          2639.1645,
          3440.4089999999997,
          2157.0675,
          4710.279,
          2340.66,
          4198.6140000000005,
          2596.6185,
          2808.5295,
          950.754,
          1148.616,
          4312.5075,
          2739.3765,
          728.217,
          2116.149,
          2859.6330000000003,
          1703.184,
          3200.5995,
          1625.673,
          1599.4335,
          1748.229,
          5699.316,
          3060.1935,
          3312.7815,
          3132.066,
          2175.684,
          2345.4795,
          3780.147,
          4969.9965,
          3685.017,
          1684.599,
          2693.3235,
          3347.967,
          2725.779,
          1139.313,
          2933.5005,
          2314.1475,
          1831.7145,
          1436.6100000000001,
          2305.3275,
          2074.8525,
          1047.123,
          2612.2740000000003,
          3069.423,
          1698.1335,
          4560.99,
          1658.097,
          3891.8355,
          2800.3395,
          2311.701,
          2311.239,
          1375.563,
          3661.0769999999998,
          4811.6565,
          1098.7095,
          4260.1965,
          3200.6835,
          2836.8165,
          3660.867,
          1211.049,
          2282.7945,
          3307.3005,
          2241.33,
          2280.8940000000002,
          1419.033,
          1164.9855,
          1110.2069999999999,
          1773.387,
          3936.1875,
          4300.7055,
          2183.307,
          4704.4725,
          1797.6734999999999,
          2333.8875,
          1757.1855,
          1963.437,
          1157.499,
          3353.8785,
          1814.8095,
          3840.48,
          2839.1055,
          18317.1135,
          17051.4435,
          18968.9745,
          16332.5085,
          16413.3165,
          21560.07,
          17163.1005,
          15214.8885,
          23766.855,
          12597.753,
          19980.66,
          16615.326,
          22417.1955,
          17549.1645,
          13895.553,
          19372.699500000002,
          19988.199,
          15761.928,
          106200.3705,
          106197.672,
          110568.7065
         ]
        }
       ],
       "layout": {
        "coloraxis": {
         "colorbar": {
          "title": {
           "text": "median"
          }
         },
         "colorscale": [
          [
           0,
           "#0d0887"
          ],
          [
           0.1111111111111111,
           "#46039f"
          ],
          [
           0.2222222222222222,
           "#7201a8"
          ],
          [
           0.3333333333333333,
           "#9c179e"
          ],
          [
           0.4444444444444444,
           "#bd3786"
          ],
          [
           0.5555555555555556,
           "#d8576b"
          ],
          [
           0.6666666666666666,
           "#ed7953"
          ],
          [
           0.7777777777777778,
           "#fb9f3a"
          ],
          [
           0.8888888888888888,
           "#fdca26"
          ],
          [
           1,
           "#f0f921"
          ]
         ]
        },
        "legend": {
         "tracegroupgap": 0
        },
        "margin": {
         "t": 60
        },
        "template": {
         "data": {
          "bar": [
           {
            "error_x": {
             "color": "#2a3f5f"
            },
            "error_y": {
             "color": "#2a3f5f"
            },
            "marker": {
             "line": {
              "color": "#E5ECF6",
              "width": 0.5
             },
             "pattern": {
              "fillmode": "overlay",
              "size": 10,
              "solidity": 0.2
             }
            },
            "type": "bar"
           }
          ],
          "barpolar": [
           {
            "marker": {
             "line": {
              "color": "#E5ECF6",
              "width": 0.5
             },
             "pattern": {
              "fillmode": "overlay",
              "size": 10,
              "solidity": 0.2
             }
            },
            "type": "barpolar"
           }
          ],
          "carpet": [
           {
            "aaxis": {
             "endlinecolor": "#2a3f5f",
             "gridcolor": "white",
             "linecolor": "white",
             "minorgridcolor": "white",
             "startlinecolor": "#2a3f5f"
            },
            "baxis": {
             "endlinecolor": "#2a3f5f",
             "gridcolor": "white",
             "linecolor": "white",
             "minorgridcolor": "white",
             "startlinecolor": "#2a3f5f"
            },
            "type": "carpet"
           }
          ],
          "choropleth": [
           {
            "colorbar": {
             "outlinewidth": 0,
             "ticks": ""
            },
            "type": "choropleth"
           }
          ],
          "contour": [
           {
            "colorbar": {
             "outlinewidth": 0,
             "ticks": ""
            },
            "colorscale": [
             [
              0,
              "#0d0887"
             ],
             [
              0.1111111111111111,
              "#46039f"
             ],
             [
              0.2222222222222222,
              "#7201a8"
             ],
             [
              0.3333333333333333,
              "#9c179e"
             ],
             [
              0.4444444444444444,
              "#bd3786"
             ],
             [
              0.5555555555555556,
              "#d8576b"
             ],
             [
              0.6666666666666666,
              "#ed7953"
             ],
             [
              0.7777777777777778,
              "#fb9f3a"
             ],
             [
              0.8888888888888888,
              "#fdca26"
             ],
             [
              1,
              "#f0f921"
             ]
            ],
            "type": "contour"
           }
          ],
          "contourcarpet": [
           {
            "colorbar": {
             "outlinewidth": 0,
             "ticks": ""
            },
            "type": "contourcarpet"
           }
          ],
          "heatmap": [
           {
            "colorbar": {
             "outlinewidth": 0,
             "ticks": ""
            },
            "colorscale": [
             [
              0,
              "#0d0887"
             ],
             [
              0.1111111111111111,
              "#46039f"
             ],
             [
              0.2222222222222222,
              "#7201a8"
             ],
             [
              0.3333333333333333,
              "#9c179e"
             ],
             [
              0.4444444444444444,
              "#bd3786"
             ],
             [
              0.5555555555555556,
              "#d8576b"
             ],
             [
              0.6666666666666666,
              "#ed7953"
             ],
             [
              0.7777777777777778,
              "#fb9f3a"
             ],
             [
              0.8888888888888888,
              "#fdca26"
             ],
             [
              1,
              "#f0f921"
             ]
            ],
            "type": "heatmap"
           }
          ],
          "heatmapgl": [
           {
            "colorbar": {
             "outlinewidth": 0,
             "ticks": ""
            },
            "colorscale": [
             [
              0,
              "#0d0887"
             ],
             [
              0.1111111111111111,
              "#46039f"
             ],
             [
              0.2222222222222222,
              "#7201a8"
             ],
             [
              0.3333333333333333,
              "#9c179e"
             ],
             [
              0.4444444444444444,
              "#bd3786"
             ],
             [
              0.5555555555555556,
              "#d8576b"
             ],
             [
              0.6666666666666666,
              "#ed7953"
             ],
             [
              0.7777777777777778,
              "#fb9f3a"
             ],
             [
              0.8888888888888888,
              "#fdca26"
             ],
             [
              1,
              "#f0f921"
             ]
            ],
            "type": "heatmapgl"
           }
          ],
          "histogram": [
           {
            "marker": {
             "pattern": {
              "fillmode": "overlay",
              "size": 10,
              "solidity": 0.2
             }
            },
            "type": "histogram"
           }
          ],
          "histogram2d": [
           {
            "colorbar": {
             "outlinewidth": 0,
             "ticks": ""
            },
            "colorscale": [
             [
              0,
              "#0d0887"
             ],
             [
              0.1111111111111111,
              "#46039f"
             ],
             [
              0.2222222222222222,
              "#7201a8"
             ],
             [
              0.3333333333333333,
              "#9c179e"
             ],
             [
              0.4444444444444444,
              "#bd3786"
             ],
             [
              0.5555555555555556,
              "#d8576b"
             ],
             [
              0.6666666666666666,
              "#ed7953"
             ],
             [
              0.7777777777777778,
              "#fb9f3a"
             ],
             [
              0.8888888888888888,
              "#fdca26"
             ],
             [
              1,
              "#f0f921"
             ]
            ],
            "type": "histogram2d"
           }
          ],
          "histogram2dcontour": [
           {
            "colorbar": {
             "outlinewidth": 0,
             "ticks": ""
            },
            "colorscale": [
             [
              0,
              "#0d0887"
             ],
             [
              0.1111111111111111,
              "#46039f"
             ],
             [
              0.2222222222222222,
              "#7201a8"
             ],
             [
              0.3333333333333333,
              "#9c179e"
             ],
             [
              0.4444444444444444,
              "#bd3786"
             ],
             [
              0.5555555555555556,
              "#d8576b"
             ],
             [
              0.6666666666666666,
              "#ed7953"
             ],
             [
              0.7777777777777778,
              "#fb9f3a"
             ],
             [
              0.8888888888888888,
              "#fdca26"
             ],
             [
              1,
              "#f0f921"
             ]
            ],
            "type": "histogram2dcontour"
           }
          ],
          "mesh3d": [
           {
            "colorbar": {
             "outlinewidth": 0,
             "ticks": ""
            },
            "type": "mesh3d"
           }
          ],
          "parcoords": [
           {
            "line": {
             "colorbar": {
              "outlinewidth": 0,
              "ticks": ""
             }
            },
            "type": "parcoords"
           }
          ],
          "pie": [
           {
            "automargin": true,
            "type": "pie"
           }
          ],
          "scatter": [
           {
            "fillpattern": {
             "fillmode": "overlay",
             "size": 10,
             "solidity": 0.2
            },
            "type": "scatter"
           }
          ],
          "scatter3d": [
           {
            "line": {
             "colorbar": {
              "outlinewidth": 0,
              "ticks": ""
             }
            },
            "marker": {
             "colorbar": {
              "outlinewidth": 0,
              "ticks": ""
             }
            },
            "type": "scatter3d"
           }
          ],
          "scattercarpet": [
           {
            "marker": {
             "colorbar": {
              "outlinewidth": 0,
              "ticks": ""
             }
            },
            "type": "scattercarpet"
           }
          ],
          "scattergeo": [
           {
            "marker": {
             "colorbar": {
              "outlinewidth": 0,
              "ticks": ""
             }
            },
            "type": "scattergeo"
           }
          ],
          "scattergl": [
           {
            "marker": {
             "colorbar": {
              "outlinewidth": 0,
              "ticks": ""
             }
            },
            "type": "scattergl"
           }
          ],
          "scattermapbox": [
           {
            "marker": {
             "colorbar": {
              "outlinewidth": 0,
              "ticks": ""
             }
            },
            "type": "scattermapbox"
           }
          ],
          "scatterpolar": [
           {
            "marker": {
             "colorbar": {
              "outlinewidth": 0,
              "ticks": ""
             }
            },
            "type": "scatterpolar"
           }
          ],
          "scatterpolargl": [
           {
            "marker": {
             "colorbar": {
              "outlinewidth": 0,
              "ticks": ""
             }
            },
            "type": "scatterpolargl"
           }
          ],
          "scatterternary": [
           {
            "marker": {
             "colorbar": {
              "outlinewidth": 0,
              "ticks": ""
             }
            },
            "type": "scatterternary"
           }
          ],
          "surface": [
           {
            "colorbar": {
             "outlinewidth": 0,
             "ticks": ""
            },
            "colorscale": [
             [
              0,
              "#0d0887"
             ],
             [
              0.1111111111111111,
              "#46039f"
             ],
             [
              0.2222222222222222,
              "#7201a8"
             ],
             [
              0.3333333333333333,
              "#9c179e"
             ],
             [
              0.4444444444444444,
              "#bd3786"
             ],
             [
              0.5555555555555556,
              "#d8576b"
             ],
             [
              0.6666666666666666,
              "#ed7953"
             ],
             [
              0.7777777777777778,
              "#fb9f3a"
             ],
             [
              0.8888888888888888,
              "#fdca26"
             ],
             [
              1,
              "#f0f921"
             ]
            ],
            "type": "surface"
           }
          ],
          "table": [
           {
            "cells": {
             "fill": {
              "color": "#EBF0F8"
             },
             "line": {
              "color": "white"
             }
            },
            "header": {
             "fill": {
              "color": "#C8D4E3"
             },
             "line": {
              "color": "white"
             }
            },
            "type": "table"
           }
          ]
         },
         "layout": {
          "annotationdefaults": {
           "arrowcolor": "#2a3f5f",
           "arrowhead": 0,
           "arrowwidth": 1
          },
          "autotypenumbers": "strict",
          "coloraxis": {
           "colorbar": {
            "outlinewidth": 0,
            "ticks": ""
           }
          },
          "colorscale": {
           "diverging": [
            [
             0,
             "#8e0152"
            ],
            [
             0.1,
             "#c51b7d"
            ],
            [
             0.2,
             "#de77ae"
            ],
            [
             0.3,
             "#f1b6da"
            ],
            [
             0.4,
             "#fde0ef"
            ],
            [
             0.5,
             "#f7f7f7"
            ],
            [
             0.6,
             "#e6f5d0"
            ],
            [
             0.7,
             "#b8e186"
            ],
            [
             0.8,
             "#7fbc41"
            ],
            [
             0.9,
             "#4d9221"
            ],
            [
             1,
             "#276419"
            ]
           ],
           "sequential": [
            [
             0,
             "#0d0887"
            ],
            [
             0.1111111111111111,
             "#46039f"
            ],
            [
             0.2222222222222222,
             "#7201a8"
            ],
            [
             0.3333333333333333,
             "#9c179e"
            ],
            [
             0.4444444444444444,
             "#bd3786"
            ],
            [
             0.5555555555555556,
             "#d8576b"
            ],
            [
             0.6666666666666666,
             "#ed7953"
            ],
            [
             0.7777777777777778,
             "#fb9f3a"
            ],
            [
             0.8888888888888888,
             "#fdca26"
            ],
            [
             1,
             "#f0f921"
            ]
           ],
           "sequentialminus": [
            [
             0,
             "#0d0887"
            ],
            [
             0.1111111111111111,
             "#46039f"
            ],
            [
             0.2222222222222222,
             "#7201a8"
            ],
            [
             0.3333333333333333,
             "#9c179e"
            ],
            [
             0.4444444444444444,
             "#bd3786"
            ],
            [
             0.5555555555555556,
             "#d8576b"
            ],
            [
             0.6666666666666666,
             "#ed7953"
            ],
            [
             0.7777777777777778,
             "#fb9f3a"
            ],
            [
             0.8888888888888888,
             "#fdca26"
            ],
            [
             1,
             "#f0f921"
            ]
           ]
          },
          "colorway": [
           "#636efa",
           "#EF553B",
           "#00cc96",
           "#ab63fa",
           "#FFA15A",
           "#19d3f3",
           "#FF6692",
           "#B6E880",
           "#FF97FF",
           "#FECB52"
          ],
          "font": {
           "color": "#2a3f5f"
          },
          "geo": {
           "bgcolor": "white",
           "lakecolor": "white",
           "landcolor": "#E5ECF6",
           "showlakes": true,
           "showland": true,
           "subunitcolor": "white"
          },
          "hoverlabel": {
           "align": "left"
          },
          "hovermode": "closest",
          "mapbox": {
           "style": "light"
          },
          "paper_bgcolor": "white",
          "plot_bgcolor": "#E5ECF6",
          "polar": {
           "angularaxis": {
            "gridcolor": "white",
            "linecolor": "white",
            "ticks": ""
           },
           "bgcolor": "#E5ECF6",
           "radialaxis": {
            "gridcolor": "white",
            "linecolor": "white",
            "ticks": ""
           }
          },
          "scene": {
           "xaxis": {
            "backgroundcolor": "#E5ECF6",
            "gridcolor": "white",
            "gridwidth": 2,
            "linecolor": "white",
            "showbackground": true,
            "ticks": "",
            "zerolinecolor": "white"
           },
           "yaxis": {
            "backgroundcolor": "#E5ECF6",
            "gridcolor": "white",
            "gridwidth": 2,
            "linecolor": "white",
            "showbackground": true,
            "ticks": "",
            "zerolinecolor": "white"
           },
           "zaxis": {
            "backgroundcolor": "#E5ECF6",
            "gridcolor": "white",
            "gridwidth": 2,
            "linecolor": "white",
            "showbackground": true,
            "ticks": "",
            "zerolinecolor": "white"
           }
          },
          "shapedefaults": {
           "line": {
            "color": "#2a3f5f"
           }
          },
          "ternary": {
           "aaxis": {
            "gridcolor": "white",
            "linecolor": "white",
            "ticks": ""
           },
           "baxis": {
            "gridcolor": "white",
            "linecolor": "white",
            "ticks": ""
           },
           "bgcolor": "#E5ECF6",
           "caxis": {
            "gridcolor": "white",
            "linecolor": "white",
            "ticks": ""
           }
          },
          "title": {
           "x": 0.05
          },
          "xaxis": {
           "automargin": true,
           "gridcolor": "white",
           "linecolor": "white",
           "ticks": "",
           "title": {
            "standoff": 15
           },
           "zerolinecolor": "white",
           "zerolinewidth": 2
          },
          "yaxis": {
           "automargin": true,
           "gridcolor": "white",
           "linecolor": "white",
           "ticks": "",
           "title": {
            "standoff": 15
           },
           "zerolinecolor": "white",
           "zerolinewidth": 2
          }
         }
        }
       }
      }
     },
     "metadata": {},
     "output_type": "display_data"
    }
   ],
   "source": [
    "fig_sun=px.sunburst(df_days, path=['Branch','Product line','Weekday'],values='sum',color='median')\n",
    "fig_sun.show()"
   ]
  },
  {
   "cell_type": "code",
   "execution_count": null,
   "metadata": {},
   "outputs": [],
   "source": []
  }
 ],
 "metadata": {
  "kernelspec": {
   "display_name": "Python 3",
   "language": "python",
   "name": "python3"
  },
  "language_info": {
   "codemirror_mode": {
    "name": "ipython",
    "version": 3
   },
   "file_extension": ".py",
   "mimetype": "text/x-python",
   "name": "python",
   "nbconvert_exporter": "python",
   "pygments_lexer": "ipython3",
   "version": "3.10.9"
  }
 },
 "nbformat": 4,
 "nbformat_minor": 2
}
